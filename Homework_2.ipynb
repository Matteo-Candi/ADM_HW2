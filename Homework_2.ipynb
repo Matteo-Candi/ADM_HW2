{
  "nbformat": 4,
  "nbformat_minor": 0,
  "metadata": {
    "colab": {
      "provenance": [],
      "include_colab_link": true
    },
    "kernelspec": {
      "name": "python3",
      "display_name": "Python 3"
    },
    "language_info": {
      "name": "python"
    }
  },
  "cells": [
    {
      "cell_type": "markdown",
      "metadata": {
        "id": "view-in-github",
        "colab_type": "text"
      },
      "source": [
        "<a href=\"https://colab.research.google.com/github/Matteo-Candi/ADM_HW2_Group17/blob/main/Homework_2\" target=\"_parent\"><img src=\"https://colab.research.google.com/assets/colab-badge.svg\" alt=\"Open In Colab\"/></a>"
      ]
    },
    {
      "cell_type": "markdown",
      "source": [
        "# Homework 2 - ADM - group 17"
      ],
      "metadata": {
        "id": "1xG58qHoeJoU"
      }
    },
    {
      "cell_type": "code",
      "source": [],
      "metadata": {
        "id": "K1SfVrrLeP-_"
      },
      "execution_count": null,
      "outputs": []
    }
  ]
}
