{
  "nbformat": 4,
  "nbformat_minor": 0,
  "metadata": {
    "colab": {
      "provenance": [],
      "include_colab_link": true
    },
    "kernelspec": {
      "name": "python3",
      "display_name": "Python 3"
    },
    "language_info": {
      "name": "python"
    }
  },
  "cells": [
    {
      "cell_type": "markdown",
      "metadata": {
        "id": "view-in-github",
        "colab_type": "text"
      },
      "source": [
        "<a href=\"https://colab.research.google.com/github/Matteo-Candi/ADM_HW2_Group17/blob/main/Homework_2.ipynb\" target=\"_parent\"><img src=\"https://colab.research.google.com/assets/colab-badge.svg\" alt=\"Open In Colab\"/></a>"
      ]
    },
    {
      "cell_type": "markdown",
      "source": [
        "# Homework 2 - ADM - group 17"
      ],
      "metadata": {
        "id": "1xG58qHoeJoU"
      }
    },
    {
      "cell_type": "code",
      "source": [
        "from google.colab import drive\n",
        "drive.mount('/content/drive')"
      ],
      "metadata": {
        "id": "a9MK-OIye5Al",
        "outputId": "59ab7894-51fa-4860-ab8c-6aefd7c1adaa",
        "colab": {
          "base_uri": "https://localhost:8080/"
        }
      },
      "execution_count": null,
      "outputs": [
        {
          "output_type": "stream",
          "name": "stdout",
          "text": [
            "Mounted at /content/drive\n"
          ]
        }
      ]
    },
    {
      "cell_type": "code",
      "source": [
        "#Importing packages\n",
        "import pandas as pd\n",
        "import numpy as np\n",
        "import matplotlib.pyplot as plt"
      ],
      "metadata": {
        "id": "OTp405g3e3ie"
      },
      "execution_count": null,
      "outputs": []
    },
    {
      "cell_type": "code",
      "source": [
        "locations = pd.read_csv('/content/drive/MyDrive/ADM/instagram_locations.csv', sep='\\t')"
      ],
      "metadata": {
        "id": "gZFL8sh3fIZf"
      },
      "execution_count": null,
      "outputs": []
    },
    {
      "cell_type": "code",
      "source": [
        "profiles = pd.read_csv('/content/drive/MyDrive/ADM/instagram_profiles.csv', sep='\\t')"
      ],
      "metadata": {
        "id": "yw8VxBxSg2Kf"
      },
      "execution_count": null,
      "outputs": []
    },
    {
      "cell_type": "code",
      "source": [
        "posts = pd.read_csv('/content/drive/MyDrive/ADM/instagram_profiles.csv', sep='\\t', nrows=500000)"
      ],
      "metadata": {
        "id": "fIg97ULFg2P1"
      },
      "execution_count": null,
      "outputs": []
    },
    {
      "cell_type": "markdown",
      "source": [
        "# RQ1"
      ],
      "metadata": {
        "id": "QZvy2hzGkAx1"
      }
    },
    {
      "cell_type": "code",
      "source": [],
      "metadata": {
        "id": "qy9PsyAckC_c"
      },
      "execution_count": null,
      "outputs": []
    },
    {
      "cell_type": "code",
      "source": [],
      "metadata": {
        "id": "gu13_DIJlHfS"
      },
      "execution_count": null,
      "outputs": []
    },
    {
      "cell_type": "code",
      "source": [],
      "metadata": {
        "id": "BOubBbcilHc5"
      },
      "execution_count": null,
      "outputs": []
    },
    {
      "cell_type": "markdown",
      "source": [
        "# RQ2"
      ],
      "metadata": {
        "id": "HYs6roRJlH6i"
      }
    },
    {
      "cell_type": "code",
      "source": [],
      "metadata": {
        "id": "gSstpmgDlJqb"
      },
      "execution_count": null,
      "outputs": []
    }
  ]
}