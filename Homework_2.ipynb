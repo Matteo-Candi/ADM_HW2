{
  "nbformat": 4,
  "nbformat_minor": 0,
  "metadata": {
    "colab": {
      "provenance": [],
      "include_colab_link": true
    },
    "kernelspec": {
      "name": "python3",
      "display_name": "Python 3"
    },
    "language_info": {
      "name": "python"
    }
  },
  "cells": [
    {
      "cell_type": "markdown",
      "metadata": {
        "id": "view-in-github",
        "colab_type": "text"
      },
      "source": [
        "<a href=\"https://colab.research.google.com/github/Matteo-Candi/ADM_HW2_Group17/blob/main/Homework_2.ipynb\" target=\"_parent\"><img src=\"https://colab.research.google.com/assets/colab-badge.svg\" alt=\"Open In Colab\"/></a>"
      ]
    },
    {
      "cell_type": "markdown",
      "source": [
        "**Homework 2 - ADM - group 17**"
      ],
      "metadata": {
        "id": "1xG58qHoeJoU"
      }
    },
    {
      "cell_type": "code",
      "source": [
        "from google.colab import drive\n",
        "drive.mount('/content/drive')"
      ],
      "metadata": {
        "id": "a9MK-OIye5Al",
        "outputId": "59ab7894-51fa-4860-ab8c-6aefd7c1adaa",
        "colab": {
          "base_uri": "https://localhost:8080/"
        }
      },
      "execution_count": null,
      "outputs": [
        {
          "output_type": "stream",
          "name": "stdout",
          "text": [
            "Mounted at /content/drive\n"
          ]
        }
      ]
    },
    {
      "cell_type": "code",
      "source": [
        "#Importing packages\n",
        "import pandas as pd\n",
        "import numpy as np\n",
        "import matplotlib.pyplot as plt"
      ],
      "metadata": {
        "id": "OTp405g3e3ie"
      },
      "execution_count": null,
      "outputs": []
    },
    {
      "cell_type": "markdown",
      "source": [
        "\n",
        "\n",
        "--------------------------------------------------------------------------------"
      ],
      "metadata": {
        "id": "1sCMEhHbjBGA"
      }
    },
    {
      "cell_type": "markdown",
      "source": [
        "# Research Questions"
      ],
      "metadata": {
        "id": "kiqi32bOh0TW"
      }
    },
    {
      "cell_type": "code",
      "source": [
        "locations = pd.read_csv('/content/drive/MyDrive/ADM/instagram_locations.csv', sep='\\t')"
      ],
      "metadata": {
        "id": "gZFL8sh3fIZf"
      },
      "execution_count": null,
      "outputs": []
    },
    {
      "cell_type": "code",
      "source": [
        "profiles = pd.read_csv('/content/drive/MyDrive/ADM/instagram_profiles.csv', sep='\\t')"
      ],
      "metadata": {
        "id": "yw8VxBxSg2Kf"
      },
      "execution_count": null,
      "outputs": []
    },
    {
      "cell_type": "code",
      "source": [
        "posts = pd.read_csv('/content/drive/MyDrive/ADM/instagram_profiles.csv', sep='\\t', nrows=500000)"
      ],
      "metadata": {
        "id": "fIg97ULFg2P1"
      },
      "execution_count": null,
      "outputs": []
    },
    {
      "cell_type": "markdown",
      "source": [
        "## RQ1"
      ],
      "metadata": {
        "id": "QZvy2hzGkAx1"
      }
    },
    {
      "cell_type": "code",
      "source": [],
      "metadata": {
        "id": "qy9PsyAckC_c"
      },
      "execution_count": null,
      "outputs": []
    },
    {
      "cell_type": "code",
      "source": [],
      "metadata": {
        "id": "gu13_DIJlHfS"
      },
      "execution_count": null,
      "outputs": []
    },
    {
      "cell_type": "code",
      "source": [],
      "metadata": {
        "id": "BOubBbcilHc5"
      },
      "execution_count": null,
      "outputs": []
    },
    {
      "cell_type": "markdown",
      "source": [
        "## RQ2"
      ],
      "metadata": {
        "id": "HYs6roRJlH6i"
      }
    },
    {
      "cell_type": "code",
      "source": [],
      "metadata": {
        "id": "gSstpmgDlJqb"
      },
      "execution_count": null,
      "outputs": []
    },
    {
      "cell_type": "code",
      "source": [],
      "metadata": {
        "id": "3ZOfsNfwhftX"
      },
      "execution_count": null,
      "outputs": []
    },
    {
      "cell_type": "code",
      "source": [],
      "metadata": {
        "id": "4VT51Dtyhgxf"
      },
      "execution_count": null,
      "outputs": []
    },
    {
      "cell_type": "markdown",
      "source": [
        "## RQ3"
      ],
      "metadata": {
        "id": "nrWI2zO6hhH3"
      }
    },
    {
      "cell_type": "code",
      "source": [],
      "metadata": {
        "id": "wBPaZNpYhiZ-"
      },
      "execution_count": null,
      "outputs": []
    },
    {
      "cell_type": "code",
      "source": [],
      "metadata": {
        "id": "Q12Vz8Ithk0O"
      },
      "execution_count": null,
      "outputs": []
    },
    {
      "cell_type": "code",
      "source": [],
      "metadata": {
        "id": "ZFJZWBL2hk2v"
      },
      "execution_count": null,
      "outputs": []
    },
    {
      "cell_type": "markdown",
      "source": [
        "## RQ4"
      ],
      "metadata": {
        "id": "tmdOh-TVhlA-"
      }
    },
    {
      "cell_type": "code",
      "source": [],
      "metadata": {
        "id": "n2jquz2KhlIf"
      },
      "execution_count": null,
      "outputs": []
    },
    {
      "cell_type": "code",
      "source": [],
      "metadata": {
        "id": "1vXsD_DBhlLF"
      },
      "execution_count": null,
      "outputs": []
    },
    {
      "cell_type": "markdown",
      "source": [
        "## RQ5"
      ],
      "metadata": {
        "id": "8GvPBVJKhlSw"
      }
    },
    {
      "cell_type": "code",
      "source": [],
      "metadata": {
        "id": "mVHC7H0rhlbT"
      },
      "execution_count": null,
      "outputs": []
    },
    {
      "cell_type": "code",
      "source": [],
      "metadata": {
        "id": "xSVMmN_PhldY"
      },
      "execution_count": null,
      "outputs": []
    },
    {
      "cell_type": "markdown",
      "source": [
        "## RQ6"
      ],
      "metadata": {
        "id": "t1OgLMjmhlkn"
      }
    },
    {
      "cell_type": "code",
      "source": [],
      "metadata": {
        "id": "H2kkeFHohlsU"
      },
      "execution_count": null,
      "outputs": []
    },
    {
      "cell_type": "code",
      "source": [],
      "metadata": {
        "id": "4V-kwJYBhlvj"
      },
      "execution_count": null,
      "outputs": []
    },
    {
      "cell_type": "markdown",
      "source": [
        "## RQ7"
      ],
      "metadata": {
        "id": "yEeRpsr7hmA-"
      }
    },
    {
      "cell_type": "code",
      "source": [],
      "metadata": {
        "id": "SjXyDjwXiH7a"
      },
      "execution_count": null,
      "outputs": []
    },
    {
      "cell_type": "code",
      "source": [],
      "metadata": {
        "id": "gKuQb15riImG"
      },
      "execution_count": null,
      "outputs": []
    },
    {
      "cell_type": "code",
      "source": [],
      "metadata": {
        "id": "SZTFeb8miIop"
      },
      "execution_count": null,
      "outputs": []
    },
    {
      "cell_type": "markdown",
      "source": [
        "## RQ8"
      ],
      "metadata": {
        "id": "9wgxKKfRiI_Q"
      }
    },
    {
      "cell_type": "code",
      "source": [],
      "metadata": {
        "id": "RO3eMhrciMNX"
      },
      "execution_count": null,
      "outputs": []
    },
    {
      "cell_type": "code",
      "source": [],
      "metadata": {
        "id": "W90OHI-eiMPs"
      },
      "execution_count": null,
      "outputs": []
    },
    {
      "cell_type": "markdown",
      "source": [
        "## Bonus Points"
      ],
      "metadata": {
        "id": "MQvXPL3jiMf_"
      }
    },
    {
      "cell_type": "code",
      "source": [],
      "metadata": {
        "id": "enoIlxyDiO11"
      },
      "execution_count": null,
      "outputs": []
    },
    {
      "cell_type": "code",
      "source": [],
      "metadata": {
        "id": "BzqJvVEwiPQz"
      },
      "execution_count": null,
      "outputs": []
    },
    {
      "cell_type": "markdown",
      "source": [
        "--------------------------------------------------------------------------------"
      ],
      "metadata": {
        "id": "ldpv0m_njKJx"
      }
    },
    {
      "cell_type": "markdown",
      "source": [
        "# Command Line Question"
      ],
      "metadata": {
        "id": "-in3K9r5iPqf"
      }
    },
    {
      "cell_type": "code",
      "source": [],
      "metadata": {
        "id": "DbtLIijuiR2k"
      },
      "execution_count": null,
      "outputs": []
    },
    {
      "cell_type": "code",
      "source": [],
      "metadata": {
        "id": "WX93QIoDiSXd"
      },
      "execution_count": null,
      "outputs": []
    },
    {
      "cell_type": "code",
      "source": [],
      "metadata": {
        "id": "HRaSbGibiSaB"
      },
      "execution_count": null,
      "outputs": []
    },
    {
      "cell_type": "markdown",
      "source": [
        "--------------------------------------------------------------------------------"
      ],
      "metadata": {
        "id": "eVQjP_MrjNiG"
      }
    },
    {
      "cell_type": "markdown",
      "source": [
        "# Algorithmic Question"
      ],
      "metadata": {
        "id": "Z72WmLLbiShN"
      }
    },
    {
      "cell_type": "markdown",
      "source": [
        "## AQ1"
      ],
      "metadata": {
        "id": "7ZJ62kb6iZYM"
      }
    },
    {
      "cell_type": "code",
      "source": [],
      "metadata": {
        "id": "RqNTrRdDiYUC"
      },
      "execution_count": null,
      "outputs": []
    },
    {
      "cell_type": "code",
      "source": [],
      "metadata": {
        "id": "IebDtjBsiYxZ"
      },
      "execution_count": null,
      "outputs": []
    },
    {
      "cell_type": "markdown",
      "source": [
        "## AQ2"
      ],
      "metadata": {
        "id": "p8zD_6y9iiQe"
      }
    },
    {
      "cell_type": "code",
      "source": [],
      "metadata": {
        "id": "I0x2tmgaiix8"
      },
      "execution_count": null,
      "outputs": []
    },
    {
      "cell_type": "code",
      "source": [],
      "metadata": {
        "id": "GNjXrWahii0S"
      },
      "execution_count": null,
      "outputs": []
    }
  ]
}