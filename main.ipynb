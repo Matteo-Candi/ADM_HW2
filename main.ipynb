{
  "cells": [
    {
      "cell_type": "markdown",
      "metadata": {
        "id": "view-in-github",
        "colab_type": "text"
      },
      "source": [
        "<a href=\"https://colab.research.google.com/github/Matteo-Candi/ADM_HW2/blob/kelly/main.ipynb\" target=\"_parent\"><img src=\"https://colab.research.google.com/assets/colab-badge.svg\" alt=\"Open In Colab\"/></a>"
      ]
    },
    {
      "cell_type": "markdown",
      "metadata": {
        "id": "1xG58qHoeJoU"
      },
      "source": [
        "# **Homework 2 - ADM - group 17**"
      ]
    },
    {
      "cell_type": "markdown",
      "metadata": {
        "id": "R9PyBDswjqMj"
      },
      "source": [
        "Description"
      ]
    },
    {
      "cell_type": "markdown",
      "source": [
        "###RQ3"
      ],
      "metadata": {
        "id": "xT0Tyu5vuf5E"
      }
    },
    {
      "cell_type": "code",
      "execution_count": 11,
      "metadata": {
        "id": "OTp405g3e3ie"
      },
      "outputs": [],
      "source": [
        "#Importing packages\n",
        "import pandas as pd\n",
        "import numpy as np\n",
        "import matplotlib.pyplot as plt\n",
        "import seaborn as sns\n",
        "from tqdm import tqdm\n",
        "from collections import Counter\n",
        "import datetime as dt\n",
        "from scipy import stats\n",
        "from scipy.stats import f_oneway, levene"
      ]
    },
    {
      "cell_type": "code",
      "source": [
        "from google.colab import drive\n",
        "drive.mount('/content/drive')"
      ],
      "metadata": {
        "id": "CzNBw-3PhWa3",
        "outputId": "641fa868-b707-401f-ed74-1311167482cd",
        "colab": {
          "base_uri": "https://localhost:8080/"
        }
      },
      "execution_count": 2,
      "outputs": [
        {
          "output_type": "stream",
          "name": "stdout",
          "text": [
            "Mounted at /content/drive\n"
          ]
        }
      ]
    },
    {
      "cell_type": "code",
      "source": [
        "locations = pd.read_csv('/content/drive/MyDrive/ADM/HW2/instagram_locations.csv', sep='\\t')"
      ],
      "metadata": {
        "id": "e1AZyFNthcLP"
      },
      "execution_count": 3,
      "outputs": []
    },
    {
      "cell_type": "code",
      "source": [
        "profiles = pd.read_csv('/content/drive/MyDrive/ADM/HW2/instagram_profiles.csv', sep='\\t')"
      ],
      "metadata": {
        "id": "9S1Ew3Kohc3r"
      },
      "execution_count": 4,
      "outputs": []
    },
    {
      "cell_type": "code",
      "source": [
        "posts = pd.read_csv('/content/drive/MyDrive/ADM/HW2/instagram_posts.csv', usecols= ['cts'], sep='\\t')"
      ],
      "metadata": {
        "id": "qcxGqcDwhiDf"
      },
      "execution_count": 5,
      "outputs": []
    },
    {
      "cell_type": "markdown",
      "source": [
        "What is the most common time in which users publish their posts?"
      ],
      "metadata": {
        "id": "JWmaXIApub01"
      }
    },
    {
      "cell_type": "code",
      "source": [
        "def post_time(data, count):\n",
        "    postime = pd.to_datetime(data.cts).dt.floor('Min').dt.time\n",
        "    grouping = postime.groupby(postime).size().sort_values(ascending=False).head(count)\n",
        "    timing = grouping.index.to_list()\n",
        "    for i in timing:\n",
        "        print('{:02d}:{:02d}:{:02d}'.format(i.hour, i.minute, i.second))\n",
        "print('The most common time in which users publish their posts:', end=' ')\n",
        "post_time(posts, 1)"
      ],
      "metadata": {
        "id": "uWWkWIt5d_aU",
        "outputId": "679e79b3-bafc-436d-fed3-4b8141e89378",
        "colab": {
          "base_uri": "https://localhost:8080/"
        }
      },
      "execution_count": 6,
      "outputs": [
        {
          "output_type": "stream",
          "name": "stdout",
          "text": [
            "The most common time in which users publish their posts: 18:00:00\n"
          ]
        }
      ]
    },
    {
      "cell_type": "markdown",
      "source": [
        "Create a function that receives a time intervals list as a parameter and returns a plot with the number of posts for each given interval."
      ],
      "metadata": {
        "id": "_VZlWmNKd_Ns"
      }
    },
    {
      "cell_type": "code",
      "source": [
        "def plot_posts_time(posts_time):\n",
        "    f = plt.figure()\n",
        "    x_tick = [('06:00:00', '10:59:59'),('11:00:00', '13:59:59'),('14:00:00', '16:59:59'),('17:00:00', '19:59:59'),('20:00:00', '23:59:59'),('00:00:00', '02:59:59'),('03:00:00', '05:59:59')]\n",
        "    plt.xticks(x_tick, [\"{}:00\".format(x).zfill(5) for x in range(0,25)])\n",
        "    plt.ylabel(\"Number of posts\", fontsize=14, labelpad=20)\n",
        "    plt.xlabel(\"Time\", fontsize=14, labelpad=20)\n",
        "    plt.title(\"Daily temporal distribution of posts published\", fontsize=18)\n",
        "    plt.hist(posts_time, bins=range(25), color='blue', ec=\"k\")\n",
        "    f.set_figwidth(14)\n",
        "    f.set_figheight(8)\n",
        "\n",
        "    return"
      ],
      "metadata": {
        "id": "0dxx1yZ0uVAF"
      },
      "execution_count": 9,
      "outputs": []
    },
    {
      "cell_type": "code",
      "source": [
        "def time_interval(data, intervals):\n",
        "    datex = pd.DataFrame(pd.to_datetime(data.cts))\n",
        "    datex.set_index(pd.DatetimeIndex(datex.cts), inplace=True)\n",
        "    calc = 0\n",
        "    value_counts = pd.DataFrame()\n",
        "    for interval in intervals:\n",
        "        start, end = interval\n",
        "        tot = datex.between_time(start, end).count()\n",
        "        tot = int(tot[0])\n",
        "        RES = pd.DataFrame({'time interval (start, end)' : [interval], 'total posts' : tot})\n",
        "        value_counts = value_counts.append(RES)\n",
        "        calc += tot\n",
        "    sns.set()\n",
        "\n",
        "    ax = value_counts.plot(figsize=(14,8), kind='bar', color = 'blue', zorder=3)\n",
        "    a = [0, 1, 2, 3, 4, 5, 6]\n",
        "    plt.xticks(a, intervals, rotation = 30)   \n",
        "    plt.xlabel(\"Time\", fontsize=14, labelpad=20, rotation = 45)\n",
        "    plt.ylabel(\"Number of posts\", fontsize=14, labelpad=20)\n",
        "    plt.title(\"Daily temporal distribution of posts published\", fontsize=18)\n",
        "    plt.show()"
      ],
      "metadata": {
        "id": "VIaWPwoujNOv"
      },
      "execution_count": 41,
      "outputs": []
    },
    {
      "cell_type": "markdown",
      "source": [
        "Use the function that you created in the previous literal to plot the number of posts between the following time intervals:"
      ],
      "metadata": {
        "id": "dR2GY9HylH5h"
      }
    },
    {
      "cell_type": "code",
      "source": [
        "time_intervals = [('06:00:00', '10:59:59'),('11:00:00', '13:59:59'),('14:00:00', '16:59:59'),('17:00:00', '19:59:59'),('20:00:00', '23:59:59'),('00:00:00', '02:59:59'),('03:00:00', '05:59:59')]"
      ],
      "metadata": {
        "id": "CWN77NgvjFCS"
      },
      "execution_count": 19,
      "outputs": []
    },
    {
      "cell_type": "code",
      "source": [
        "time_interval(posts, time_intervals)"
      ],
      "metadata": {
        "id": "h2vRCWbvjLo5",
        "outputId": "06921674-7844-4d28-fc31-fe08bf99b7e2",
        "colab": {
          "base_uri": "https://localhost:8080/",
          "height": 621
        }
      },
      "execution_count": 42,
      "outputs": [
        {
          "output_type": "display_data",
          "data": {
            "text/plain": [
              "<Figure size 1008x576 with 1 Axes>"
            ],
            "image/png": "[encoded data removed]"
          },
          "metadata": {}
        }
      ]
    },
    {
      "cell_type": "markdown",
      "metadata": {
        "id": "Z72WmLLbiShN"
      },
      "source": [
        "# Algorithmic Question"
      ]
    },
    {
      "cell_type": "markdown",
      "metadata": {
        "id": "7ZJ62kb6iZYM"
      },
      "source": [
        "## AQ1"
      ]
    },
    {
      "cell_type": "markdown",
      "source": [
        "[AQ1] Given the following pseudocode, answer the questions:"
      ],
      "metadata": {
        "id": "DvA4EkTPv1Kr"
      }
    },
    {
      "cell_type": "markdown",
      "source": [
        "\n",
        "\n",
        "```\n",
        "Input: \n",
        "    N : an integer \n",
        "    List : array of characters of length N without repetition\n",
        "    \n",
        "function f1(sequence, end): \n",
        "    For i=0 To end:\n",
        "        OUTPUT sequence[i]\n",
        "    EndFor\n",
        "    Output \"\\n\"\n",
        "    \n",
        "function f2(sequence, start, end): \n",
        "    If start = end: \n",
        "        f1(sequence, end)\n",
        "    Else\n",
        "        For i=start To end: \n",
        "            temp <-- sequence[start]\n",
        "            sequence[start] <-- sequence[i]\n",
        "            sequence[i] <-- temp\n",
        "            f2(sequence, start+1, end)\n",
        "            temp <-- sequence[start]\n",
        "            sequence[start] <-- sequence[i]\n",
        "            sequence[i] <-- temp\n",
        "f2(List, 0, N)\n",
        "```"
      ],
      "metadata": {
        "id": "xytPo91Q_2Il"
      }
    },
    {
      "cell_type": "markdown",
      "source": [
        "What is the output of this algorithm? Describe the mechanism of the algorithm in detail . We do not want to know only its final result. (Describe one example on your own)"
      ],
      "metadata": {
        "id": "7KB3J1Tu3Bet"
      }
    },
    {
      "cell_type": "code",
      "execution_count": null,
      "metadata": {
        "id": "lPvdrkVt39De"
      },
      "outputs": [],
      "source": [
        "The aligorithm is the Full Permutation of an array\n",
        "\n",
        "if input list = [1, 2, 3]\n",
        "then output\n",
        "123\n",
        "132\n",
        "213\n",
        "231\n",
        "312\n",
        "321\n",
        "\n",
        "function f1 output the array in Order\n",
        "function f2 swap the order of characters in the array then output it in the new order"
      ]
    },
    {
      "cell_type": "markdown",
      "source": [
        "What is asymptotically (i.e., we are asking for big-O complexity) the algorithm's running time as a function of N?"
      ],
      "metadata": {
        "id": "aboJC1tk4GUa"
      }
    },
    {
      "cell_type": "markdown",
      "source": [
        "O(N^2)"
      ],
      "metadata": {
        "id": "RiWpeAw54bRQ"
      }
    },
    {
      "cell_type": "markdown",
      "source": [
        "Is this algorithm the optimal one to produce this output? If not, can you suggest a better algorithm to perform the same task?"
      ],
      "metadata": {
        "id": "hz00jNZV4oPK"
      }
    },
    {
      "cell_type": "markdown",
      "source": [
        "The algorithms is not the optimal one\n",
        "\n",
        "better algorithm suggested below"
      ],
      "metadata": {
        "id": "-PwfAh0GrYPe"
      }
    },
    {
      "cell_type": "code",
      "execution_count": null,
      "metadata": {
        "id": "DNVDb9JG39De",
        "outputId": "73709e72-ede9-46cc-f432-365448b2dbad",
        "colab": {
          "base_uri": "https://localhost:8080/"
        }
      },
      "outputs": [
        {
          "output_type": "stream",
          "name": "stdout",
          "text": [
            "[1, 2, 3]\n",
            "[1, 3, 2]\n",
            "[2, 1, 3]\n",
            "[2, 3, 1]\n",
            "[3, 1, 2]\n",
            "[3, 2, 1]\n"
          ]
        }
      ],
      "source": [
        "def f(list_start: list, list_remain: list):\n",
        "    if len(list_remain) == 1:\n",
        "        print(list_start+list_remain)\n",
        "    else:\n",
        "        for i in range(len(list_remain)):\n",
        "            list_temp_remain = list_remain.copy()\n",
        "            f(list_start+[list_temp_remain.pop(i)], list_temp_remain)\n",
        "\n",
        "\n",
        "l = [1, 2, 3]\n",
        "f([], l)\n"
      ]
    },
    {
      "cell_type": "code",
      "execution_count": null,
      "metadata": {
        "id": "IebDtjBsiYxZ",
        "outputId": "7901bd1c-97b4-4e4f-89fd-14ab9a5789b5",
        "colab": {
          "base_uri": "https://localhost:8080/"
        }
      },
      "outputs": [
        {
          "output_type": "stream",
          "name": "stdout",
          "text": [
            "[[3, 2, 1], [2, 3, 1], [2, 1, 3], [3, 1, 2], [1, 3, 2], [1, 2, 3]]\n"
          ]
        }
      ],
      "source": [
        "import copy\n",
        "\n",
        "def allPermutation(n):\n",
        "    all_permutation = [[1]]\n",
        "    for i in range(1, n):\n",
        "        update_permutation = []\n",
        "        len1 = len(all_permutation)\n",
        "        for j in range(len1):\n",
        "            len2 = len(all_permutation[j]) + 1\n",
        "            for k in range(len2):\n",
        "                perm = copy.deepcopy(all_permutation[j])\n",
        "                perm.insert(k, i + 1)\n",
        "                update_permutation.append(perm)\n",
        "        all_permutation = update_permutation\n",
        "    return all_permutation\n",
        "\n",
        "\n",
        "print(allPermutation(3))"
      ]
    },
    {
      "cell_type": "markdown",
      "metadata": {
        "id": "p8zD_6y9iiQe"
      },
      "source": [
        "## AQ2"
      ]
    },
    {
      "cell_type": "markdown",
      "source": [
        "[AQ2] Considering the following problem, answer the questions:\n",
        "\n",
        "Alex has a ribbon of length N. He wants to cut the ribbon in a way that fulfils the following three conditions:\n",
        "\n",
        "Each piece of the cut should have an integer length.\n",
        "\n",
        "He should at least cut the ribbon once.\n",
        "\n",
        "The multiplication of the length of all the pieces be the maximum possible"
      ],
      "metadata": {
        "id": "GczXKunk4xQo"
      }
    },
    {
      "cell_type": "markdown",
      "source": [
        "1 Implement a recursive algorithm to help Alex find the maximum possible value after multiplying the length of the pieces. Explain your algorithm in detail."
      ],
      "metadata": {
        "id": "Ucie3Fzn7Vo_"
      }
    },
    {
      "cell_type": "code",
      "execution_count": null,
      "metadata": {
        "id": "GNjXrWahii0S"
      },
      "outputs": [],
      "source": [
        "def cuttingRibbon(self, n: int) -> int:\n",
        "  if n == 2:\n",
        "    return 1\n",
        "    res = -1\n",
        "    for i in range(1, n):\n",
        "      res = max(res, max(i * self.cuttingRope(n - i),i * (n - i)))\n",
        "return res\n",
        "\n",
        "\"\"\"\n",
        "The product is maximized when all segments are of equal length. The optimal number of segments is 3.\n",
        "\n",
        "Each time we cut a piece of ribbon into two pieces, the remaining pieces can be cut or not, so we get a recursive function.\n",
        "\n",
        "F(n)=max(i×(n−i),i×F(n−i)),i=1,2,...,n−2。\n",
        "\"\"\""
      ]
    },
    {
      "cell_type": "markdown",
      "source": [
        "2 Show that the algorithm has exponential running time."
      ],
      "metadata": {
        "id": "zFuT6jOl8FfC"
      }
    },
    {
      "cell_type": "code",
      "source": [],
      "metadata": {
        "id": "ATc7AX4g8Hjw"
      },
      "execution_count": null,
      "outputs": []
    },
    {
      "cell_type": "markdown",
      "source": [
        "3 Now provide a polynomial solution, based on dynamic programming, and compute its running-time complexity."
      ],
      "metadata": {
        "id": "KU17QP1s9HPs"
      }
    },
    {
      "cell_type": "code",
      "source": [
        "def cuttingRibbon(self, n: int) -> int:\n",
        "  dp = [0 for _ in range(n + 1)]\n",
        "  dp[2] = 1\n",
        "  for i in range(3, n + 1):\n",
        "    for j in range(i):\n",
        "      dp[i] = max(dp[i], max((i - j) * j, j * dp[i - j]))\n",
        "return dp[n]"
      ],
      "metadata": {
        "id": "5jWKfNJB9Qnd"
      },
      "execution_count": null,
      "outputs": []
    },
    {
      "cell_type": "markdown",
      "source": [
        "running-time complexity: O(n^2)"
      ],
      "metadata": {
        "id": "SblAFBpk9h7O"
      }
    },
    {
      "cell_type": "markdown",
      "source": [
        "4.Evaluate the running time of your algorithm for the sizes (Ns) in the range of [2, 25], plot the results, and interpret it (if you have implemented two algorithms, please include both in the plot and compare them)."
      ],
      "metadata": {
        "id": "6sUVSdm09vT4"
      }
    },
    {
      "cell_type": "markdown",
      "source": [
        "5.(Optional, mini bonus) Is the algorithm of question 3 optimal? If you belive it, can you prove it? If not, can you find a faster algorithm? In case you found a faster algorithm implement it and explain your algorithm in detail."
      ],
      "metadata": {
        "id": "ACvLrDEu9zmu"
      }
    },
    {
      "cell_type": "code",
      "source": [
        "\"\"\"\n",
        "We find that any number greater than 3 can be split into the sum of the numbers 1, 2, 3, \n",
        "and their remainder to 3 is always 0, 1, 2 \n",
        "so we can just use dp[0], dp[1], dp [2] means all values greater than 3.\n",
        "In this way, the repeated use of the dp array can be completed with only one traversal, and the time complexity can be reduced to O(N).\n",
        "\"\"\"\n",
        "\n",
        "def cuttingRope(self, n):\n",
        "  dp = [0, 1, 1]\n",
        "  for i in range(3, n + 1):\n",
        "    dp[i % 3] = max(max(dp[(i - 1) % 3], i - 1),\n",
        "                    2 * max(dp[(i - 2) % 3], i - 2),\n",
        "                    3 * max(dp[(i - 3) % 3], i - 3))\n",
        "return dp[n % 3]"
      ],
      "metadata": {
        "id": "m1sY0Zni98uG"
      },
      "execution_count": null,
      "outputs": []
    }
  ],
  "metadata": {
    "colab": {
      "provenance": [],
      "include_colab_link": true
    },
    "kernelspec": {
      "display_name": "conda_python3",
      "language": "python",
      "name": "conda_python3"
    },
    "language_info": {
      "codemirror_mode": {
        "name": "ipython",
        "version": 3
      },
      "file_extension": ".py",
      "mimetype": "text/x-python",
      "name": "python",
      "nbconvert_exporter": "python",
      "pygments_lexer": "ipython3",
      "version": "3.8.12"
    }
  },
  "nbformat": 4,
  "nbformat_minor": 0
}