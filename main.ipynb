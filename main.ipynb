{
  "cells": [
    {
      "cell_type": "markdown",
      "metadata": {
        "id": "view-in-github",
        "colab_type": "text"
      },
      "source": [
        "<a href=\"https://colab.research.google.com/github/Matteo-Candi/ADM_HW2/blob/Matteo/main.ipynb\" target=\"_parent\"><img src=\"https://colab.research.google.com/assets/colab-badge.svg\" alt=\"Open In Colab\"/></a>"
      ]
    },
    {
      "cell_type": "markdown",
      "metadata": {
        "id": "1xG58qHoeJoU"
      },
      "source": [
        "# **Homework 2 - ADM - group 17**"
      ]
    },
    {
      "cell_type": "markdown",
      "metadata": {
        "id": "R9PyBDswjqMj"
      },
      "source": [
        "Description"
      ]
    },
    {
      "cell_type": "code",
      "execution_count": 3,
      "metadata": {
        "id": "OTp405g3e3ie"
      },
      "outputs": [],
      "source": [
        "#Importing packages\n",
        "import pandas as pd\n",
        "import numpy as np\n",
        "import matplotlib.pyplot as plt\n",
        "from tqdm import tqdm\n",
        "from collections import Counter\n",
        "import datetime as dt"
      ]
    },
    {
      "cell_type": "code",
      "source": [
        "from google.colab import drive\n",
        "drive.mount('/content/drive')"
      ],
      "metadata": {
        "id": "Ys-6CY1-cHRW",
        "outputId": "e410a34d-0ff4-4380-f524-b1313c42857f",
        "colab": {
          "base_uri": "https://localhost:8080/"
        }
      },
      "execution_count": 2,
      "outputs": [
        {
          "output_type": "stream",
          "name": "stdout",
          "text": [
            "Mounted at /content/drive\n"
          ]
        }
      ]
    },
    {
      "cell_type": "code",
      "source": [
        "locations = pd.read_csv('/content/drive/MyDrive/ADM/instagram_locations.csv', sep='\\t')"
      ],
      "metadata": {
        "id": "uo1fZ-xBcQsF"
      },
      "execution_count": null,
      "outputs": []
    },
    {
      "cell_type": "code",
      "source": [
        "profiles = pd.read_csv('/content/drive/MyDrive/ADM/instagram_profiles.csv', sep='\\t')"
      ],
      "metadata": {
        "id": "zNkehc1GctYd"
      },
      "execution_count": null,
      "outputs": []
    },
    {
      "cell_type": "code",
      "source": [
        "posts = pd.read_csv('/content/drive/MyDrive/ADM/instagram_posts.csv', sep='\\t')"
      ],
      "metadata": {
        "id": "qrvvMHYWcvZA"
      },
      "execution_count": null,
      "outputs": []
    },
    {
      "cell_type": "markdown",
      "metadata": {
        "id": "1sCMEhHbjBGA"
      },
      "source": [
        "\n",
        "\n",
        "--------------------------------------------------------------------------------"
      ]
    },
    {
      "cell_type": "markdown",
      "metadata": {
        "id": "kiqi32bOh0TW"
      },
      "source": [
        "# Research Questions"
      ]
    },
    {
      "cell_type": "markdown",
      "metadata": {
        "id": "QZvy2hzGkAx1"
      },
      "source": [
        "## RQ1"
      ]
    },
    {
      "cell_type": "code",
      "execution_count": null,
      "metadata": {
        "id": "qy9PsyAckC_c"
      },
      "outputs": [],
      "source": []
    },
    {
      "cell_type": "code",
      "execution_count": null,
      "metadata": {
        "id": "gu13_DIJlHfS"
      },
      "outputs": [],
      "source": []
    },
    {
      "cell_type": "code",
      "execution_count": null,
      "metadata": {
        "id": "BOubBbcilHc5"
      },
      "outputs": [],
      "source": []
    },
    {
      "cell_type": "code",
      "source": [],
      "metadata": {
        "id": "aTIKJDF8ZMp5"
      },
      "execution_count": null,
      "outputs": []
    },
    {
      "cell_type": "markdown",
      "metadata": {
        "id": "HYs6roRJlH6i"
      },
      "source": [
        "## RQ2"
      ]
    },
    {
      "cell_type": "markdown",
      "source": [
        "Plot the number of posts for each profile in descending order"
      ],
      "metadata": {
        "id": "BkH3Be6IPJ6Q"
      }
    },
    {
      "cell_type": "code",
      "execution_count": null,
      "metadata": {
        "id": "gSstpmgDlJqb",
        "outputId": "5f2a3d42-edd2-4f1a-9304-5601b40f3416",
        "colab": {
          "base_uri": "https://localhost:8080/",
          "height": 310
        }
      },
      "outputs": [
        {
          "output_type": "display_data",
          "data": {
            "text/plain": [
              "<Figure size 432x288 with 1 Axes>"
            ],
            "image/png": "[encoded data removed]"
          },
          "metadata": {
            "needs_background": "light"
          }
        }
      ],
      "source": [
        "n_posts = profiles.n_posts.dropna()\n",
        "\n",
        "plt.plot(np.sort(n_posts)[::-1]);\n",
        "plt.title('Number of posts for each\\n profile in descending order')\n",
        "plt.ylabel('Log (n posts)')\n",
        "plt.xlabel('Profiles')\n",
        "plt.yscale('log')"
      ]
    },
    {
      "cell_type": "markdown",
      "source": [
        "What posts have the highest number of \"likes\"?"
      ],
      "metadata": {
        "id": "LuQXw0JDPNqY"
      }
    },
    {
      "cell_type": "code",
      "execution_count": null,
      "metadata": {
        "id": "3ZOfsNfwhftX",
        "outputId": "d292638e-654f-489c-dedb-dc0fa4af99ec",
        "colab": {
          "base_uri": "https://localhost:8080/",
          "height": 206
        }
      },
      "outputs": [
        {
          "output_type": "execute_result",
          "data": {
            "text/plain": [
              "              post_id numbr_likes\n",
              "19624085  Bt3yaXmAM0d   8822952.0\n",
              "19623988  BuwffB7g8cK   5447066.0\n",
              "19624082  Buc1gyZAaMQ   5116398.0\n",
              "19623986  BvcukE8AMuG   4271466.0\n",
              "39701024  BqSLFVBFLfq     4264745"
            ],
            "text/html": [
              "\n",
              "  <div id=\"df-7c63c370-4fb9-4d93-a22f-9d18f349e4c0\">\n",
              "    <div class=\"colab-df-container\">\n",
              "      <div>\n",
              "<style scoped>\n",
              "    .dataframe tbody tr th:only-of-type {\n",
              "        vertical-align: middle;\n",
              "    }\n",
              "\n",
              "    .dataframe tbody tr th {\n",
              "        vertical-align: top;\n",
              "    }\n",
              "\n",
              "    .dataframe thead th {\n",
              "        text-align: right;\n",
              "    }\n",
              "</style>\n",
              "<table border=\"1\" class=\"dataframe\">\n",
              "  <thead>\n",
              "    <tr style=\"text-align: right;\">\n",
              "      <th></th>\n",
              "      <th>post_id</th>\n",
              "      <th>numbr_likes</th>\n",
              "    </tr>\n",
              "  </thead>\n",
              "  <tbody>\n",
              "    <tr>\n",
              "      <th>19624085</th>\n",
              "      <td>Bt3yaXmAM0d</td>\n",
              "      <td>8822952.0</td>\n",
              "    </tr>\n",
              "    <tr>\n",
              "      <th>19623988</th>\n",
              "      <td>BuwffB7g8cK</td>\n",
              "      <td>5447066.0</td>\n",
              "    </tr>\n",
              "    <tr>\n",
              "      <th>19624082</th>\n",
              "      <td>Buc1gyZAaMQ</td>\n",
              "      <td>5116398.0</td>\n",
              "    </tr>\n",
              "    <tr>\n",
              "      <th>19623986</th>\n",
              "      <td>BvcukE8AMuG</td>\n",
              "      <td>4271466.0</td>\n",
              "    </tr>\n",
              "    <tr>\n",
              "      <th>39701024</th>\n",
              "      <td>BqSLFVBFLfq</td>\n",
              "      <td>4264745</td>\n",
              "    </tr>\n",
              "  </tbody>\n",
              "</table>\n",
              "</div>\n",
              "      <button class=\"colab-df-convert\" onclick=\"convertToInteractive('df-7c63c370-4fb9-4d93-a22f-9d18f349e4c0')\"\n",
              "              title=\"Convert this dataframe to an interactive table.\"\n",
              "              style=\"display:none;\">\n",
              "        \n",
              "  <svg xmlns=\"http://www.w3.org/2000/svg\" height=\"24px\"viewBox=\"0 0 24 24\"\n",
              "       width=\"24px\">\n",
              "    <path d=\"M0 0h24v24H0V0z\" fill=\"none\"/>\n",
              "    <path d=\"M18.56 5.44l.94 2.06.94-2.06 2.06-.94-2.06-.94-.94-2.06-.94 2.06-2.06.94zm-11 1L8.5 8.5l.94-2.06 2.06-.94-2.06-.94L8.5 2.5l-.94 2.06-2.06.94zm10 10l.94 2.06.94-2.06 2.06-.94-2.06-.94-.94-2.06-.94 2.06-2.06.94z\"/><path d=\"M17.41 7.96l-1.37-1.37c-.4-.4-.92-.59-1.43-.59-.52 0-1.04.2-1.43.59L10.3 9.45l-7.72 7.72c-.78.78-.78 2.05 0 2.83L4 21.41c.39.39.9.59 1.41.59.51 0 1.02-.2 1.41-.59l7.78-7.78 2.81-2.81c.8-.78.8-2.07 0-2.86zM5.41 20L4 18.59l7.72-7.72 1.47 1.35L5.41 20z\"/>\n",
              "  </svg>\n",
              "      </button>\n",
              "      \n",
              "  <style>\n",
              "    .colab-df-container {\n",
              "      display:flex;\n",
              "      flex-wrap:wrap;\n",
              "      gap: 12px;\n",
              "    }\n",
              "\n",
              "    .colab-df-convert {\n",
              "      background-color: #E8F0FE;\n",
              "      border: none;\n",
              "      border-radius: 50%;\n",
              "      cursor: pointer;\n",
              "      display: none;\n",
              "      fill: #1967D2;\n",
              "      height: 32px;\n",
              "      padding: 0 0 0 0;\n",
              "      width: 32px;\n",
              "    }\n",
              "\n",
              "    .colab-df-convert:hover {\n",
              "      background-color: #E2EBFA;\n",
              "      box-shadow: 0px 1px 2px rgba(60, 64, 67, 0.3), 0px 1px 3px 1px rgba(60, 64, 67, 0.15);\n",
              "      fill: #174EA6;\n",
              "    }\n",
              "\n",
              "    [theme=dark] .colab-df-convert {\n",
              "      background-color: #3B4455;\n",
              "      fill: #D2E3FC;\n",
              "    }\n",
              "\n",
              "    [theme=dark] .colab-df-convert:hover {\n",
              "      background-color: #434B5C;\n",
              "      box-shadow: 0px 1px 3px 1px rgba(0, 0, 0, 0.15);\n",
              "      filter: drop-shadow(0px 1px 2px rgba(0, 0, 0, 0.3));\n",
              "      fill: #FFFFFF;\n",
              "    }\n",
              "  </style>\n",
              "\n",
              "      <script>\n",
              "        const buttonEl =\n",
              "          document.querySelector('#df-7c63c370-4fb9-4d93-a22f-9d18f349e4c0 button.colab-df-convert');\n",
              "        buttonEl.style.display =\n",
              "          google.colab.kernel.accessAllowed ? 'block' : 'none';\n",
              "\n",
              "        async function convertToInteractive(key) {\n",
              "          const element = document.querySelector('#df-7c63c370-4fb9-4d93-a22f-9d18f349e4c0');\n",
              "          const dataTable =\n",
              "            await google.colab.kernel.invokeFunction('convertToInteractive',\n",
              "                                                     [key], {});\n",
              "          if (!dataTable) return;\n",
              "\n",
              "          const docLinkHtml = 'Like what you see? Visit the ' +\n",
              "            '<a target=\"_blank\" href=https://colab.research.google.com/notebooks/data_table.ipynb>data table notebook</a>'\n",
              "            + ' to learn more about interactive tables.';\n",
              "          element.innerHTML = '';\n",
              "          dataTable['output_type'] = 'display_data';\n",
              "          await google.colab.output.renderOutput(dataTable, element);\n",
              "          const docLink = document.createElement('div');\n",
              "          docLink.innerHTML = docLinkHtml;\n",
              "          element.appendChild(docLink);\n",
              "        }\n",
              "      </script>\n",
              "    </div>\n",
              "  </div>\n",
              "  "
            ]
          },
          "metadata": {},
          "execution_count": 6
        }
      ],
      "source": [
        "most_likes = pd.DataFrame(columns=['post_id', 'numbr_likes'])\n",
        "\n",
        "for chunk in pd.read_csv('/content/drive/MyDrive/ADM/instagram_posts.csv', sep='\\t', chunksize=500000, usecols=['post_id', 'numbr_likes']):\n",
        "    chunk_most_like = chunk.sort_values(by='numbr_likes', ascending=False).head(5)\n",
        "    most_likes = pd.concat([most_likes, chunk_most_like])\n",
        "\n",
        "# Reading all dataset chunk by chunk we find, after sorting the values, the highest values in the chunk\n",
        "# Then we take the highest among the highest.\n",
        "\n",
        "most_likes.sort_values(by='numbr_likes', ascending=False).head(5)"
      ]
    },
    {
      "cell_type": "markdown",
      "source": [
        "What posts have the most and the least number of comments?"
      ],
      "metadata": {
        "id": "6r2pZVHZPQit"
      }
    },
    {
      "cell_type": "code",
      "source": [
        "most_comment = pd.DataFrame(columns=['post_id', 'number_comments'])\n",
        "least_comment = pd.DataFrame(columns=['post_id', 'number_comments'])\n",
        "\n",
        "for chunk in pd.read_csv('/content/drive/MyDrive/ADM/instagram_posts.csv', sep='\\t', chunksize=500000, usecols=['post_id', 'number_comments']):\n",
        "    chunk_most = chunk.sort_values(by='number_comments', ascending=False).head(5)\n",
        "    chunk_least = chunk.sort_values(by='number_comments', ascending=False).tail(5)\n",
        "    most_comment = pd.concat([most_comment, chunk_most])\n",
        "    least_comment = pd.concat([least_comment, chunk_least])\n",
        "  \n",
        "print('Posts with most comments\\n\\n', most_comment.sort_values(by='number_comments', ascending=False).head(5))\n",
        "print('\\n\\nPosts with least comments\\n\\n', least_comment.sort_values(by='number_comments', ascending=False).head(5))\n",
        "\n",
        "\n",
        "# We take all the dataset by chunk and for every chunk, after ordering it, we take the first and the last five.\n",
        "# In the end we take the highest among the highest and the lowest among the lowest."
      ],
      "metadata": {
        "id": "eSe5wE7szjOC",
        "outputId": "c1194fd2-2019-45df-be16-12afcd66b496",
        "colab": {
          "base_uri": "https://localhost:8080/"
        }
      },
      "execution_count": null,
      "outputs": [
        {
          "output_type": "stream",
          "name": "stdout",
          "text": [
            "Posts with most comments\n",
            "\n",
            "               post_id number_comments\n",
            "41873060  Bx2sPAjHviO          488953\n",
            "12164781  BuGjhWAhAW5          313997\n",
            "33261751  BJ-rkpTgn1N          257488\n",
            "11149127  BMtisIxjhtT          214365\n",
            "9383817   BzOOWj3DfZK          189888\n",
            "\n",
            "\n",
            "Posts with least comments\n",
            "\n",
            "               post_id number_comments\n",
            "77497     BxhcazrhJVo               0\n",
            "29752487  BwiS3P2h_sm               0\n",
            "29752484  BwwhHRUganM               0\n",
            "29499999  Bw4F7e-A3PB               0\n",
            "29374405  BxWHjO0ntUC               0\n"
          ]
        }
      ]
    },
    {
      "cell_type": "markdown",
      "source": [
        "Since the least number of comments in a post is 0, there are a lot posts with this value. Also checking the posts with 1 or 2 comments would be useless because for sure there are a lot. Differently the posts most comented are more interesting and show us the boarderline cases like the first that have almost 500k comments.\n"
      ],
      "metadata": {
        "id": "OV2NsdwQCFqu"
      }
    },
    {
      "cell_type": "markdown",
      "source": [
        "How many posts include tagged locations, and how many do not? Show it using an appropriate chart and comment your results."
      ],
      "metadata": {
        "id": "uWWSNPQ5PTJY"
      }
    },
    {
      "cell_type": "code",
      "source": [
        "loc = 0\n",
        "no_loc = 0\n",
        "\n",
        "for chunk in pd.read_csv('/content/drive/MyDrive/ADM/instagram_posts.csv', sep='\\t', chunksize=500000, usecols=['location_id']):\n",
        "    no_loc += chunk.location_id.isna().sum()\n",
        "    loc += len(chunk)                           # Using chunks we just count the missing values in location_id column\n",
        "\n",
        "\n",
        "plt.pie([loc - no_loc, no_loc], labels=['With', 'Without'], shadow=True, explode=(0, .1),autopct='%1.1f%%')\n",
        "plt.title('Posts and locations tag')\n",
        "plt.show()"
      ],
      "metadata": {
        "id": "4vqoRein9Mcg",
        "colab": {
          "base_uri": "https://localhost:8080/",
          "height": 264
        },
        "outputId": "eb56ab18-b621-4bbf-90ea-8fb65d13f949"
      },
      "execution_count": null,
      "outputs": [
        {
          "output_type": "display_data",
          "data": {
            "text/plain": [
              "<Figure size 432x288 with 1 Axes>"
            ],
            "image/png": "[encoded data removed]"
          },
          "metadata": {}
        }
      ]
    },
    {
      "cell_type": "markdown",
      "source": [
        "How many posts include only photos? How many also have videos?"
      ],
      "metadata": {
        "id": "ijE3gdXiPZ78"
      }
    },
    {
      "cell_type": "code",
      "source": [
        "n_photos = 0\n",
        "n_multy = 0\n",
        "\n",
        "for chunk in pd.read_csv('/content/drive/MyDrive/ADM/instagram_posts.csv', sep='\\t', chunksize=500000, usecols=['post_type']):\n",
        "    for el in chunk.post_type:\n",
        "        if el == 1:\n",
        "            n_photos +=1            # We just count the number of different values of post_type column\n",
        "        elif el == 3:\n",
        "            n_multy += 1\n",
        "\n",
        "print(f'There are {n_photos} posts that include only photos.')\n",
        "print(f'There are {n_multy} posts that include also videos.')"
      ],
      "metadata": {
        "id": "FDorWOWZ9Phi",
        "colab": {
          "base_uri": "https://localhost:8080/"
        },
        "outputId": "9338dc4f-95f9-4326-84bd-7a187bb62ac3"
      },
      "execution_count": null,
      "outputs": [
        {
          "output_type": "stream",
          "name": "stdout",
          "text": [
            "There are 41534486 posts that include only photos.\n",
            "There are 40943 posts that include also videos.\n"
          ]
        }
      ]
    },
    {
      "cell_type": "markdown",
      "source": [
        "What's the percentage of business accounts vs non-business? What can you interpret regarding that percentage?"
      ],
      "metadata": {
        "id": "Ig1_YxRrPhZy"
      }
    },
    {
      "cell_type": "code",
      "execution_count": null,
      "metadata": {
        "id": "4VT51Dtyhgxf",
        "outputId": "2da785ad-6d94-487e-b853-6ffcabb425e4",
        "colab": {
          "base_uri": "https://localhost:8080/",
          "height": 264
        }
      },
      "outputs": [
        {
          "output_type": "display_data",
          "data": {
            "text/plain": [
              "<Figure size 432x288 with 1 Axes>"
            ],
            "image/png": "[encoded data removed]"
          },
          "metadata": {}
        }
      ],
      "source": [
        "business = profiles.is_business_account.dropna()\n",
        "t = sum(business)\n",
        "f = len(business) - t                                  # We just count the quantity of trues and falses in is_business_account column\n",
        "\n",
        "plt.pie([t,f], labels=['Business', 'Not-Business'], shadow=True, explode=(0, .1),autopct='%1.1f%%')\n",
        "plt.title('Types of account')\n",
        "plt.show()"
      ]
    },
    {
      "cell_type": "markdown",
      "source": [
        "The percentage of business account tells us that despite the fact that Instagram it's been created as a platform in which to share photos and videos among users, it is also used a lot from business (almost 25% of total account in our dataset) to share their product and advertise."
      ],
      "metadata": {
        "id": "OZETT9RLLCz9"
      }
    },
    {
      "cell_type": "markdown",
      "metadata": {
        "id": "nrWI2zO6hhH3"
      },
      "source": [
        "## RQ3"
      ]
    },
    {
      "cell_type": "code",
      "execution_count": null,
      "metadata": {
        "id": "wBPaZNpYhiZ-"
      },
      "outputs": [],
      "source": []
    },
    {
      "cell_type": "code",
      "execution_count": null,
      "metadata": {
        "id": "Q12Vz8Ithk0O"
      },
      "outputs": [],
      "source": []
    },
    {
      "cell_type": "code",
      "execution_count": null,
      "metadata": {
        "id": "ZFJZWBL2hk2v"
      },
      "outputs": [],
      "source": []
    },
    {
      "cell_type": "markdown",
      "metadata": {
        "id": "tmdOh-TVhlA-"
      },
      "source": [
        "## RQ4"
      ]
    },
    {
      "cell_type": "code",
      "execution_count": null,
      "metadata": {
        "id": "n2jquz2KhlIf"
      },
      "outputs": [],
      "source": []
    },
    {
      "cell_type": "code",
      "execution_count": null,
      "metadata": {
        "id": "1vXsD_DBhlLF"
      },
      "outputs": [],
      "source": []
    },
    {
      "cell_type": "markdown",
      "metadata": {
        "id": "8GvPBVJKhlSw"
      },
      "source": [
        "## RQ5"
      ]
    },
    {
      "cell_type": "code",
      "execution_count": null,
      "metadata": {
        "id": "mVHC7H0rhlbT"
      },
      "outputs": [],
      "source": []
    },
    {
      "cell_type": "code",
      "execution_count": null,
      "metadata": {
        "id": "xSVMmN_PhldY"
      },
      "outputs": [],
      "source": []
    },
    {
      "cell_type": "markdown",
      "metadata": {
        "id": "t1OgLMjmhlkn"
      },
      "source": [
        "## RQ6"
      ]
    },
    {
      "cell_type": "code",
      "execution_count": null,
      "metadata": {
        "id": "H2kkeFHohlsU"
      },
      "outputs": [],
      "source": []
    },
    {
      "cell_type": "code",
      "execution_count": null,
      "metadata": {
        "id": "4V-kwJYBhlvj"
      },
      "outputs": [],
      "source": []
    },
    {
      "cell_type": "markdown",
      "metadata": {
        "id": "yEeRpsr7hmA-"
      },
      "source": [
        "## RQ7"
      ]
    },
    {
      "cell_type": "markdown",
      "source": [
        "What's the probability that a post receives more than 20% \"likes\" of the number of followers a user has?"
      ],
      "metadata": {
        "id": "Sru9_y3lPlCv"
      }
    },
    {
      "cell_type": "code",
      "execution_count": null,
      "metadata": {
        "id": "SjXyDjwXiH7a",
        "colab": {
          "base_uri": "https://localhost:8080/"
        },
        "outputId": "e134ae08-a3e6-4510-aa53-f05e1c9f96f8"
      },
      "outputs": [
        {
          "output_type": "stream",
          "name": "stdout",
          "text": [
            "The probability is: 15.2%\n"
          ]
        }
      ],
      "source": [
        "profiles_followers = profiles[['sid', 'followers']]\n",
        "profiles_followers = profiles_followers[profiles_followers.followers != 0].dropna()\n",
        "\n",
        "# we remove all the profiles with missing value(1056815) and with 0 followers (22115)\n",
        "\n",
        "all = 0\n",
        "tot = 0\n",
        "for chunk in pd.read_csv('/content/drive/MyDrive/ADM/instagram_posts.csv', sep='\\t', chunksize=500000, usecols=['sid_profile', 'numbr_likes']): \n",
        "    data = pd.merge(chunk, profiles_followers, left_on='sid_profile', right_on='sid').drop('sid', axis=1)   \n",
        "    all += (data.apply(lambda x: x.numbr_likes/ x.followers, axis=1) > 0.2).sum()                            \n",
        "    tot += len(data)\n",
        "\n",
        "    # merging the chunks and the profiles to get a new dataset with n_likes and n_followers for every post\n",
        "    # counting all the rows that have (n_likes / n_followers) > 0.2\n",
        "\n",
        "print(f\"The probability is: {round(all/tot, 3) * 100}%\")"
      ]
    },
    {
      "cell_type": "markdown",
      "source": [
        "Do users usually return to locations? Extract the probability that a user returns to a site after having posted it in the past. Does that probability make sense to you? Explain why or why not."
      ],
      "metadata": {
        "id": "mC3lRICkPt_5"
      }
    },
    {
      "cell_type": "code",
      "source": [
        "profiles = list(profiles.sid)\n",
        "prof_dict = {k: [] for k in profiles}       # creating a dictionary with all profiles\n",
        "\n",
        "for chunk in pd.read_csv('/content/drive/MyDrive/ADM/instagram_posts.csv', sep='\\t', chunksize=500000, usecols=['sid_profile', 'location_id']): \n",
        "    chunk = chunk[chunk.sid_profile != -1].dropna()             # cleaning the chunk\n",
        "    for loc, prof in zip(chunk.location_id, chunk.sid_profile):\n",
        "        prof_dict[int(prof)].append(loc)            # appending to profiles any locations they visited\n",
        "\n",
        "count = 0\n",
        "tot = 0\n",
        "for item in prof_dict.values():         # counting for every profiles how many times they visited every location where they posted\n",
        "    d = Counter(item)\n",
        "    v = [i for i in d.values() if i > 1]        \n",
        "    count += len(v)                     # counting the locations where they have been more than once\n",
        "    tot += len(set(item))\n",
        "\n",
        "print(f\"The probability is: {round(count/tot, 3) * 100}%\")"
      ],
      "metadata": {
        "id": "sL5fOQ4o3XM_",
        "outputId": "df3fefb1-84f4-4ecd-804a-bf1103ed4e53",
        "colab": {
          "base_uri": "https://localhost:8080/"
        }
      },
      "execution_count": null,
      "outputs": [
        {
          "output_type": "stream",
          "name": "stdout",
          "text": [
            "The probability is: 18.8%\n"
          ]
        }
      ]
    },
    {
      "cell_type": "markdown",
      "source": [
        "We compute this  probability supposing that a user posts a post only when he goes in a location. So of course this result can not have sense because a user could also posts something with the same location of the previous posts having taken a picture in the same moment of the previous. So posting a post with a location that is the same of some previous one not imply that the user is back in the same place and so this probability doesn't have any sense."
      ],
      "metadata": {
        "id": "8oYbhmEN-njl"
      }
    },
    {
      "cell_type": "markdown",
      "metadata": {
        "id": "9wgxKKfRiI_Q"
      },
      "source": [
        "## RQ8"
      ]
    },
    {
      "cell_type": "markdown",
      "source": [
        "Does more “likes” also mean more comments? Plot a scatter plot of “likes” vs comments for posts."
      ],
      "metadata": {
        "id": "2ETcJn5NeGG_"
      }
    },
    {
      "cell_type": "code",
      "execution_count": 4,
      "metadata": {
        "id": "W90OHI-eiMPs",
        "outputId": "f046c06b-cc1a-4de2-e05c-2060e62efcaf",
        "colab": {
          "base_uri": "https://localhost:8080/",
          "height": 232
        }
      },
      "outputs": [
        {
          "output_type": "error",
          "ename": "ParserError",
          "evalue": "ignored",
          "traceback": [
            "\u001b[0;31m---------------------------------------------------------------------------\u001b[0m",
            "\u001b[0;31mParserError\u001b[0m                               Traceback (most recent call last)",
            "\u001b[0;32m<ipython-input-4-2b6a1410be9e>\u001b[0m in \u001b[0;36m<module>\u001b[0;34m\u001b[0m\n\u001b[0;32m----> 1\u001b[0;31m \u001b[0mposts\u001b[0m \u001b[0;34m=\u001b[0m \u001b[0mpd\u001b[0m\u001b[0;34m.\u001b[0m\u001b[0mread_csv\u001b[0m\u001b[0;34m(\u001b[0m\u001b[0;34m'/content/drive/MyDrive/ADM/instagram_posts.csv'\u001b[0m\u001b[0;34m,\u001b[0m \u001b[0msep\u001b[0m\u001b[0;34m=\u001b[0m\u001b[0;34m'\\t'\u001b[0m\u001b[0;34m,\u001b[0m \u001b[0musecols\u001b[0m\u001b[0;34m=\u001b[0m\u001b[0;34m[\u001b[0m\u001b[0;34m'numbr_likes'\u001b[0m\u001b[0;34m,\u001b[0m \u001b[0;34m'number_comments'\u001b[0m\u001b[0;34m,\u001b[0m \u001b[0;34m'cts'\u001b[0m\u001b[0;34m]\u001b[0m\u001b[0;34m)\u001b[0m\u001b[0;34m\u001b[0m\u001b[0;34m\u001b[0m\u001b[0m\n\u001b[0m",
            "\u001b[0;32m/usr/local/lib/python3.7/dist-packages/pandas/util/_decorators.py\u001b[0m in \u001b[0;36mwrapper\u001b[0;34m(*args, **kwargs)\u001b[0m\n\u001b[1;32m    309\u001b[0m                     \u001b[0mstacklevel\u001b[0m\u001b[0;34m=\u001b[0m\u001b[0mstacklevel\u001b[0m\u001b[0;34m,\u001b[0m\u001b[0;34m\u001b[0m\u001b[0;34m\u001b[0m\u001b[0m\n\u001b[1;32m    310\u001b[0m                 )\n\u001b[0;32m--> 311\u001b[0;31m             \u001b[0;32mreturn\u001b[0m \u001b[0mfunc\u001b[0m\u001b[0;34m(\u001b[0m\u001b[0;34m*\u001b[0m\u001b[0margs\u001b[0m\u001b[0;34m,\u001b[0m \u001b[0;34m**\u001b[0m\u001b[0mkwargs\u001b[0m\u001b[0;34m)\u001b[0m\u001b[0;34m\u001b[0m\u001b[0;34m\u001b[0m\u001b[0m\n\u001b[0m\u001b[1;32m    312\u001b[0m \u001b[0;34m\u001b[0m\u001b[0m\n\u001b[1;32m    313\u001b[0m         \u001b[0;32mreturn\u001b[0m \u001b[0mwrapper\u001b[0m\u001b[0;34m\u001b[0m\u001b[0;34m\u001b[0m\u001b[0m\n",
            "\u001b[0;32m/usr/local/lib/python3.7/dist-packages/pandas/io/parsers/readers.py\u001b[0m in \u001b[0;36mread_csv\u001b[0;34m(filepath_or_buffer, sep, delimiter, header, names, index_col, usecols, squeeze, prefix, mangle_dupe_cols, dtype, engine, converters, true_values, false_values, skipinitialspace, skiprows, skipfooter, nrows, na_values, keep_default_na, na_filter, verbose, skip_blank_lines, parse_dates, infer_datetime_format, keep_date_col, date_parser, dayfirst, cache_dates, iterator, chunksize, compression, thousands, decimal, lineterminator, quotechar, quoting, doublequote, escapechar, comment, encoding, encoding_errors, dialect, error_bad_lines, warn_bad_lines, on_bad_lines, delim_whitespace, low_memory, memory_map, float_precision, storage_options)\u001b[0m\n\u001b[1;32m    584\u001b[0m     \u001b[0mkwds\u001b[0m\u001b[0;34m.\u001b[0m\u001b[0mupdate\u001b[0m\u001b[0;34m(\u001b[0m\u001b[0mkwds_defaults\u001b[0m\u001b[0;34m)\u001b[0m\u001b[0;34m\u001b[0m\u001b[0;34m\u001b[0m\u001b[0m\n\u001b[1;32m    585\u001b[0m \u001b[0;34m\u001b[0m\u001b[0m\n\u001b[0;32m--> 586\u001b[0;31m     \u001b[0;32mreturn\u001b[0m \u001b[0m_read\u001b[0m\u001b[0;34m(\u001b[0m\u001b[0mfilepath_or_buffer\u001b[0m\u001b[0;34m,\u001b[0m \u001b[0mkwds\u001b[0m\u001b[0;34m)\u001b[0m\u001b[0;34m\u001b[0m\u001b[0;34m\u001b[0m\u001b[0m\n\u001b[0m\u001b[1;32m    587\u001b[0m \u001b[0;34m\u001b[0m\u001b[0m\n\u001b[1;32m    588\u001b[0m \u001b[0;34m\u001b[0m\u001b[0m\n",
            "\u001b[0;32m/usr/local/lib/python3.7/dist-packages/pandas/io/parsers/readers.py\u001b[0m in \u001b[0;36m_read\u001b[0;34m(filepath_or_buffer, kwds)\u001b[0m\n\u001b[1;32m    486\u001b[0m \u001b[0;34m\u001b[0m\u001b[0m\n\u001b[1;32m    487\u001b[0m     \u001b[0;32mwith\u001b[0m \u001b[0mparser\u001b[0m\u001b[0;34m:\u001b[0m\u001b[0;34m\u001b[0m\u001b[0;34m\u001b[0m\u001b[0m\n\u001b[0;32m--> 488\u001b[0;31m         \u001b[0;32mreturn\u001b[0m \u001b[0mparser\u001b[0m\u001b[0;34m.\u001b[0m\u001b[0mread\u001b[0m\u001b[0;34m(\u001b[0m\u001b[0mnrows\u001b[0m\u001b[0;34m)\u001b[0m\u001b[0;34m\u001b[0m\u001b[0;34m\u001b[0m\u001b[0m\n\u001b[0m\u001b[1;32m    489\u001b[0m \u001b[0;34m\u001b[0m\u001b[0m\n\u001b[1;32m    490\u001b[0m \u001b[0;34m\u001b[0m\u001b[0m\n",
            "\u001b[0;32m/usr/local/lib/python3.7/dist-packages/pandas/io/parsers/readers.py\u001b[0m in \u001b[0;36mread\u001b[0;34m(self, nrows)\u001b[0m\n\u001b[1;32m   1045\u001b[0m     \u001b[0;32mdef\u001b[0m \u001b[0mread\u001b[0m\u001b[0;34m(\u001b[0m\u001b[0mself\u001b[0m\u001b[0;34m,\u001b[0m \u001b[0mnrows\u001b[0m\u001b[0;34m=\u001b[0m\u001b[0;32mNone\u001b[0m\u001b[0;34m)\u001b[0m\u001b[0;34m:\u001b[0m\u001b[0;34m\u001b[0m\u001b[0;34m\u001b[0m\u001b[0m\n\u001b[1;32m   1046\u001b[0m         \u001b[0mnrows\u001b[0m \u001b[0;34m=\u001b[0m \u001b[0mvalidate_integer\u001b[0m\u001b[0;34m(\u001b[0m\u001b[0;34m\"nrows\"\u001b[0m\u001b[0;34m,\u001b[0m \u001b[0mnrows\u001b[0m\u001b[0;34m)\u001b[0m\u001b[0;34m\u001b[0m\u001b[0;34m\u001b[0m\u001b[0m\n\u001b[0;32m-> 1047\u001b[0;31m         \u001b[0mindex\u001b[0m\u001b[0;34m,\u001b[0m \u001b[0mcolumns\u001b[0m\u001b[0;34m,\u001b[0m \u001b[0mcol_dict\u001b[0m \u001b[0;34m=\u001b[0m \u001b[0mself\u001b[0m\u001b[0;34m.\u001b[0m\u001b[0m_engine\u001b[0m\u001b[0;34m.\u001b[0m\u001b[0mread\u001b[0m\u001b[0;34m(\u001b[0m\u001b[0mnrows\u001b[0m\u001b[0;34m)\u001b[0m\u001b[0;34m\u001b[0m\u001b[0;34m\u001b[0m\u001b[0m\n\u001b[0m\u001b[1;32m   1048\u001b[0m \u001b[0;34m\u001b[0m\u001b[0m\n\u001b[1;32m   1049\u001b[0m         \u001b[0;32mif\u001b[0m \u001b[0mindex\u001b[0m \u001b[0;32mis\u001b[0m \u001b[0;32mNone\u001b[0m\u001b[0;34m:\u001b[0m\u001b[0;34m\u001b[0m\u001b[0;34m\u001b[0m\u001b[0m\n",
            "\u001b[0;32m/usr/local/lib/python3.7/dist-packages/pandas/io/parsers/c_parser_wrapper.py\u001b[0m in \u001b[0;36mread\u001b[0;34m(self, nrows)\u001b[0m\n\u001b[1;32m    222\u001b[0m         \u001b[0;32mtry\u001b[0m\u001b[0;34m:\u001b[0m\u001b[0;34m\u001b[0m\u001b[0;34m\u001b[0m\u001b[0m\n\u001b[1;32m    223\u001b[0m             \u001b[0;32mif\u001b[0m \u001b[0mself\u001b[0m\u001b[0;34m.\u001b[0m\u001b[0mlow_memory\u001b[0m\u001b[0;34m:\u001b[0m\u001b[0;34m\u001b[0m\u001b[0;34m\u001b[0m\u001b[0m\n\u001b[0;32m--> 224\u001b[0;31m                 \u001b[0mchunks\u001b[0m \u001b[0;34m=\u001b[0m \u001b[0mself\u001b[0m\u001b[0;34m.\u001b[0m\u001b[0m_reader\u001b[0m\u001b[0;34m.\u001b[0m\u001b[0mread_low_memory\u001b[0m\u001b[0;34m(\u001b[0m\u001b[0mnrows\u001b[0m\u001b[0;34m)\u001b[0m\u001b[0;34m\u001b[0m\u001b[0;34m\u001b[0m\u001b[0m\n\u001b[0m\u001b[1;32m    225\u001b[0m                 \u001b[0;31m# destructive to chunks\u001b[0m\u001b[0;34m\u001b[0m\u001b[0;34m\u001b[0m\u001b[0;34m\u001b[0m\u001b[0m\n\u001b[1;32m    226\u001b[0m                 \u001b[0mdata\u001b[0m \u001b[0;34m=\u001b[0m \u001b[0m_concatenate_chunks\u001b[0m\u001b[0;34m(\u001b[0m\u001b[0mchunks\u001b[0m\u001b[0;34m)\u001b[0m\u001b[0;34m\u001b[0m\u001b[0;34m\u001b[0m\u001b[0m\n",
            "\u001b[0;32m/usr/local/lib/python3.7/dist-packages/pandas/_libs/parsers.pyx\u001b[0m in \u001b[0;36mpandas._libs.parsers.TextReader.read_low_memory\u001b[0;34m()\u001b[0m\n",
            "\u001b[0;32m/usr/local/lib/python3.7/dist-packages/pandas/_libs/parsers.pyx\u001b[0m in \u001b[0;36mpandas._libs.parsers.TextReader._read_rows\u001b[0;34m()\u001b[0m\n",
            "\u001b[0;32m/usr/local/lib/python3.7/dist-packages/pandas/_libs/parsers.pyx\u001b[0m in \u001b[0;36mpandas._libs.parsers.TextReader._tokenize_rows\u001b[0;34m()\u001b[0m\n",
            "\u001b[0;32m/usr/local/lib/python3.7/dist-packages/pandas/_libs/parsers.pyx\u001b[0m in \u001b[0;36mpandas._libs.parsers.raise_parser_error\u001b[0;34m()\u001b[0m\n",
            "\u001b[0;31mParserError\u001b[0m: Error tokenizing data. C error: Calling read(nbytes) on source failed. Try engine='python'."
          ]
        }
      ],
      "source": [
        "posts = pd.read_csv('/content/drive/MyDrive/ADM/instagram_posts.csv', sep='\\t', usecols=['numbr_likes', 'number_comments', 'cts'])"
      ]
    },
    {
      "cell_type": "code",
      "execution_count": 6,
      "metadata": {
        "id": "RO3eMhrciMNX",
        "colab": {
          "base_uri": "https://localhost:8080/",
          "height": 295
        },
        "outputId": "a43ac798-e40e-44b9-89c6-475a52fbd2a4"
      },
      "outputs": [
        {
          "output_type": "display_data",
          "data": {
            "text/plain": [
              "<Figure size 432x288 with 1 Axes>"
            ],
            "image/png": "[encoded data removed]"
          },
          "metadata": {
            "needs_background": "light"
          }
        }
      ],
      "source": [
        "plt.scatter(posts.numbr_likes, posts.number_comments, color='darkorange', s=.8)\n",
        "plt.xlim([0, 1000000])      # Here we don't care about outliers but we only want readble informations on the scatterplot so we use appropriate ranges\n",
        "plt.ylim([0, 50000])\n",
        "plt.title('Likes and Comments')\n",
        "plt.xlabel('Likes')\n",
        "plt.ylabel('Comments')\n",
        "plt.show()"
      ]
    },
    {
      "cell_type": "markdown",
      "source": [
        "On this plot we don't see any particular correlation between likes and comments. Therefore more likes doesn't mean also more comments, rather we notice that as the likes increase, the comments remain constant.\n",
        "\n"
      ],
      "metadata": {
        "id": "H2QRU0PkXB4d"
      }
    },
    {
      "cell_type": "markdown",
      "source": [
        "Can you find any significant relationship between the time a user publishes a post and the number of comments and “likes”? Use an appropriate statistical test or technique and support your choice."
      ],
      "metadata": {
        "id": "-4FgBl9weVns"
      }
    },
    {
      "cell_type": "code",
      "source": [
        "posts.cts = pd.to_datetime(posts.cts).dt.floor('h').dt.time"
      ],
      "metadata": {
        "id": "pXjh2pTbaRTv"
      },
      "execution_count": null,
      "outputs": []
    },
    {
      "cell_type": "code",
      "source": [
        "posts.cts.groupby(posts.cts).count().plot(kind=\"bar\")\n",
        "plt.title(\"Frequencies of posts in hours\")\n",
        "plt.xlabel(\"\\nHours\")\n",
        "plt.ylabel(\"Frequency\")\n",
        "plt.show()\n"
      ],
      "metadata": {
        "id": "eNEHYPOHkjEy",
        "outputId": "c96a66f3-5b10-46cc-b086-39fbb8dae0e3",
        "colab": {
          "base_uri": "https://localhost:8080/",
          "height": 341
        }
      },
      "execution_count": 33,
      "outputs": [
        {
          "output_type": "display_data",
          "data": {
            "text/plain": [
              "<Figure size 432x288 with 1 Axes>"
            ],
            "image/png": "[encoded data removed]"
          },
          "metadata": {
            "needs_background": "light"
          }
        }
      ]
    },
    {
      "cell_type": "code",
      "source": [
        "likes = posts.groupby(posts.cts).apply(lambda x: x.numbr_likes)\n",
        "comment = posts.groupby(posts.cts).apply(lambda x: x.number_comments)"
      ],
      "metadata": {
        "id": "drOWkgmjoivJ"
      },
      "execution_count": null,
      "outputs": []
    },
    {
      "cell_type": "code",
      "source": [
        "likes"
      ],
      "metadata": {
        "id": "NzvBLgQRo90s"
      },
      "execution_count": null,
      "outputs": []
    },
    {
      "cell_type": "markdown",
      "source": [
        "What’s the distribution of followers? Plot the empirical distribution of followers amongst all users and extract the mean, mode, and quantiles. Interpret those figures."
      ],
      "metadata": {
        "id": "OxO_r9SbeXpM"
      }
    },
    {
      "cell_type": "code",
      "source": [
        "followers = np.array(profiles.followers.dropna())\n",
        "followers= followers[followers != 0]        # 22115 cases\n",
        "followers= followers[followers != 1]        # 9071 cases\n",
        "\n",
        "mean = round(followers.mean(), 2)\n",
        "\n",
        "stats = Counter(followers)\n",
        "mode = max(stats, key=stats.get)\n",
        "\n",
        "rng = np.arange(10,91,10)\n",
        "quant = np.percentile(followers,rng)\n",
        "data = {'Quantile': rng, 'Value': quant}\n",
        "quantiles = pd.DataFrame(data)\n",
        "\n",
        "print(\"The mean is:\", mean)\n",
        "print(\"The mode is:\", mode)\n",
        "print(\"\\n\", quantiles)\n",
        "\n",
        "follower = followers[followers < quant[-1]]\n",
        "\n",
        "plt.hist(follower, bins = 50, ec=\"white\")      # We plot just the 90% of lowest units to have a clear rapresentation of the followers distribution\n",
        "plt.title(\"Followers Ditribution\")\n",
        "plt.xlabel(\"Followers\")\n",
        "plt.ylabel(\"Density\")\n",
        "plt.show()\n"
      ],
      "metadata": {
        "id": "jYEZfqUPfHEO",
        "outputId": "c9ba0a7f-1774-49e7-d394-86cd84351f19",
        "colab": {
          "base_uri": "https://localhost:8080/",
          "height": 535
        }
      },
      "execution_count": null,
      "outputs": [
        {
          "output_type": "stream",
          "name": "stdout",
          "text": [
            "The mean is: 4783.1\n",
            "The mode is: 50.0\n",
            "\n",
            "    Quantile   Value\n",
            "0        10    65.0\n",
            "1        20   129.0\n",
            "2        30   204.0\n",
            "3        40   294.0\n",
            "4        50   412.0\n",
            "5        60   570.0\n",
            "6        70   813.0\n",
            "7        80  1201.0\n",
            "8        90  2531.0\n"
          ]
        },
        {
          "output_type": "display_data",
          "data": {
            "text/plain": [
              "<Figure size 432x288 with 1 Axes>"
            ],
            "image/png": "[encoded data removed]"
          },
          "metadata": {
            "needs_background": "light"
          }
        }
      ]
    },
    {
      "cell_type": "markdown",
      "source": [
        "If we leave the profiles with 0 and 1 followers (31186 cases) the mode will be 0 and the mean value will decrease to 4739.9 but the form of the distribution will be almost the same. From the chart we can see how, incresing the number of the followers, the quantity of profiles with this number decrease very quickly. This implies that there are a lot of profiles with a low number of followers and only a few profiles with many followers."
      ],
      "metadata": {
        "id": "d6fNlSo8vf9A"
      }
    },
    {
      "cell_type": "markdown",
      "source": [
        "What are histograms, bar plots, scatterplots and pie charts used for?"
      ],
      "metadata": {
        "id": "jaUbyDYXeXId"
      }
    },
    {
      "cell_type": "markdown",
      "source": [
        "* <ins> Histogram </ins>: It's used to represent the distribution of a single continuous variable. The bins are the intervals in which this variable it's been splitted and the high of the column represents how many time a value of this variable occurred in that interval.\n",
        "* <ins> Bar Plot </ins>: This chart corresponding to the Histogram for discrete variables. Every bin represents a value which can be assumed by the variable and the high of the column tells us how many times the variable assumes that value.\n",
        "* <ins> Scatterplot </ins>: This chart is used to plot a series of units that have two different attributes. Thanks to this we can see how the variables behave with each other, if there is some type of correlation.\n",
        "* <ins> Pie Chart </ins>: The pie chart is another way to represent what values a discrete variable takes  and, reporting these values of the respective relative frequencies, give use a visual the information what portion of the total every different value takes."
      ],
      "metadata": {
        "id": "FJxXiGxFEk6X"
      }
    },
    {
      "cell_type": "markdown",
      "source": [
        "What insights can you extract from a Box Plot?"
      ],
      "metadata": {
        "id": "A5qWd6khefG9"
      }
    },
    {
      "cell_type": "markdown",
      "source": [
        "The Box Plot is a type of graph used to visually summarize many informations of a continuous variable: \n",
        "* the horizontal line insiede the box represent the mean of the distribution;\n",
        "* the edges of the box represents the first and the third quartile (25% and 75% of the units)\n",
        "* the horizontals line at the end of the vertical ones are a range defined a range $(Q_3 \\pm 1.5 * Q_1)$ outside of which we find the outliers.\n",
        "\n",
        "Watching this plot we can have visually a first information about the variable distibution."
      ],
      "metadata": {
        "id": "fxF6LHMiLByw"
      }
    },
    {
      "cell_type": "markdown",
      "metadata": {
        "id": "MQvXPL3jiMf_"
      },
      "source": [
        "# Bonus Points"
      ]
    },
    {
      "cell_type": "code",
      "execution_count": null,
      "metadata": {
        "id": "enoIlxyDiO11"
      },
      "outputs": [],
      "source": []
    },
    {
      "cell_type": "code",
      "execution_count": null,
      "metadata": {
        "id": "BzqJvVEwiPQz"
      },
      "outputs": [],
      "source": []
    },
    {
      "cell_type": "markdown",
      "metadata": {
        "id": "ldpv0m_njKJx"
      },
      "source": [
        "--------------------------------------------------------------------------------"
      ]
    },
    {
      "cell_type": "markdown",
      "metadata": {
        "id": "-in3K9r5iPqf"
      },
      "source": [
        "# Command Line Question"
      ]
    },
    {
      "cell_type": "code",
      "execution_count": null,
      "metadata": {
        "id": "DbtLIijuiR2k"
      },
      "outputs": [],
      "source": []
    },
    {
      "cell_type": "code",
      "execution_count": null,
      "metadata": {
        "id": "WX93QIoDiSXd"
      },
      "outputs": [],
      "source": []
    },
    {
      "cell_type": "code",
      "execution_count": null,
      "metadata": {
        "id": "HRaSbGibiSaB"
      },
      "outputs": [],
      "source": []
    },
    {
      "cell_type": "markdown",
      "metadata": {
        "id": "eVQjP_MrjNiG"
      },
      "source": [
        "--------------------------------------------------------------------------------"
      ]
    },
    {
      "cell_type": "markdown",
      "metadata": {
        "id": "Z72WmLLbiShN"
      },
      "source": [
        "# Algorithmic Question"
      ]
    },
    {
      "cell_type": "markdown",
      "metadata": {
        "id": "7ZJ62kb6iZYM"
      },
      "source": [
        "## AQ1"
      ]
    },
    {
      "cell_type": "code",
      "execution_count": null,
      "metadata": {
        "id": "lPvdrkVt39De"
      },
      "outputs": [],
      "source": [
        "ciao"
      ]
    },
    {
      "cell_type": "code",
      "execution_count": null,
      "metadata": {
        "id": "DNVDb9JG39De"
      },
      "outputs": [],
      "source": []
    },
    {
      "cell_type": "code",
      "execution_count": null,
      "metadata": {
        "id": "IebDtjBsiYxZ"
      },
      "outputs": [],
      "source": []
    },
    {
      "cell_type": "markdown",
      "metadata": {
        "id": "p8zD_6y9iiQe"
      },
      "source": [
        "## AQ2"
      ]
    },
    {
      "cell_type": "code",
      "execution_count": null,
      "metadata": {
        "id": "I0x2tmgaiix8"
      },
      "outputs": [],
      "source": []
    },
    {
      "cell_type": "code",
      "execution_count": null,
      "metadata": {
        "id": "GNjXrWahii0S"
      },
      "outputs": [],
      "source": []
    }
  ],
  "metadata": {
    "colab": {
      "provenance": [],
      "include_colab_link": true
    },
    "kernelspec": {
      "display_name": "conda_python3",
      "language": "python",
      "name": "conda_python3"
    },
    "language_info": {
      "codemirror_mode": {
        "name": "ipython",
        "version": 3
      },
      "file_extension": ".py",
      "mimetype": "text/x-python",
      "name": "python",
      "nbconvert_exporter": "python",
      "pygments_lexer": "ipython3",
      "version": "3.8.12"
    }
  },
  "nbformat": 4,
  "nbformat_minor": 0
}