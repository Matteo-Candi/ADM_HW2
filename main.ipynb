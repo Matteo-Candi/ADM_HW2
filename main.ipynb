{
  "cells": [
    {
      "cell_type": "markdown",
      "metadata": {
        "id": "view-in-github",
        "colab_type": "text"
      },
      "source": [
        "<a href=\"https://colab.research.google.com/github/Matteo-Candi/ADM_HW2/blob/Matteo/main.ipynb\" target=\"_parent\"><img src=\"https://colab.research.google.com/assets/colab-badge.svg\" alt=\"Open In Colab\"/></a>"
      ]
    },
    {
      "cell_type": "markdown",
      "metadata": {
        "id": "1xG58qHoeJoU"
      },
      "source": [
        "# **Homework 2 - ADM - group 17**"
      ]
    },
    {
      "cell_type": "markdown",
      "metadata": {
        "id": "R9PyBDswjqMj"
      },
      "source": [
        "Description"
      ]
    },
    {
      "cell_type": "code",
      "execution_count": null,
      "metadata": {
        "id": "OTp405g3e3ie"
      },
      "outputs": [],
      "source": [
        "#Importing packages\n",
        "import pandas as pd\n",
        "import numpy as np\n",
        "import matplotlib.pyplot as plt\n",
        "from tqdm import tqdm"
      ]
    },
    {
      "cell_type": "code",
      "source": [
        "from google.colab import drive\n",
        "drive.mount('/content/drive')"
      ],
      "metadata": {
        "id": "Ys-6CY1-cHRW",
        "outputId": "e3d01bec-7a3b-4d94-9060-60bd68fef870",
        "colab": {
          "base_uri": "https://localhost:8080/"
        }
      },
      "execution_count": null,
      "outputs": [
        {
          "output_type": "stream",
          "name": "stdout",
          "text": [
            "Mounted at /content/drive\n"
          ]
        }
      ]
    },
    {
      "cell_type": "code",
      "source": [
        "locations = pd.read_csv('/content/drive/MyDrive/ADM/instagram_locations.csv', sep='\\t')"
      ],
      "metadata": {
        "id": "uo1fZ-xBcQsF"
      },
      "execution_count": null,
      "outputs": []
    },
    {
      "cell_type": "code",
      "source": [
        "profiles = pd.read_csv('/content/drive/MyDrive/ADM/instagram_profiles.csv', sep='\\t')"
      ],
      "metadata": {
        "id": "zNkehc1GctYd"
      },
      "execution_count": null,
      "outputs": []
    },
    {
      "cell_type": "code",
      "source": [
        "posts = pd.read_csv('/content/drive/MyDrive/ADM/instagram_posts.csv', sep='\\t')"
      ],
      "metadata": {
        "id": "qrvvMHYWcvZA"
      },
      "execution_count": null,
      "outputs": []
    },
    {
      "cell_type": "markdown",
      "metadata": {
        "id": "1sCMEhHbjBGA"
      },
      "source": [
        "\n",
        "\n",
        "--------------------------------------------------------------------------------"
      ]
    },
    {
      "cell_type": "markdown",
      "metadata": {
        "id": "kiqi32bOh0TW"
      },
      "source": [
        "# Research Questions"
      ]
    },
    {
      "cell_type": "markdown",
      "metadata": {
        "id": "QZvy2hzGkAx1"
      },
      "source": [
        "## RQ1"
      ]
    },
    {
      "cell_type": "code",
      "execution_count": null,
      "metadata": {
        "id": "qy9PsyAckC_c"
      },
      "outputs": [],
      "source": []
    },
    {
      "cell_type": "code",
      "execution_count": null,
      "metadata": {
        "id": "gu13_DIJlHfS"
      },
      "outputs": [],
      "source": []
    },
    {
      "cell_type": "code",
      "execution_count": null,
      "metadata": {
        "id": "BOubBbcilHc5"
      },
      "outputs": [],
      "source": []
    },
    {
      "cell_type": "code",
      "source": [],
      "metadata": {
        "id": "aTIKJDF8ZMp5"
      },
      "execution_count": null,
      "outputs": []
    },
    {
      "cell_type": "markdown",
      "metadata": {
        "id": "HYs6roRJlH6i"
      },
      "source": [
        "## RQ2"
      ]
    },
    {
      "cell_type": "code",
      "execution_count": null,
      "metadata": {
        "id": "gSstpmgDlJqb"
      },
      "outputs": [],
      "source": [
        "plt.plot(np.sort(np.array(profiles.n_posts))[::-1])\n",
        "plt.title('Number of posts for each profile in descending order')\n",
        "plt.ylabel('log(#posts)')\n",
        "plt.xlabel('profiles')\n",
        "plt.yscale('log')\n",
        "plt.show()"
      ]
    },
    {
      "cell_type": "code",
      "execution_count": null,
      "metadata": {
        "id": "3ZOfsNfwhftX"
      },
      "outputs": [],
      "source": [
        "top_rows = []\n",
        "\n",
        "for chunk in tqdm(pd.read_csv('/content/drive/MyDrive/ADM/instagram_posts.csv', sep='\\t', chunksize=500000, usecols=['post_id', 'numbr_likes'])):\n",
        "    chunk_max_like = chunk.sort_values(by='numbr_likes', ascending=False).head(1)\n",
        "    top_rows.append(chunk_max_like)\n",
        "    "
      ]
    },
    {
      "cell_type": "code",
      "execution_count": null,
      "metadata": {
        "id": "4VT51Dtyhgxf"
      },
      "outputs": [],
      "source": [
        "print(f\"Proportion of NA in business_account variable: {round(profiles.is_business_account.isna().sum() / len(profiles.is_business_account), 2)}\\n\\n\")\n",
        "business = profiles.is_business_account.dropna()\n",
        "t = sum(business)\n",
        "f = len(business) - t\n",
        "\n",
        "plt.pie([t,f], labels=['Business', 'Not-Business'], shadow=True, explode=(0, .1),autopct='%1.1f%%')\n",
        "plt.title('Types of account')\n",
        "plt.show()"
      ]
    },
    {
      "cell_type": "markdown",
      "metadata": {
        "id": "nrWI2zO6hhH3"
      },
      "source": [
        "## RQ3"
      ]
    },
    {
      "cell_type": "code",
      "execution_count": null,
      "metadata": {
        "id": "wBPaZNpYhiZ-"
      },
      "outputs": [],
      "source": []
    },
    {
      "cell_type": "code",
      "execution_count": null,
      "metadata": {
        "id": "Q12Vz8Ithk0O"
      },
      "outputs": [],
      "source": []
    },
    {
      "cell_type": "code",
      "execution_count": null,
      "metadata": {
        "id": "ZFJZWBL2hk2v"
      },
      "outputs": [],
      "source": []
    },
    {
      "cell_type": "markdown",
      "metadata": {
        "id": "tmdOh-TVhlA-"
      },
      "source": [
        "## RQ4"
      ]
    },
    {
      "cell_type": "code",
      "execution_count": null,
      "metadata": {
        "id": "n2jquz2KhlIf"
      },
      "outputs": [],
      "source": []
    },
    {
      "cell_type": "code",
      "execution_count": null,
      "metadata": {
        "id": "1vXsD_DBhlLF"
      },
      "outputs": [],
      "source": []
    },
    {
      "cell_type": "markdown",
      "metadata": {
        "id": "8GvPBVJKhlSw"
      },
      "source": [
        "## RQ5"
      ]
    },
    {
      "cell_type": "code",
      "execution_count": null,
      "metadata": {
        "id": "mVHC7H0rhlbT"
      },
      "outputs": [],
      "source": []
    },
    {
      "cell_type": "code",
      "execution_count": null,
      "metadata": {
        "id": "xSVMmN_PhldY"
      },
      "outputs": [],
      "source": []
    },
    {
      "cell_type": "markdown",
      "metadata": {
        "id": "t1OgLMjmhlkn"
      },
      "source": [
        "## RQ6"
      ]
    },
    {
      "cell_type": "code",
      "execution_count": null,
      "metadata": {
        "id": "H2kkeFHohlsU"
      },
      "outputs": [],
      "source": []
    },
    {
      "cell_type": "code",
      "execution_count": null,
      "metadata": {
        "id": "4V-kwJYBhlvj"
      },
      "outputs": [],
      "source": []
    },
    {
      "cell_type": "markdown",
      "metadata": {
        "id": "yEeRpsr7hmA-"
      },
      "source": [
        "## RQ7"
      ]
    },
    {
      "cell_type": "code",
      "execution_count": null,
      "metadata": {
        "id": "SjXyDjwXiH7a"
      },
      "outputs": [],
      "source": []
    },
    {
      "cell_type": "code",
      "execution_count": null,
      "metadata": {
        "id": "gKuQb15riImG"
      },
      "outputs": [],
      "source": []
    },
    {
      "cell_type": "code",
      "execution_count": null,
      "metadata": {
        "id": "SZTFeb8miIop"
      },
      "outputs": [],
      "source": []
    },
    {
      "cell_type": "markdown",
      "metadata": {
        "id": "9wgxKKfRiI_Q"
      },
      "source": [
        "## RQ8"
      ]
    },
    {
      "cell_type": "code",
      "execution_count": null,
      "metadata": {
        "id": "RO3eMhrciMNX"
      },
      "outputs": [],
      "source": []
    },
    {
      "cell_type": "code",
      "execution_count": null,
      "metadata": {
        "id": "W90OHI-eiMPs"
      },
      "outputs": [],
      "source": []
    },
    {
      "cell_type": "markdown",
      "metadata": {
        "id": "MQvXPL3jiMf_"
      },
      "source": [
        "## Bonus Points"
      ]
    },
    {
      "cell_type": "code",
      "execution_count": null,
      "metadata": {
        "id": "enoIlxyDiO11"
      },
      "outputs": [],
      "source": []
    },
    {
      "cell_type": "code",
      "execution_count": null,
      "metadata": {
        "id": "BzqJvVEwiPQz"
      },
      "outputs": [],
      "source": []
    },
    {
      "cell_type": "markdown",
      "metadata": {
        "id": "ldpv0m_njKJx"
      },
      "source": [
        "--------------------------------------------------------------------------------"
      ]
    },
    {
      "cell_type": "markdown",
      "metadata": {
        "id": "-in3K9r5iPqf"
      },
      "source": [
        "# Command Line Question"
      ]
    },
    {
      "cell_type": "code",
      "execution_count": null,
      "metadata": {
        "id": "DbtLIijuiR2k"
      },
      "outputs": [],
      "source": []
    },
    {
      "cell_type": "code",
      "execution_count": null,
      "metadata": {
        "id": "WX93QIoDiSXd"
      },
      "outputs": [],
      "source": []
    },
    {
      "cell_type": "code",
      "execution_count": null,
      "metadata": {
        "id": "HRaSbGibiSaB"
      },
      "outputs": [],
      "source": []
    },
    {
      "cell_type": "markdown",
      "metadata": {
        "id": "eVQjP_MrjNiG"
      },
      "source": [
        "--------------------------------------------------------------------------------"
      ]
    },
    {
      "cell_type": "markdown",
      "metadata": {
        "id": "Z72WmLLbiShN"
      },
      "source": [
        "# Algorithmic Question"
      ]
    },
    {
      "cell_type": "markdown",
      "metadata": {
        "id": "7ZJ62kb6iZYM"
      },
      "source": [
        "## AQ1"
      ]
    },
    {
      "cell_type": "code",
      "execution_count": null,
      "metadata": {
        "id": "lPvdrkVt39De"
      },
      "outputs": [],
      "source": [
        "ciao"
      ]
    },
    {
      "cell_type": "code",
      "execution_count": null,
      "metadata": {
        "id": "DNVDb9JG39De"
      },
      "outputs": [],
      "source": []
    },
    {
      "cell_type": "code",
      "execution_count": null,
      "metadata": {
        "id": "IebDtjBsiYxZ"
      },
      "outputs": [],
      "source": []
    },
    {
      "cell_type": "markdown",
      "metadata": {
        "id": "p8zD_6y9iiQe"
      },
      "source": [
        "## AQ2"
      ]
    },
    {
      "cell_type": "code",
      "execution_count": null,
      "metadata": {
        "id": "I0x2tmgaiix8"
      },
      "outputs": [],
      "source": []
    },
    {
      "cell_type": "code",
      "execution_count": null,
      "metadata": {
        "id": "GNjXrWahii0S"
      },
      "outputs": [],
      "source": []
    }
  ],
  "metadata": {
    "colab": {
      "provenance": [],
      "include_colab_link": true
    },
    "kernelspec": {
      "display_name": "conda_python3",
      "language": "python",
      "name": "conda_python3"
    },
    "language_info": {
      "codemirror_mode": {
        "name": "ipython",
        "version": 3
      },
      "file_extension": ".py",
      "mimetype": "text/x-python",
      "name": "python",
      "nbconvert_exporter": "python",
      "pygments_lexer": "ipython3",
      "version": "3.8.12"
    }
  },
  "nbformat": 4,
  "nbformat_minor": 0
}