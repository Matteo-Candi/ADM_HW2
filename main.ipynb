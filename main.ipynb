{
  "cells": [
    {
      "cell_type": "markdown",
      "metadata": {
        "id": "view-in-github",
        "colab_type": "text"
      },
      "source": [
        "<a href=\"https://colab.research.google.com/github/Matteo-Candi/ADM_HW2/blob/main/main.ipynb\" target=\"_parent\"><img src=\"https://colab.research.google.com/assets/colab-badge.svg\" alt=\"Open In Colab\"/></a>"
      ]
    },
    {
      "cell_type": "markdown",
      "metadata": {
        "id": "1xG58qHoeJoU"
      },
      "source": [
        "# **Homework 2 - ADM - group 17**"
      ]
    },
    {
      "cell_type": "markdown",
      "metadata": {
        "id": "R9PyBDswjqMj"
      },
      "source": [
        "Description"
      ]
    },
    {
      "cell_type": "code",
      "execution_count": null,
      "metadata": {
        "id": "OTp405g3e3ie"
      },
      "outputs": [],
      "source": [
        "#Importing packages\n",
        "import pandas as pd\n",
        "import numpy as np\n",
        "import matplotlib.pyplot as plt\n",
        "import seaborn as sns\n",
        "from tqdm import tqdm\n",
        "from collections import Counter\n",
        "import datetime as dt\n",
        "from scipy import stats\n",
        "from scipy.stats import f_oneway, levene\n",
        "import time"
      ]
    },
    {
      "cell_type": "code",
      "source": [
        "from google.colab import drive\n",
        "drive.mount('/content/drive')"
      ],
      "metadata": {
        "id": "Ys-6CY1-cHRW",
        "outputId": "21622960-c92d-43fc-a356-e4fe9e2ae08e",
        "colab": {
          "base_uri": "https://localhost:8080/"
        }
      },
      "execution_count": null,
      "outputs": [
        {
          "output_type": "stream",
          "name": "stdout",
          "text": [
            "Mounted at /content/drive\n"
          ]
        }
      ]
    },
    {
      "cell_type": "code",
      "source": [
        "locations = pd.read_csv('/content/drive/MyDrive/ADM/instagram_locations.csv', sep='\\t')"
      ],
      "metadata": {
        "id": "uo1fZ-xBcQsF"
      },
      "execution_count": null,
      "outputs": []
    },
    {
      "cell_type": "code",
      "source": [
        "profiles = pd.read_csv('/content/drive/MyDrive/ADM/instagram_profiles.csv', sep='\\t')"
      ],
      "metadata": {
        "id": "zNkehc1GctYd"
      },
      "execution_count": null,
      "outputs": []
    },
    {
      "cell_type": "code",
      "source": [
        "posts = pd.read_csv('/content/drive/MyDrive/ADM/instagram_posts.csv', sep='\\t')"
      ],
      "metadata": {
        "id": "qrvvMHYWcvZA"
      },
      "execution_count": null,
      "outputs": []
    },
    {
      "cell_type": "markdown",
      "metadata": {
        "id": "1sCMEhHbjBGA"
      },
      "source": [
        "\n",
        "\n",
        "--------------------------------------------------------------------------------"
      ]
    },
    {
      "cell_type": "markdown",
      "metadata": {
        "id": "kiqi32bOh0TW"
      },
      "source": [
        "# Research Questions"
      ]
    },
    {
      "cell_type": "markdown",
      "metadata": {
        "id": "QZvy2hzGkAx1"
      },
      "source": [
        "## RQ1"
      ]
    },
    {
      "cell_type": "code",
      "execution_count": null,
      "metadata": {
        "id": "qy9PsyAckC_c"
      },
      "outputs": [],
      "source": []
    },
    {
      "cell_type": "code",
      "execution_count": null,
      "metadata": {
        "id": "gu13_DIJlHfS"
      },
      "outputs": [],
      "source": []
    },
    {
      "cell_type": "code",
      "execution_count": null,
      "metadata": {
        "id": "BOubBbcilHc5"
      },
      "outputs": [],
      "source": []
    },
    {
      "cell_type": "code",
      "source": [],
      "metadata": {
        "id": "aTIKJDF8ZMp5"
      },
      "execution_count": null,
      "outputs": []
    },
    {
      "cell_type": "markdown",
      "metadata": {
        "id": "HYs6roRJlH6i"
      },
      "source": [
        "## RQ2"
      ]
    },
    {
      "cell_type": "markdown",
      "source": [
        "Plot the number of posts for each profile in descending order"
      ],
      "metadata": {
        "id": "BkH3Be6IPJ6Q"
      }
    },
    {
      "cell_type": "code",
      "execution_count": null,
      "metadata": {
        "id": "gSstpmgDlJqb",
        "outputId": "5f2a3d42-edd2-4f1a-9304-5601b40f3416",
        "colab": {
          "base_uri": "https://localhost:8080/",
          "height": 310
        }
      },
      "outputs": [
        {
          "output_type": "display_data",
          "data": {
            "text/plain": [
              "<Figure size 432x288 with 1 Axes>"
            ],
            "image/png": "[encoded data removed]"
          },
          "metadata": {
            "needs_background": "light"
          }
        }
      ],
      "source": [
        "n_posts = profiles.n_posts.dropna()\n",
        "\n",
        "plt.plot(np.sort(n_posts)[::-1]);\n",
        "plt.title('Number of posts for each\\n profile in descending order')\n",
        "plt.ylabel('Log (n posts)')\n",
        "plt.xlabel('Profiles')\n",
        "plt.yscale('log')"
      ]
    },
    {
      "cell_type": "markdown",
      "source": [
        "What posts have the highest number of \"likes\"?"
      ],
      "metadata": {
        "id": "LuQXw0JDPNqY"
      }
    },
    {
      "cell_type": "code",
      "execution_count": null,
      "metadata": {
        "id": "3ZOfsNfwhftX",
        "outputId": "d292638e-654f-489c-dedb-dc0fa4af99ec",
        "colab": {
          "base_uri": "https://localhost:8080/",
          "height": 206
        }
      },
      "outputs": [
        {
          "output_type": "execute_result",
          "data": {
            "text/plain": [
              "              post_id numbr_likes\n",
              "19624085  Bt3yaXmAM0d   8822952.0\n",
              "19623988  BuwffB7g8cK   5447066.0\n",
              "19624082  Buc1gyZAaMQ   5116398.0\n",
              "19623986  BvcukE8AMuG   4271466.0\n",
              "39701024  BqSLFVBFLfq     4264745"
            ],
            "text/html": [
              "\n",
              "  <div id=\"df-7c63c370-4fb9-4d93-a22f-9d18f349e4c0\">\n",
              "    <div class=\"colab-df-container\">\n",
              "      <div>\n",
              "<style scoped>\n",
              "    .dataframe tbody tr th:only-of-type {\n",
              "        vertical-align: middle;\n",
              "    }\n",
              "\n",
              "    .dataframe tbody tr th {\n",
              "        vertical-align: top;\n",
              "    }\n",
              "\n",
              "    .dataframe thead th {\n",
              "        text-align: right;\n",
              "    }\n",
              "</style>\n",
              "<table border=\"1\" class=\"dataframe\">\n",
              "  <thead>\n",
              "    <tr style=\"text-align: right;\">\n",
              "      <th></th>\n",
              "      <th>post_id</th>\n",
              "      <th>numbr_likes</th>\n",
              "    </tr>\n",
              "  </thead>\n",
              "  <tbody>\n",
              "    <tr>\n",
              "      <th>19624085</th>\n",
              "      <td>Bt3yaXmAM0d</td>\n",
              "      <td>8822952.0</td>\n",
              "    </tr>\n",
              "    <tr>\n",
              "      <th>19623988</th>\n",
              "      <td>BuwffB7g8cK</td>\n",
              "      <td>5447066.0</td>\n",
              "    </tr>\n",
              "    <tr>\n",
              "      <th>19624082</th>\n",
              "      <td>Buc1gyZAaMQ</td>\n",
              "      <td>5116398.0</td>\n",
              "    </tr>\n",
              "    <tr>\n",
              "      <th>19623986</th>\n",
              "      <td>BvcukE8AMuG</td>\n",
              "      <td>4271466.0</td>\n",
              "    </tr>\n",
              "    <tr>\n",
              "      <th>39701024</th>\n",
              "      <td>BqSLFVBFLfq</td>\n",
              "      <td>4264745</td>\n",
              "    </tr>\n",
              "  </tbody>\n",
              "</table>\n",
              "</div>\n",
              "      <button class=\"colab-df-convert\" onclick=\"convertToInteractive('df-7c63c370-4fb9-4d93-a22f-9d18f349e4c0')\"\n",
              "              title=\"Convert this dataframe to an interactive table.\"\n",
              "              style=\"display:none;\">\n",
              "        \n",
              "  <svg xmlns=\"http://www.w3.org/2000/svg\" height=\"24px\"viewBox=\"0 0 24 24\"\n",
              "       width=\"24px\">\n",
              "    <path d=\"M0 0h24v24H0V0z\" fill=\"none\"/>\n",
              "    <path d=\"M18.56 5.44l.94 2.06.94-2.06 2.06-.94-2.06-.94-.94-2.06-.94 2.06-2.06.94zm-11 1L8.5 8.5l.94-2.06 2.06-.94-2.06-.94L8.5 2.5l-.94 2.06-2.06.94zm10 10l.94 2.06.94-2.06 2.06-.94-2.06-.94-.94-2.06-.94 2.06-2.06.94z\"/><path d=\"M17.41 7.96l-1.37-1.37c-.4-.4-.92-.59-1.43-.59-.52 0-1.04.2-1.43.59L10.3 9.45l-7.72 7.72c-.78.78-.78 2.05 0 2.83L4 21.41c.39.39.9.59 1.41.59.51 0 1.02-.2 1.41-.59l7.78-7.78 2.81-2.81c.8-.78.8-2.07 0-2.86zM5.41 20L4 18.59l7.72-7.72 1.47 1.35L5.41 20z\"/>\n",
              "  </svg>\n",
              "      </button>\n",
              "      \n",
              "  <style>\n",
              "    .colab-df-container {\n",
              "      display:flex;\n",
              "      flex-wrap:wrap;\n",
              "      gap: 12px;\n",
              "    }\n",
              "\n",
              "    .colab-df-convert {\n",
              "      background-color: #E8F0FE;\n",
              "      border: none;\n",
              "      border-radius: 50%;\n",
              "      cursor: pointer;\n",
              "      display: none;\n",
              "      fill: #1967D2;\n",
              "      height: 32px;\n",
              "      padding: 0 0 0 0;\n",
              "      width: 32px;\n",
              "    }\n",
              "\n",
              "    .colab-df-convert:hover {\n",
              "      background-color: #E2EBFA;\n",
              "      box-shadow: 0px 1px 2px rgba(60, 64, 67, 0.3), 0px 1px 3px 1px rgba(60, 64, 67, 0.15);\n",
              "      fill: #174EA6;\n",
              "    }\n",
              "\n",
              "    [theme=dark] .colab-df-convert {\n",
              "      background-color: #3B4455;\n",
              "      fill: #D2E3FC;\n",
              "    }\n",
              "\n",
              "    [theme=dark] .colab-df-convert:hover {\n",
              "      background-color: #434B5C;\n",
              "      box-shadow: 0px 1px 3px 1px rgba(0, 0, 0, 0.15);\n",
              "      filter: drop-shadow(0px 1px 2px rgba(0, 0, 0, 0.3));\n",
              "      fill: #FFFFFF;\n",
              "    }\n",
              "  </style>\n",
              "\n",
              "      <script>\n",
              "        const buttonEl =\n",
              "          document.querySelector('#df-7c63c370-4fb9-4d93-a22f-9d18f349e4c0 button.colab-df-convert');\n",
              "        buttonEl.style.display =\n",
              "          google.colab.kernel.accessAllowed ? 'block' : 'none';\n",
              "\n",
              "        async function convertToInteractive(key) {\n",
              "          const element = document.querySelector('#df-7c63c370-4fb9-4d93-a22f-9d18f349e4c0');\n",
              "          const dataTable =\n",
              "            await google.colab.kernel.invokeFunction('convertToInteractive',\n",
              "                                                     [key], {});\n",
              "          if (!dataTable) return;\n",
              "\n",
              "          const docLinkHtml = 'Like what you see? Visit the ' +\n",
              "            '<a target=\"_blank\" href=https://colab.research.google.com/notebooks/data_table.ipynb>data table notebook</a>'\n",
              "            + ' to learn more about interactive tables.';\n",
              "          element.innerHTML = '';\n",
              "          dataTable['output_type'] = 'display_data';\n",
              "          await google.colab.output.renderOutput(dataTable, element);\n",
              "          const docLink = document.createElement('div');\n",
              "          docLink.innerHTML = docLinkHtml;\n",
              "          element.appendChild(docLink);\n",
              "        }\n",
              "      </script>\n",
              "    </div>\n",
              "  </div>\n",
              "  "
            ]
          },
          "metadata": {},
          "execution_count": 6
        }
      ],
      "source": [
        "most_likes = pd.DataFrame(columns=['post_id', 'numbr_likes'])\n",
        "\n",
        "for chunk in pd.read_csv('/content/drive/MyDrive/ADM/instagram_posts.csv', sep='\\t', chunksize=500000, usecols=['post_id', 'numbr_likes']):\n",
        "    chunk_most_like = chunk.sort_values(by='numbr_likes', ascending=False).head(5)\n",
        "    most_likes = pd.concat([most_likes, chunk_most_like])\n",
        "\n",
        "# Reading all dataset chunk by chunk we find, after sorting the values, the highest values in the chunk\n",
        "# Then we take the highest among the highest.\n",
        "\n",
        "most_likes.sort_values(by='numbr_likes', ascending=False).head(5)"
      ]
    },
    {
      "cell_type": "markdown",
      "source": [
        "What posts have the most and the least number of comments?"
      ],
      "metadata": {
        "id": "6r2pZVHZPQit"
      }
    },
    {
      "cell_type": "code",
      "source": [
        "most_comment = pd.DataFrame(columns=['post_id', 'number_comments'])\n",
        "least_comment = pd.DataFrame(columns=['post_id', 'number_comments'])\n",
        "\n",
        "for chunk in pd.read_csv('/content/drive/MyDrive/ADM/instagram_posts.csv', sep='\\t', chunksize=500000, usecols=['post_id', 'number_comments']):\n",
        "    chunk_most = chunk.sort_values(by='number_comments', ascending=False).head(5)\n",
        "    chunk_least = chunk.sort_values(by='number_comments', ascending=False).tail(5)\n",
        "    most_comment = pd.concat([most_comment, chunk_most])\n",
        "    least_comment = pd.concat([least_comment, chunk_least])\n",
        "  \n",
        "print('Posts with most comments\\n\\n', most_comment.sort_values(by='number_comments', ascending=False).head(5))\n",
        "print('\\n\\nPosts with least comments\\n\\n', least_comment.sort_values(by='number_comments', ascending=False).head(5))\n",
        "\n",
        "\n",
        "# We take all the dataset by chunk and for every chunk, after ordering it, we take the first and the last five.\n",
        "# In the end we take the highest among the highest and the lowest among the lowest."
      ],
      "metadata": {
        "id": "eSe5wE7szjOC",
        "outputId": "c1194fd2-2019-45df-be16-12afcd66b496",
        "colab": {
          "base_uri": "https://localhost:8080/"
        }
      },
      "execution_count": null,
      "outputs": [
        {
          "output_type": "stream",
          "name": "stdout",
          "text": [
            "Posts with most comments\n",
            "\n",
            "               post_id number_comments\n",
            "41873060  Bx2sPAjHviO          488953\n",
            "12164781  BuGjhWAhAW5          313997\n",
            "33261751  BJ-rkpTgn1N          257488\n",
            "11149127  BMtisIxjhtT          214365\n",
            "9383817   BzOOWj3DfZK          189888\n",
            "\n",
            "\n",
            "Posts with least comments\n",
            "\n",
            "               post_id number_comments\n",
            "77497     BxhcazrhJVo               0\n",
            "29752487  BwiS3P2h_sm               0\n",
            "29752484  BwwhHRUganM               0\n",
            "29499999  Bw4F7e-A3PB               0\n",
            "29374405  BxWHjO0ntUC               0\n"
          ]
        }
      ]
    },
    {
      "cell_type": "markdown",
      "source": [
        "Since the least number of comments in a post is 0, there are a lot posts with this value. Also checking the posts with 1 or 2 comments would be useless because for sure there are a lot. Differently the posts most comented are more interesting and show us the boarderline cases like the first that have almost 500k comments.\n"
      ],
      "metadata": {
        "id": "OV2NsdwQCFqu"
      }
    },
    {
      "cell_type": "markdown",
      "source": [
        "How many posts include tagged locations, and how many do not? Show it using an appropriate chart and comment your results."
      ],
      "metadata": {
        "id": "uWWSNPQ5PTJY"
      }
    },
    {
      "cell_type": "code",
      "source": [
        "loc = 0\n",
        "no_loc = 0\n",
        "\n",
        "for chunk in pd.read_csv('/content/drive/MyDrive/ADM/instagram_posts.csv', sep='\\t', chunksize=500000, usecols=['location_id']):\n",
        "    no_loc += chunk.location_id.isna().sum()\n",
        "    loc += len(chunk)                           # Using chunks we just count the missing values in location_id column\n",
        "\n",
        "\n",
        "plt.pie([loc - no_loc, no_loc], labels=['With', 'Without'], shadow=True, explode=(0, .1),autopct='%1.1f%%')\n",
        "plt.title('Posts and locations tag')\n",
        "plt.show()"
      ],
      "metadata": {
        "id": "4vqoRein9Mcg",
        "colab": {
          "base_uri": "https://localhost:8080/",
          "height": 264
        },
        "outputId": "eb56ab18-b621-4bbf-90ea-8fb65d13f949"
      },
      "execution_count": null,
      "outputs": [
        {
          "output_type": "display_data",
          "data": {
            "text/plain": [
              "<Figure size 432x288 with 1 Axes>"
            ],
            "image/png": "[encoded data removed]"
          },
          "metadata": {}
        }
      ]
    },
    {
      "cell_type": "markdown",
      "source": [
        "How many posts include only photos? How many also have videos?"
      ],
      "metadata": {
        "id": "ijE3gdXiPZ78"
      }
    },
    {
      "cell_type": "code",
      "source": [
        "n_photos = 0\n",
        "n_multy = 0\n",
        "\n",
        "for chunk in pd.read_csv('/content/drive/MyDrive/ADM/instagram_posts.csv', sep='\\t', chunksize=500000, usecols=['post_type']):\n",
        "    for el in chunk.post_type:\n",
        "        if el == 1:\n",
        "            n_photos +=1            # We just count the number of different values of post_type column\n",
        "        elif el == 3:\n",
        "            n_multy += 1\n",
        "\n",
        "print(f'There are {n_photos} posts that include only photos.')\n",
        "print(f'There are {n_multy} posts that include also videos.')"
      ],
      "metadata": {
        "id": "FDorWOWZ9Phi",
        "colab": {
          "base_uri": "https://localhost:8080/"
        },
        "outputId": "9338dc4f-95f9-4326-84bd-7a187bb62ac3"
      },
      "execution_count": null,
      "outputs": [
        {
          "output_type": "stream",
          "name": "stdout",
          "text": [
            "There are 41534486 posts that include only photos.\n",
            "There are 40943 posts that include also videos.\n"
          ]
        }
      ]
    },
    {
      "cell_type": "markdown",
      "source": [
        "What's the percentage of business accounts vs non-business? What can you interpret regarding that percentage?"
      ],
      "metadata": {
        "id": "Ig1_YxRrPhZy"
      }
    },
    {
      "cell_type": "code",
      "execution_count": null,
      "metadata": {
        "id": "4VT51Dtyhgxf",
        "outputId": "2da785ad-6d94-487e-b853-6ffcabb425e4",
        "colab": {
          "base_uri": "https://localhost:8080/",
          "height": 264
        }
      },
      "outputs": [
        {
          "output_type": "display_data",
          "data": {
            "text/plain": [
              "<Figure size 432x288 with 1 Axes>"
            ],
            "image/png": "[encoded data removed]"
          },
          "metadata": {}
        }
      ],
      "source": [
        "business = profiles.is_business_account.dropna()\n",
        "t = sum(business)\n",
        "f = len(business) - t                                  # We just count the quantity of trues and falses in is_business_account column\n",
        "\n",
        "plt.pie([t,f], labels=['Business', 'Not-Business'], shadow=True, explode=(0, .1),autopct='%1.1f%%')\n",
        "plt.title('Types of account')\n",
        "plt.show()"
      ]
    },
    {
      "cell_type": "markdown",
      "source": [
        "The percentage of business account tells us that despite the fact that Instagram it's been created as a platform in which to share photos and videos among users, it is also used a lot from business (almost 25% of total account in our dataset) to share their product and advertise."
      ],
      "metadata": {
        "id": "OZETT9RLLCz9"
      }
    },
    {
      "cell_type": "markdown",
      "metadata": {
        "id": "nrWI2zO6hhH3"
      },
      "source": [
        "## RQ3"
      ]
    },
    {
      "cell_type": "markdown",
      "source": [
        "*What is the most common time in which users publish their posts?*"
      ],
      "metadata": {
        "id": "_qbaHFnFb4l2"
      }
    },
    {
      "cell_type": "code",
      "source": [
        "def post_time(data, count):\n",
        "    postime = pd.to_datetime(data.cts).dt.floor('Min').dt.time\n",
        "    grouping = postime.groupby(postime).size().sort_values(ascending=False).head(count)\n",
        "    timing = grouping.index.to_list()\n",
        "    for i in timing:\n",
        "        print('{:02d}:{:02d}:{:02d}'.format(i.hour, i.minute, i.second))\n",
        "print('The most common time in which users publish their posts:', end=' ')\n",
        "post_time(posts, 1)"
      ],
      "metadata": {
        "colab": {
          "base_uri": "https://localhost:8080/"
        },
        "id": "uWWkWIt5d_aU",
        "outputId": "679e79b3-bafc-436d-fed3-4b8141e89378"
      },
      "execution_count": null,
      "outputs": [
        {
          "output_type": "stream",
          "name": "stdout",
          "text": [
            "The most common time in which users publish their posts: 18:00:00\n"
          ]
        }
      ]
    },
    {
      "cell_type": "markdown",
      "source": [
        "Create a function that receives a time intervals list as a parameter and returns a plot with the number of posts for each given interval."
      ],
      "metadata": {
        "id": "_VZlWmNKd_Ns"
      }
    },
    {
      "cell_type": "code",
      "source": [
        "def plot_posts_time(posts_time):\n",
        "    f = plt.figure()\n",
        "    x_tick = [('06:00:00', '10:59:59'),('11:00:00', '13:59:59'),('14:00:00', '16:59:59'),('17:00:00', '19:59:59'),('20:00:00', '23:59:59'),('00:00:00', '02:59:59'),('03:00:00', '05:59:59')]\n",
        "    plt.xticks(x_tick, [\"{}:00\".format(x).zfill(5) for x in range(0,25)])\n",
        "    plt.ylabel(\"Number of posts\", fontsize=14, labelpad=20)\n",
        "    plt.xlabel(\"Time\", fontsize=14, labelpad=20)\n",
        "    plt.title(\"Daily temporal distribution of posts published\", fontsize=18)\n",
        "    plt.hist(posts_time, bins=range(25), color='blue', ec=\"k\")\n",
        "    f.set_figwidth(14)\n",
        "    f.set_figheight(8)\n",
        "\n",
        "    return"
      ],
      "metadata": {
        "id": "0dxx1yZ0uVAF"
      },
      "execution_count": null,
      "outputs": []
    },
    {
      "cell_type": "code",
      "source": [
        "def time_interval(data, intervals):\n",
        "    datex = pd.DataFrame(pd.to_datetime(data.cts))\n",
        "    datex.set_index(pd.DatetimeIndex(datex.cts), inplace=True)\n",
        "    calc = 0\n",
        "    value_counts = pd.DataFrame()\n",
        "    for interval in intervals:\n",
        "        start, end = interval\n",
        "        total = datex.between_time(start, end).count()\n",
        "        total = int(total[0])\n",
        "        print([interval],total)\n",
        "        RES = pd.DataFrame({'time interval (start, end)' : [interval], 'total posts' : total})\n",
        "        value_counts = value_counts.append(RES)\n",
        "        calc += total\n",
        "    sns.set()\n",
        "    \n",
        "    ax = value_counts.plot(figsize=(14,8), kind='bar', color = 'blue', zorder=3)\n",
        "    a = [0, 1, 2, 3, 4, 5, 6]\n",
        "    plt.xticks(a, intervals, rotation = 30)   \n",
        "    plt.xlabel(\"Time\", fontsize=14, labelpad=20)\n",
        "    plt.ylabel(\"Number of posts\", fontsize=14, labelpad=20)\n",
        "    plt.title(\"Daily temporal distribution of posts published\", fontsize=18)\n",
        "    plt.show()"
      ],
      "metadata": {
        "id": "VIaWPwoujNOv"
      },
      "execution_count": null,
      "outputs": []
    },
    {
      "cell_type": "markdown",
      "source": [
        "Use the function that you created in the previous literal to plot the number of posts between the following time intervals:"
      ],
      "metadata": {
        "id": "dR2GY9HylH5h"
      }
    },
    {
      "cell_type": "code",
      "source": [
        "time_intervals = [('06:00:00', '10:59:59'),('11:00:00', '13:59:59'),('14:00:00', '16:59:59'),('17:00:00', '19:59:59'),('20:00:00', '23:59:59'),('00:00:00', '02:59:59'),('03:00:00', '05:59:59')]"
      ],
      "metadata": {
        "id": "CWN77NgvjFCS"
      },
      "execution_count": null,
      "outputs": []
    },
    {
      "cell_type": "code",
      "source": [
        "time_interval(posts, time_intervals)"
      ],
      "metadata": {
        "colab": {
          "base_uri": "https://localhost:8080/",
          "height": 726
        },
        "id": "h2vRCWbvjLo5",
        "outputId": "ad0376e9-daca-4372-ed11-1ee7af4e4027"
      },
      "execution_count": null,
      "outputs": [
        {
          "output_type": "stream",
          "name": "stdout",
          "text": [
            "[('06:00:00', '10:59:59')] 6378572\n",
            "[('11:00:00', '13:59:59')] 5614715\n",
            "[('14:00:00', '16:59:59')] 6763037\n",
            "[('17:00:00', '19:59:59')] 7409907\n",
            "[('20:00:00', '23:59:59')] 8915794\n",
            "[('00:00:00', '02:59:59')] 4213617\n",
            "[('03:00:00', '05:59:59')] 3411223\n"
          ]
        },
        {
          "output_type": "display_data",
          "data": {
            "text/plain": [
              "<Figure size 1008x576 with 1 Axes>"
            ],
            "image/png": "[encoded data removed]"
          },
          "metadata": {}
        }
      ]
    },
    {
      "cell_type": "markdown",
      "metadata": {
        "id": "tmdOh-TVhlA-"
      },
      "source": [
        "## RQ4"
      ]
    },
    {
      "cell_type": "code",
      "execution_count": null,
      "metadata": {
        "id": "n2jquz2KhlIf"
      },
      "outputs": [],
      "source": []
    },
    {
      "cell_type": "code",
      "execution_count": null,
      "metadata": {
        "id": "1vXsD_DBhlLF"
      },
      "outputs": [],
      "source": []
    },
    {
      "cell_type": "markdown",
      "metadata": {
        "id": "8GvPBVJKhlSw"
      },
      "source": [
        "## RQ5"
      ]
    },
    {
      "cell_type": "code",
      "execution_count": null,
      "metadata": {
        "id": "mVHC7H0rhlbT"
      },
      "outputs": [],
      "source": []
    },
    {
      "cell_type": "code",
      "execution_count": null,
      "metadata": {
        "id": "xSVMmN_PhldY"
      },
      "outputs": [],
      "source": []
    },
    {
      "cell_type": "markdown",
      "metadata": {
        "id": "t1OgLMjmhlkn"
      },
      "source": [
        "## RQ6"
      ]
    },
    {
      "cell_type": "code",
      "execution_count": null,
      "metadata": {
        "id": "H2kkeFHohlsU"
      },
      "outputs": [],
      "source": []
    },
    {
      "cell_type": "code",
      "execution_count": null,
      "metadata": {
        "id": "4V-kwJYBhlvj"
      },
      "outputs": [],
      "source": []
    },
    {
      "cell_type": "markdown",
      "metadata": {
        "id": "yEeRpsr7hmA-"
      },
      "source": [
        "## RQ7"
      ]
    },
    {
      "cell_type": "markdown",
      "source": [
        "*What's the probability that a post receives more than 20% \"likes\" of the number of followers a user has?*"
      ],
      "metadata": {
        "id": "Sru9_y3lPlCv"
      }
    },
    {
      "cell_type": "code",
      "execution_count": null,
      "metadata": {
        "id": "SjXyDjwXiH7a",
        "colab": {
          "base_uri": "https://localhost:8080/"
        },
        "outputId": "04cf8604-d02e-472b-f3b8-482dd05117fb"
      },
      "outputs": [
        {
          "output_type": "stream",
          "name": "stdout",
          "text": [
            "The probability is: 15.1%\n"
          ]
        }
      ],
      "source": [
        "profiles_followers = profiles[['sid', 'followers']]\n",
        "profiles_followers = profiles_followers.dropna()\n",
        "\n",
        "all = 0\n",
        "tot = 0\n",
        "for chunk in pd.read_csv('/content/drive/MyDrive/ADM/instagram_posts.csv', sep='\\t', chunksize=500000, usecols=['sid_profile', 'numbr_likes']): \n",
        "    data = pd.merge(chunk, profiles_followers, left_on='sid_profile', right_on='sid').drop('sid', axis=1)   \n",
        "    all += (data.apply(lambda x: x.numbr_likes / (x.followers+1), axis=1) > 0.2).sum()  # we add +1 to consider also all the profiles with 0 followers                     \n",
        "    tot += len(data)                                                                   # because division by 0 is not possible\n",
        "\n",
        "    # merging the chunks and the profiles to get a new dataset with n_likes and n_followers for every post\n",
        "    # counting all the rows that have (n_likes / n_followers) > 0.2\n",
        "\n",
        "print(f\"The probability is: {round(all/tot, 3) * 100}%\")"
      ]
    },
    {
      "cell_type": "markdown",
      "source": [
        "We get this probability couting all the posts in which the division between number of likes and number of followers was higher than 0.2. Doing this we have also consider all the profiles (usually those that has 0 or few follower) that has more like than followers. We leave those profile because they give us an explanation of how this social works and tell us that not always the number of followers is relevant. However this probability is not so high: a big part of profile followers does not interact so much with that profile."
      ],
      "metadata": {
        "id": "i2Q6EsS6DdLk"
      }
    },
    {
      "cell_type": "markdown",
      "source": [
        "*Do users usually return to locations? Extract the probability that a user returns to a site after having posted it in the past. Does that probability make sense to you? Explain why or why not.*"
      ],
      "metadata": {
        "id": "mC3lRICkPt_5"
      }
    },
    {
      "cell_type": "code",
      "source": [
        "profiles = list(profiles.sid)\n",
        "prof_dict = {k: [] for k in profiles}       # creating a dictionary with all profiles\n",
        "\n",
        "for chunk in pd.read_csv('/content/drive/MyDrive/ADM/instagram_posts.csv', sep='\\t', chunksize=500000, usecols=['sid_profile', 'location_id']): \n",
        "    chunk = chunk[chunk.sid_profile != -1].dropna()             # cleaning the chunk\n",
        "    for loc, prof in zip(chunk.location_id, chunk.sid_profile):\n",
        "        prof_dict[int(prof)].append(loc)            # appending to profiles any locations they visited\n",
        "\n",
        "count = 0\n",
        "tot = 0\n",
        "for item in prof_dict.values():         # counting for every profiles how many times they visited every location where they posted\n",
        "    d = Counter(item)\n",
        "    v = [i for i in d.values() if i > 1]        \n",
        "    count += len(v)                     # counting the locations where they have been more than once\n",
        "    tot += len(set(item))\n",
        "\n",
        "print(f\"The probability is: {round(count/tot, 3) * 100}%\")"
      ],
      "metadata": {
        "id": "sL5fOQ4o3XM_",
        "outputId": "df3fefb1-84f4-4ecd-804a-bf1103ed4e53",
        "colab": {
          "base_uri": "https://localhost:8080/"
        }
      },
      "execution_count": null,
      "outputs": [
        {
          "output_type": "stream",
          "name": "stdout",
          "text": [
            "The probability is: 18.8%\n"
          ]
        }
      ]
    },
    {
      "cell_type": "markdown",
      "source": [
        "We compute this  probability supposing that a user posts a post only when he goes in a location. So of course this result can not have sense because a user could also posts something with the same location of the previous posts having taken a picture in the same moment of the previous. So posting a post with a location that is the same of some previous one not imply that the user is back in the same place and so this probability doesn't have any sense."
      ],
      "metadata": {
        "id": "8oYbhmEN-njl"
      }
    },
    {
      "cell_type": "markdown",
      "metadata": {
        "id": "9wgxKKfRiI_Q"
      },
      "source": [
        "## RQ8"
      ]
    },
    {
      "cell_type": "markdown",
      "source": [
        "*Does more 'likes' also mean more comments? Plot a scatter plot of 'likes' vs comments for posts.*"
      ],
      "metadata": {
        "id": "2ETcJn5NeGG_"
      }
    },
    {
      "cell_type": "code",
      "execution_count": null,
      "metadata": {
        "id": "W90OHI-eiMPs"
      },
      "outputs": [],
      "source": [
        "posts = pd.read_csv('/content/drive/MyDrive/ADM/instagram_posts.csv', sep='\\t', usecols=['numbr_likes', 'number_comments', 'cts'])"
      ]
    },
    {
      "cell_type": "code",
      "execution_count": null,
      "metadata": {
        "id": "RO3eMhrciMNX",
        "colab": {
          "base_uri": "https://localhost:8080/",
          "height": 295
        },
        "outputId": "b6107e5c-a101-405a-a281-3ee84f19119d"
      },
      "outputs": [
        {
          "output_type": "display_data",
          "data": {
            "text/plain": [
              "<Figure size 432x288 with 1 Axes>"
            ],
            "image/png": "[encoded data removed]"
          },
          "metadata": {
            "needs_background": "light"
          }
        }
      ],
      "source": [
        "plt.scatter(posts.numbr_likes, posts.number_comments, color='darkorange', s=.8)\n",
        "plt.xlim([0, 1000000])      # Here we don't care about outliers but we only want readble informations on the scatterplot so we use appropriate ranges\n",
        "plt.ylim([0, 50000])\n",
        "plt.title('Likes and Comments')\n",
        "plt.xlabel('Likes')\n",
        "plt.ylabel('Comments')\n",
        "plt.show()"
      ]
    },
    {
      "cell_type": "markdown",
      "source": [
        "Plotting the number of likes with number of comments of posts we realize that there is not so much correlation between tis two variable. In fact having more likes do not imply having more comments: if we imagine a regression line in this plot it would have a little inclination.  Therefore more likes doesn't mean also more comments, rather we notice that as the likes increase, the comments remain constant.\n",
        "\n"
      ],
      "metadata": {
        "id": "H2QRU0PkXB4d"
      }
    },
    {
      "cell_type": "markdown",
      "source": [
        "\n",
        "*Can you find any significant relationship between the time a user publishes a post and the number of comments and “likes”? Use an appropriate statistical test or technique and support your choice.*"
      ],
      "metadata": {
        "id": "-4FgBl9weVns"
      }
    },
    {
      "cell_type": "code",
      "source": [
        "posts.cts = pd.to_datetime(posts.cts).dt.floor('h').dt.time"
      ],
      "metadata": {
        "id": "pXjh2pTbaRTv"
      },
      "execution_count": null,
      "outputs": []
    },
    {
      "cell_type": "code",
      "source": [
        "# Plotting means of likes and comments for every hours\n",
        "\n",
        "hours = list(map(str,sorted(list(set(posts.cts))[1:])))\n",
        "mean_likes = posts.numbr_likes.groupby(posts.cts).apply(lambda x: x.mean())\n",
        "mean_comments = posts.number_comments.groupby(posts.cts).apply(lambda x: x.mean())\n",
        "\n",
        "fig, ax = plt.subplots(1,2, figsize=(15, 5))\n",
        "ax[0].bar(hours,list(mean_likes), color=\"dodgerblue\")\n",
        "ax[0].set(title=\"Means of likes per hour\\n\", xlabel=\"\\nHours\", ylabel=\"Likes mean\", ylim=[0, 400])\n",
        "ax[0].tick_params(axis='x', rotation=90)\n",
        "\n",
        "ax[1].bar(hours,list(mean_comments), color=\"darkorange\")\n",
        "ax[1].set(title=\"Means of comments per hour\\n\", xlabel=\"\\nHours\", ylabel=\"Comments mean\", ylim=[0, 10])\n",
        "ax[1].tick_params(axis='x', rotation=90)\n",
        "\n",
        "plt.show()"
      ],
      "metadata": {
        "id": "NzvBLgQRo90s",
        "outputId": "d67fa82a-44b0-4b64-acb4-6707971c9d9e",
        "colab": {
          "base_uri": "https://localhost:8080/",
          "height": 411
        }
      },
      "execution_count": null,
      "outputs": [
        {
          "output_type": "display_data",
          "data": {
            "text/plain": [
              "<Figure size 1080x360 with 2 Axes>"
            ],
            "image/png": "[encoded data removed]"
          },
          "metadata": {
            "needs_background": "light"
          }
        }
      ]
    },
    {
      "cell_type": "markdown",
      "source": [
        "At first sight it would not seem that the avarage values of likes and comments are affected by the hour. \n",
        "To verify this we could run the ANOVA test to check with a statistcal test if the null Hypotesis of all equal means would not be rejected but as we will see in the next question the mean is not a good value to summarize the ditribution carachteristics. In fact we know that the average is not a robust position index because, like in our case, there are very high values that unbalance the average towards high values and so it is very different from the center of distribution. For this reason we can use the medians."
      ],
      "metadata": {
        "id": "y0g-yWYpmQea"
      }
    },
    {
      "cell_type": "code",
      "source": [
        "# Plotting median of likes and comments for every hours\n",
        "\n",
        "hours = list(map(str,sorted(list(set(posts.cts))[1:])))\n",
        "med_likes = posts.numbr_likes.groupby(posts.cts).apply(lambda x: x.median())\n",
        "med_comments = posts.number_comments.groupby(posts.cts).apply(lambda x: x.median())\n",
        "\n",
        "fig, ax = plt.subplots(1,2, figsize=(15, 5))\n",
        "ax[0].bar(hours,list(med_likes), color=\"dodgerblue\")\n",
        "ax[0].set(title=\"Meadians of likes per hour\\n\", xlabel=\"\\nHours\", ylabel=\"Likes median\", ylim=[0, 80])\n",
        "ax[0].tick_params(axis='x', rotation=90)\n",
        "\n",
        "ax[1].bar(hours,list(med_comments), color=\"darkorange\")\n",
        "ax[1].set(title=\"Medians of comments per hour\\n\", xlabel=\"\\nHours\", ylabel=\"Comments median\", ylim=[0, 3.5])\n",
        "ax[1].tick_params(axis='x', rotation=90)\n",
        "\n",
        "plt.show()"
      ],
      "metadata": {
        "id": "ZeNio8awjFl3",
        "outputId": "701f9fc5-46e7-4e62-b911-2e7873e00057",
        "colab": {
          "base_uri": "https://localhost:8080/",
          "height": 411
        }
      },
      "execution_count": null,
      "outputs": [
        {
          "output_type": "display_data",
          "data": {
            "text/plain": [
              "<Figure size 1080x360 with 2 Axes>"
            ],
            "image/png": "[encoded data removed]"
          },
          "metadata": {
            "needs_background": "light"
          }
        }
      ]
    },
    {
      "cell_type": "markdown",
      "source": [
        "As we can see there the median values for each hours looks to be more closer to each other than the means. Another time it comes from the fact that the time does not discriminate the number of likes and comments.\n",
        "\n",
        "However, a consideration must be made: since the average number of likes and comments is not so far from day and night (as we can see in barplots above) as should it be and having taken posts from multiple parts of the worlds, maybe means that the time zone was not considered. If this is true, it is not possible to report valid results about this topic."
      ],
      "metadata": {
        "id": "YTA73AQonv4G"
      }
    },
    {
      "cell_type": "markdown",
      "source": [
        "*What is the distribution of followers? Plot the empirical distribution of followers amongst all users and extract the mean, mode, and quantiles. Interpret those figures.*"
      ],
      "metadata": {
        "id": "OxO_r9SbeXpM"
      }
    },
    {
      "cell_type": "code",
      "source": [
        "followers = np.array(profiles.followers.dropna())\n",
        "\n",
        "mean = round(followers.mean(), 2)\n",
        "stats = Counter(followers)\n",
        "mode = max(stats, key=stats.get)            # taking the max value after grouping by number of followers\n",
        "\n",
        "rng = np.arange(10,91,10)\n",
        "quant = np.percentile(followers,rng)        # computing the decils of profiles followers\n",
        "data = {'Quantile': rng, 'Value': quant}\n",
        "quantiles = pd.DataFrame(data)\n",
        "\n",
        "print(\"The mean is:\", mean)\n",
        "print(\"The mode is:\", mode)\n",
        "print(\"\\n\", quantiles, \"\\n\")\n",
        "\n",
        "follower = followers[followers < quant[-1]]    # removing last 10% of profiles with highest number of follower\n",
        "\n",
        "plt.figure(figsize=(8, 6), dpi=80)\n",
        "plt.hist(follower, bins = 50, ec=\"white\", color=\"dodgerblue\")      # plotting just the 90% of lowest units to have a clear rapresentation\n",
        "plt.title(\"Followers Ditribution\\n\")                               #  of the followers distribution\n",
        "plt.xlabel(\"Followers\")\n",
        "plt.ylabel(\"Frequency\")\n",
        "plt.show()"
      ],
      "metadata": {
        "id": "jYEZfqUPfHEO",
        "outputId": "66db6d39-1ad0-469d-8d2d-460cc429b8bf",
        "colab": {
          "base_uri": "https://localhost:8080/",
          "height": 714
        }
      },
      "execution_count": null,
      "outputs": [
        {
          "output_type": "stream",
          "name": "stdout",
          "text": [
            "The mean is: 4739.9\n",
            "The mode is: 0.0\n",
            "\n",
            "    Quantile   Value\n",
            "0        10    60.0\n",
            "1        20   124.0\n",
            "2        30   198.0\n",
            "3        40   289.0\n",
            "4        50   406.0\n",
            "5        60   563.0\n",
            "6        70   804.0\n",
            "7        80  1191.0\n",
            "8        90  2502.0 \n",
            "\n"
          ]
        },
        {
          "output_type": "display_data",
          "data": {
            "text/plain": [
              "<Figure size 640x480 with 1 Axes>"
            ],
            "image/png": "[encoded data removed]"
          },
          "metadata": {
            "needs_background": "light"
          }
        }
      ]
    },
    {
      "cell_type": "markdown",
      "source": [
        "From the chart we can see how, incresing the number of the followers, the quantity of profiles with this number decrease very quickly. This implies that there are a lot of profiles with a low number of followers and only a few profiles with many followers, as we can see also from the quantiles values (90% ofprofiles have less than 2500 followers). This of course has a strong influence on the mean because the really high numers of followers tend to make it shift towards higher values. In fact, we can see how the median has a much lower value: 406 is the median and 4740 is the mean. The mode tell us that there are a lot of profile with no followers or really low value. "
      ],
      "metadata": {
        "id": "d6fNlSo8vf9A"
      }
    },
    {
      "cell_type": "markdown",
      "source": [
        "*What are histograms, bar plots, scatterplots and pie charts used for?*"
      ],
      "metadata": {
        "id": "jaUbyDYXeXId"
      }
    },
    {
      "cell_type": "markdown",
      "source": [
        "* <ins> Histogram </ins>: It's used to represent the distribution of a single continuous variable. The bins are the intervals in which this variable it's been splitted and the high of the column represents how many time a value of this variable occurred in that interval.\n",
        "* <ins> Bar Plot </ins>: This chart corresponding to the Histogram for discrete variables. Every bin represents a value which can be assumed by the variable and the high of the column tells us how many times the variable assumes that value.\n",
        "* <ins> Scatterplot </ins>: This chart is used to plot a series of units that have two different attributes. Thanks to this we can see how the variables behave with each other, if there is some type of correlation.\n",
        "* <ins> Pie Chart </ins>: The pie chart is another way to represent what values a discrete variable takes  and, reporting these values of the respective relative frequencies, give use a visual the information what portion of the total every different value takes."
      ],
      "metadata": {
        "id": "FJxXiGxFEk6X"
      }
    },
    {
      "cell_type": "markdown",
      "source": [
        "*What insights can you extract from a Box Plot?*"
      ],
      "metadata": {
        "id": "A5qWd6khefG9"
      }
    },
    {
      "cell_type": "markdown",
      "source": [
        "The Box Plot is a type of graph used to visually summarize many informations of a continuous variable: \n",
        "* the horizontal line insiede the box represent the median of the distribution;\n",
        "* the edges of the box represents the first and the third quartile (25% and 75% of the units)\n",
        "* the horizontals line at the end of the vertical ones are a range defined a range $(Q_3 \\pm 1.5 * Q_1)$ outside of which we find the outliers.\n",
        "\n",
        "Watching this plot we can have visually a first information about the variable's distibution."
      ],
      "metadata": {
        "id": "fxF6LHMiLByw"
      }
    },
    {
      "cell_type": "markdown",
      "metadata": {
        "id": "MQvXPL3jiMf_"
      },
      "source": [
        "# Bonus Points"
      ]
    },
    {
      "cell_type": "markdown",
      "source": [
        "a) Sort the users in terms of number of followers and divide them into two groups: for the first group, take only the top 10% regarding \"followers\", and for the second one, take the rest. Now compare the mean of time intervals between posts for the two categories. Do you notice something relevant?"
      ],
      "metadata": {
        "id": "rgYw6xafzDmz"
      }
    },
    {
      "cell_type": "code",
      "execution_count": null,
      "metadata": {
        "id": "enoIlxyDiO11"
      },
      "outputs": [],
      "source": [
        "profiles = pd.read_csv('/content/drive/MyDrive/ADM/instagram_profiles.csv', sep='\\t', usecols=['sid', 'followers'])\n",
        "sort_profiles = profiles.sort_values('followers', ascending=False)[profiles['followers'].notna()]  \n",
        "# we remove all the profiles without followers attribute\n",
        "\n",
        "tresh = sort_profiles.followers.quantile(.9)                        # finding last decil\n",
        "first_group = sort_profiles[sort_profiles.followers > tresh]        # splitting the groups\n",
        "second_group = sort_profiles[sort_profiles.followers <= tresh]"
      ]
    },
    {
      "cell_type": "code",
      "source": [
        "posts = pd.read_csv('/content/drive/MyDrive/ADM/instagram_posts.csv', sep='\\t', usecols=['post_id', 'cts', 'sid_profile'])\n",
        "\n",
        "posts = posts[posts['sid_profile'] != -1]                                        # removing posts with missing profile \n",
        "posts.cts = pd.to_datetime(posts.cts)                                            # converting to datetime cts column\n",
        "group = posts.cts.groupby(posts.sid_profile).apply(list).reset_index()           # grouping posts.cts by profiles\n",
        "group['mean_time'] = group.cts.apply(lambda x: ((max(x)-min(x)) / (len(x))))     # finding average publication period for each profile\n",
        "group = group[group.mean_time != '0 days 00:00:00']                              # removing profiles with less than two posts"
      ],
      "metadata": {
        "id": "-3M0aBAsw0kf"
      },
      "execution_count": null,
      "outputs": []
    },
    {
      "cell_type": "code",
      "source": [
        "data_first = pd.merge(group, first_group, left_on='sid_profile', right_on='sid').drop('sid', axis=1)  # merging profiles with average posting period\n",
        "data_second = pd.merge(group, second_group, left_on='sid_profile', right_on='sid').drop('sid', axis=1)\n",
        "\n",
        "mean_1 = data_first.mean_time.mean()\n",
        "mean_2 = data_second.mean_time.mean()\n",
        "\n",
        "print(f'Mean of the first group: {mean_1}')\n",
        "print(f'Mean of the first group: {mean_2}')\n",
        "print(f'The difference between the second and first groups is: {mean_2-mean_1}')"
      ],
      "metadata": {
        "colab": {
          "base_uri": "https://localhost:8080/"
        },
        "id": "axS99q0MAcx9",
        "outputId": "d6d26538-06be-4391-ba64-663c4c024290"
      },
      "execution_count": null,
      "outputs": [
        {
          "output_type": "stream",
          "name": "stdout",
          "text": [
            "Mean of the first group: 19 days 12:13:58.554878473\n",
            "Mean of the first group: 19 days 18:07:14.784826943\n",
            "The difference between the second and first groups is: 0 days 05:53:16.229948470\n"
          ]
        }
      ]
    },
    {
      "cell_type": "code",
      "source": [
        "hours_1 = mean_1.days * 24 +mean_1.seconds //60 //60\n",
        "hours_2 = mean_2.days * 24 +mean_2.seconds //60 //60\n",
        "    \n",
        "plt.barh([0,1], [hours_2, hours_1], color=['r','b'])\n",
        "plt.title('Average period of posting of two groups (hours)\\n')\n",
        "plt.ylabel('Groups')\n",
        "plt.xlabel('Average period of posting')\n",
        "plt.yticks([0,1], ('Second', 'First'))\n",
        "plt.show()"
      ],
      "metadata": {
        "colab": {
          "base_uri": "https://localhost:8080/",
          "height": 310
        },
        "id": "VYDikvaLEkO6",
        "outputId": "b845a90c-5d78-4f2e-a3e1-c130249c94b4"
      },
      "execution_count": null,
      "outputs": [
        {
          "output_type": "display_data",
          "data": {
            "text/plain": [
              "<Figure size 432x288 with 1 Axes>"
            ],
            "image/png": "[encoded data removed]"
          },
          "metadata": {
            "needs_background": "light"
          }
        }
      ]
    },
    {
      "cell_type": "markdown",
      "source": [
        "After having divide all the profiles in two groups and have found the avarage period of posting for everyone, we have compared the two means of that values as we can see on above. The results show us how the means are not so different: in fact the second group get an higher value but with just about 6 hours more. We should have expect that profiles with more followers were more active but this not seems to being right."
      ],
      "metadata": {
        "id": "sc_M3Jox7pDP"
      }
    },
    {
      "cell_type": "markdown",
      "source": [
        "b) Assume users publish their posts the same day pictures or videos are taken: Are there users that have visited the same location on the same day? How about the same week? Extract the results and explain them."
      ],
      "metadata": {
        "id": "4b1Zjnf5MIWm"
      }
    },
    {
      "cell_type": "code",
      "source": [
        "posts = pd.read_csv('/content/drive/MyDrive/ADM/instagram_posts.csv', sep='\\t', usecols=['location_id', 'cts', 'sid_profile'])\n",
        "\n",
        "posts = posts[posts.sid_profile != -1]\n",
        "cts = pd.to_datetime(posts.cts)"
      ],
      "metadata": {
        "id": "vlphNzyDMH8z"
      },
      "execution_count": null,
      "outputs": []
    },
    {
      "cell_type": "code",
      "source": [
        "posts.cts = cts.dt.date\n",
        "t = posts.groupby([posts.location_id, posts.cts]).count()  # grouping by location, than by hour and then count how many unit are in these groups\n",
        "tot = sum(t.sid_profile > 1)                               # counting how many have more posts in same location at same hour\n",
        "\n",
        "print(f'It happened {tot} times that two profiles have visited the same location in the same day')"
      ],
      "metadata": {
        "id": "43ksG90ACuMx",
        "outputId": "0c1edb38-8929-4b62-cf85-d3bbdfd09e50",
        "colab": {
          "base_uri": "https://localhost:8080/"
        }
      },
      "execution_count": null,
      "outputs": [
        {
          "output_type": "stream",
          "name": "stdout",
          "text": [
            "It happened 1565766 times that two profiles have visited the same location in the same day\n"
          ]
        }
      ]
    },
    {
      "cell_type": "code",
      "source": [
        "posts.cts = cts\n",
        "week = list(map(str, posts.cts.dt.isocalendar().week))\n",
        "year = list(map(str, posts.cts.dt.year))\n",
        "\n",
        "date = []                       # creating new variable with week and years to group \n",
        "for i in range(len(week)):\n",
        "    date.append(week[i] + ' ' +year[i])\n",
        "posts.cts = date\n",
        "\n",
        "t = posts.groupby([posts.location_id, posts.cts]).count()\n",
        "tot = sum(t.sid_profile > 1)     # counting how many have more posts in same location at same hour\n",
        "\n",
        "print(f'It happened {tot} times that two profiles have visited the same location in the same week')"
      ],
      "metadata": {
        "id": "VnrYYOfwSrki",
        "outputId": "b5f4171d-1d19-4020-e2c3-4b9ca5adf81f",
        "colab": {
          "base_uri": "https://localhost:8080/"
        }
      },
      "execution_count": null,
      "outputs": [
        {
          "output_type": "stream",
          "name": "stdout",
          "text": [
            "It happened 1772018 times that two profiles have visited the same location in the same week\n"
          ]
        }
      ]
    },
    {
      "cell_type": "markdown",
      "source": [
        "c) Implement a text data analysis (also known as text mining) of the field \"description\" from instagram_posts.csv for descriptions written in English. Use appropriate visualizations and statistics to highlight the words (and probably the topics) provided for the users in that field."
      ],
      "metadata": {
        "id": "h1tbgo2kMZmo"
      }
    },
    {
      "cell_type": "code",
      "source": [],
      "metadata": {
        "id": "SzRqJDSIMZMu"
      },
      "execution_count": null,
      "outputs": []
    },
    {
      "cell_type": "markdown",
      "metadata": {
        "id": "ldpv0m_njKJx"
      },
      "source": [
        "--------------------------------------------------------------------------------"
      ]
    },
    {
      "cell_type": "markdown",
      "metadata": {
        "id": "-in3K9r5iPqf"
      },
      "source": [
        "# Command Line Question"
      ]
    },
    {
      "cell_type": "code",
      "execution_count": null,
      "metadata": {
        "id": "DbtLIijuiR2k"
      },
      "outputs": [],
      "source": []
    },
    {
      "cell_type": "code",
      "execution_count": null,
      "metadata": {
        "id": "WX93QIoDiSXd"
      },
      "outputs": [],
      "source": []
    },
    {
      "cell_type": "code",
      "execution_count": null,
      "metadata": {
        "id": "HRaSbGibiSaB"
      },
      "outputs": [],
      "source": []
    },
    {
      "cell_type": "markdown",
      "metadata": {
        "id": "eVQjP_MrjNiG"
      },
      "source": [
        "--------------------------------------------------------------------------------"
      ]
    },
    {
      "cell_type": "markdown",
      "metadata": {
        "id": "Z72WmLLbiShN"
      },
      "source": [
        "# Algorithmic Question"
      ]
    },
    {
      "cell_type": "markdown",
      "metadata": {
        "id": "7ZJ62kb6iZYM"
      },
      "source": [
        "## AQ1"
      ]
    },
    {
      "cell_type": "markdown",
      "source": [
        "[AQ1] Given the following pseudocode, answer the questions:"
      ],
      "metadata": {
        "id": "DvA4EkTPv1Kr"
      }
    },
    {
      "cell_type": "markdown",
      "source": [
        "\n",
        "\n",
        "```\n",
        "Input: \n",
        "    N : an integer \n",
        "    List : array of characters of length N without repetition\n",
        "    \n",
        "function f1(sequence, end): \n",
        "    For i=0 To end:\n",
        "        OUTPUT sequence[i]\n",
        "    EndFor\n",
        "    Output \"\\n\"\n",
        "    \n",
        "function f2(sequence, start, end): \n",
        "    If start = end: \n",
        "        f1(sequence, end)\n",
        "    Else\n",
        "        For i=start To end: \n",
        "            temp <-- sequence[start]\n",
        "            sequence[start] <-- sequence[i]\n",
        "            sequence[i] <-- temp\n",
        "            f2(sequence, start+1, end)\n",
        "            temp <-- sequence[start]\n",
        "            sequence[start] <-- sequence[i]\n",
        "            sequence[i] <-- temp\n",
        "f2(List, 0, N)\n",
        "```"
      ],
      "metadata": {
        "id": "xytPo91Q_2Il"
      }
    },
    {
      "cell_type": "markdown",
      "source": [
        "What is the output of this algorithm? Describe the mechanism of the algorithm in detail . We do not want to know only its final result. (Describe one example on your own)"
      ],
      "metadata": {
        "id": "7KB3J1Tu3Bet"
      }
    },
    {
      "cell_type": "code",
      "execution_count": null,
      "metadata": {
        "id": "lPvdrkVt39De"
      },
      "outputs": [],
      "source": [
        "The aligorithm is the Full Permutation of an array\n",
        "\n",
        "if input list = [1, 2, 3]\n",
        "then output\n",
        "123\n",
        "132\n",
        "213\n",
        "231\n",
        "312\n",
        "321\n",
        "\n",
        "function f1 output the array in Order\n",
        "function f2 swap the order of characters in the array then output it in the new order"
      ]
    },
    {
      "cell_type": "markdown",
      "source": [
        "What is asymptotically (i.e., we are asking for big-O complexity) the algorithm's running time as a function of N?"
      ],
      "metadata": {
        "id": "aboJC1tk4GUa"
      }
    },
    {
      "cell_type": "markdown",
      "source": [
        "O(N^2)"
      ],
      "metadata": {
        "id": "RiWpeAw54bRQ"
      }
    },
    {
      "cell_type": "markdown",
      "source": [
        "Is this algorithm the optimal one to produce this output? If not, can you suggest a better algorithm to perform the same task?"
      ],
      "metadata": {
        "id": "hz00jNZV4oPK"
      }
    },
    {
      "cell_type": "markdown",
      "source": [
        "The algorithms is not the optimal one\n",
        "\n",
        "better algorithm suggested below"
      ],
      "metadata": {
        "id": "-PwfAh0GrYPe"
      }
    },
    {
      "cell_type": "code",
      "execution_count": null,
      "metadata": {
        "id": "DNVDb9JG39De",
        "outputId": "73709e72-ede9-46cc-f432-365448b2dbad",
        "colab": {
          "base_uri": "https://localhost:8080/"
        }
      },
      "outputs": [
        {
          "output_type": "stream",
          "name": "stdout",
          "text": [
            "[1, 2, 3]\n",
            "[1, 3, 2]\n",
            "[2, 1, 3]\n",
            "[2, 3, 1]\n",
            "[3, 1, 2]\n",
            "[3, 2, 1]\n"
          ]
        }
      ],
      "source": [
        "def f(list_start: list, list_remain: list):\n",
        "    if len(list_remain) == 1:\n",
        "        print(list_start+list_remain)\n",
        "    else:\n",
        "        for i in range(len(list_remain)):\n",
        "            list_temp_remain = list_remain.copy()\n",
        "            f(list_start+[list_temp_remain.pop(i)], list_temp_remain)\n",
        "\n",
        "\n",
        "l = [1, 2, 3]\n",
        "f([], l)\n"
      ]
    },
    {
      "cell_type": "code",
      "execution_count": null,
      "metadata": {
        "id": "IebDtjBsiYxZ",
        "outputId": "7901bd1c-97b4-4e4f-89fd-14ab9a5789b5",
        "colab": {
          "base_uri": "https://localhost:8080/"
        }
      },
      "outputs": [
        {
          "output_type": "stream",
          "name": "stdout",
          "text": [
            "[[3, 2, 1], [2, 3, 1], [2, 1, 3], [3, 1, 2], [1, 3, 2], [1, 2, 3]]\n"
          ]
        }
      ],
      "source": [
        "import copy\n",
        "\n",
        "def allPermutation(n):\n",
        "    all_permutation = [[1]]\n",
        "    for i in range(1, n):\n",
        "        update_permutation = []\n",
        "        len1 = len(all_permutation)\n",
        "        for j in range(len1):\n",
        "            len2 = len(all_permutation[j]) + 1\n",
        "            for k in range(len2):\n",
        "                perm = copy.deepcopy(all_permutation[j])\n",
        "                perm.insert(k, i + 1)\n",
        "                update_permutation.append(perm)\n",
        "        all_permutation = update_permutation\n",
        "    return all_permutation\n",
        "\n",
        "\n",
        "print(allPermutation(3))"
      ]
    },
    {
      "cell_type": "markdown",
      "metadata": {
        "id": "p8zD_6y9iiQe"
      },
      "source": [
        "## AQ2"
      ]
    },
    {
      "cell_type": "markdown",
      "source": [
        "[AQ2] Considering the following problem, answer the questions:\n",
        "\n",
        "Alex has a ribbon of length N. He wants to cut the ribbon in a way that fulfils the following three conditions:\n",
        "\n",
        "Each piece of the cut should have an integer length.\n",
        "\n",
        "He should at least cut the ribbon once.\n",
        "\n",
        "The multiplication of the length of all the pieces be the maximum possible"
      ],
      "metadata": {
        "id": "GczXKunk4xQo"
      }
    },
    {
      "cell_type": "markdown",
      "source": [
        "1 Implement a recursive algorithm to help Alex find the maximum possible value after multiplying the length of the pieces. Explain your algorithm in detail."
      ],
      "metadata": {
        "id": "Ucie3Fzn7Vo_"
      }
    },
    {
      "cell_type": "code",
      "execution_count": null,
      "metadata": {
        "id": "GNjXrWahii0S",
        "colab": {
          "base_uri": "https://localhost:8080/",
          "height": 53
        },
        "outputId": "457ad41f-938d-4626-fb0f-f4fbd0e5165a"
      },
      "outputs": [
        {
          "output_type": "execute_result",
          "data": {
            "text/plain": [
              "'\\nThe product is maximized when all segments are of equal length. The optimal number of segments is 3.\\n\\nEach time we cut a piece of ribbon into two pieces, the remaining pieces can be cut or not, so we get a recursive function.\\n\\nF(n)=max(i×(n−i),i×F(n−i)),i=1,2,...,n−2。\\n'"
            ],
            "application/vnd.google.colaboratory.intrinsic+json": {
              "type": "string"
            }
          },
          "metadata": {},
          "execution_count": 50
        }
      ],
      "source": [
        "def cuttingRibbon1(self, n: int) -> int:\n",
        "  if n == 2:\n",
        "    return 1\n",
        "    res = -1\n",
        "    for i in range(1, n):\n",
        "      res = max(res, max(i * self.cuttingRope(n - i),i * (n - i)))\n",
        "  return res\n",
        "\n",
        "\"\"\"\n",
        "The product is maximized when all segments are of equal length. The optimal number of segments is 3.\n",
        "\n",
        "Each time we cut a piece of ribbon into two pieces, the remaining pieces can be cut or not, so we get a recursive function.\n",
        "\n",
        "F(n)=max(i×(n−i),i×F(n−i)),i=1,2,...,n−2。\n",
        "\"\"\""
      ]
    },
    {
      "cell_type": "markdown",
      "source": [
        "2 Show that the algorithm has exponential running time."
      ],
      "metadata": {
        "id": "zFuT6jOl8FfC"
      }
    },
    {
      "cell_type": "markdown",
      "source": [
        "The ribbon are divided into up to n segments, each with a length of 1 and a recursive depth of n. So the running time is exponential."
      ],
      "metadata": {
        "id": "Nmv_xbQYGFWo"
      }
    },
    {
      "cell_type": "markdown",
      "source": [
        "3 Now provide a polynomial solution, based on dynamic programming, and compute its running-time complexity."
      ],
      "metadata": {
        "id": "KU17QP1s9HPs"
      }
    },
    {
      "cell_type": "code",
      "source": [
        "def cuttingRibbon2(n: int) -> int:\n",
        "  dp = [0 for _ in range(n + 1)]\n",
        "  dp[2] = 1\n",
        "  for i in range(3, n + 1):\n",
        "    for j in range(i):\n",
        "      dp[i] = max(dp[i], max((i - j) * j, j * dp[i - j]))\n",
        "  return dp[n]"
      ],
      "metadata": {
        "id": "5jWKfNJB9Qnd"
      },
      "execution_count": null,
      "outputs": []
    },
    {
      "cell_type": "markdown",
      "source": [
        "running-time complexity: O(n^2)"
      ],
      "metadata": {
        "id": "SblAFBpk9h7O"
      }
    },
    {
      "cell_type": "markdown",
      "source": [
        "4.Evaluate the running time of your algorithm for the sizes (Ns) in the range of [2, 25], plot the results, and interpret it (if you have implemented two algorithms, please include both in the plot and compare them)."
      ],
      "metadata": {
        "id": "6sUVSdm09vT4"
      }
    },
    {
      "cell_type": "code",
      "source": [
        "for k in range(2, 25):\n",
        "  start = time.clock()\n",
        "  cuttingRibbon2(k)\n",
        "  end = time.clock()\n",
        "  print (end - start)"
      ],
      "metadata": {
        "colab": {
          "base_uri": "https://localhost:8080/"
        },
        "id": "NmnDojs7s0v3",
        "outputId": "622c218a-a01a-4ba7-af21-b75fadfe05ea"
      },
      "execution_count": null,
      "outputs": [
        {
          "output_type": "stream",
          "name": "stdout",
          "text": [
            "0.00011100000000396903\n",
            "1.3000000024021574e-05\n",
            "1.2000000026546331e-05\n",
            "1.5999999959603883e-05\n",
            "2.0000000006348273e-05\n",
            "3.299999997352643e-05\n",
            "3.299999997352643e-05\n",
            "4.3000000005122274e-05\n",
            "5.0999999984924216e-05\n",
            "5.9000000021569576e-05\n",
            "7.600000003549212e-05\n",
            "7.700000003296736e-05\n",
            "8.300000001781882e-05\n",
            "9.699999998247222e-05\n",
            "0.00011299999999891952\n",
            "0.00012299999997367195\n",
            "0.00012599999996609768\n",
            "0.00014599999997244595\n",
            "0.00020900000004075991\n",
            "0.0002270000000521577\n",
            "0.0004389999999716565\n",
            "0.0002579999999738902\n",
            "0.00026300000001810986\n"
          ]
        },
        {
          "output_type": "stream",
          "name": "stderr",
          "text": [
            "/usr/local/lib/python3.7/dist-packages/ipykernel_launcher.py:2: DeprecationWarning: time.clock has been deprecated in Python 3.3 and will be removed from Python 3.8: use time.perf_counter or time.process_time instead\n",
            "  \n",
            "/usr/local/lib/python3.7/dist-packages/ipykernel_launcher.py:4: DeprecationWarning: time.clock has been deprecated in Python 3.3 and will be removed from Python 3.8: use time.perf_counter or time.process_time instead\n",
            "  after removing the cwd from sys.path.\n"
          ]
        }
      ]
    },
    {
      "cell_type": "markdown",
      "source": [
        "5.(Optional, mini bonus) Is the algorithm of question 3 optimal? If you belive it, can you prove it? If not, can you find a faster algorithm? In case you found a faster algorithm implement it and explain your algorithm in detail."
      ],
      "metadata": {
        "id": "ACvLrDEu9zmu"
      }
    },
    {
      "cell_type": "code",
      "source": [
        "\"\"\"\n",
        "We find that any number greater than 3 can be split into the sum of the numbers 1, 2, 3, \n",
        "and their remainder to 3 is always 0, 1, 2 \n",
        "so we can just use dp[0], dp[1], dp [2] means all values greater than 3.\n",
        "In this way, the repeated use of the dp array can be completed with only one traversal, and the time complexity can be reduced to O(N).\n",
        "\"\"\"\n",
        "\n",
        "def cuttingRibbon3(self, n):\n",
        "  dp = [0, 1, 1]\n",
        "  for i in range(3, n + 1):\n",
        "    dp[i % 3] = max(max(dp[(i - 1) % 3], i - 1),\n",
        "                    2 * max(dp[(i - 2) % 3], i - 2),\n",
        "                    3 * max(dp[(i - 3) % 3], i - 3))\n",
        "return dp[n % 3]"
      ],
      "metadata": {
        "id": "m1sY0Zni98uG"
      },
      "execution_count": null,
      "outputs": []
    }
  ],
  "metadata": {
    "colab": {
      "provenance": [],
      "include_colab_link": true
    },
    "kernelspec": {
      "display_name": "Python 3",
      "name": "python3"
    },
    "language_info": {
      "name": "python"
    }
  },
  "nbformat": 4,
  "nbformat_minor": 0
}