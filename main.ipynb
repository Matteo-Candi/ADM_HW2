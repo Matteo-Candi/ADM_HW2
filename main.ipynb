{
  "cells": [
    {
      "cell_type": "markdown",
      "metadata": {
        "id": "view-in-github",
        "colab_type": "text"
      },
      "source": [
        "<a href=\"https://colab.research.google.com/github/Matteo-Candi/ADM_HW2/blob/Matteo/main.ipynb\" target=\"_parent\"><img src=\"https://colab.research.google.com/assets/colab-badge.svg\" alt=\"Open In Colab\"/></a>"
      ]
    },
    {
      "cell_type": "markdown",
      "metadata": {
        "id": "1xG58qHoeJoU"
      },
      "source": [
        "# **Homework 2 - ADM - group 17**"
      ]
    },
    {
      "cell_type": "markdown",
      "metadata": {
        "id": "R9PyBDswjqMj"
      },
      "source": [
        "Description"
      ]
    },
    {
      "cell_type": "code",
      "execution_count": 1,
      "metadata": {
        "id": "OTp405g3e3ie"
      },
      "outputs": [],
      "source": [
        "#Importing packages\n",
        "import pandas as pd\n",
        "import numpy as np\n",
        "import matplotlib.pyplot as plt\n",
        "from tqdm import tqdm"
      ]
    },
    {
      "cell_type": "code",
      "source": [
        "from google.colab import drive\n",
        "drive.mount('/content/drive')"
      ],
      "metadata": {
        "id": "Ys-6CY1-cHRW",
        "outputId": "4463f038-4151-4719-d9cc-c24f449d8332",
        "colab": {
          "base_uri": "https://localhost:8080/"
        }
      },
      "execution_count": 3,
      "outputs": [
        {
          "output_type": "stream",
          "name": "stdout",
          "text": [
            "Mounted at /content/drive\n"
          ]
        }
      ]
    },
    {
      "cell_type": "code",
      "source": [
        "locations = pd.read_csv('/content/drive/MyDrive/ADM/instagram_locations.csv', sep='\\t')"
      ],
      "metadata": {
        "id": "uo1fZ-xBcQsF"
      },
      "execution_count": null,
      "outputs": []
    },
    {
      "cell_type": "code",
      "source": [
        "profiles = pd.read_csv('/content/drive/MyDrive/ADM/instagram_profiles.csv', sep='\\t')"
      ],
      "metadata": {
        "id": "zNkehc1GctYd"
      },
      "execution_count": null,
      "outputs": []
    },
    {
      "cell_type": "code",
      "source": [
        "posts = pd.read_csv('/content/drive/MyDrive/ADM/instagram_posts.csv', sep='\\t')"
      ],
      "metadata": {
        "id": "qrvvMHYWcvZA"
      },
      "execution_count": null,
      "outputs": []
    },
    {
      "cell_type": "markdown",
      "metadata": {
        "id": "1sCMEhHbjBGA"
      },
      "source": [
        "\n",
        "\n",
        "--------------------------------------------------------------------------------"
      ]
    },
    {
      "cell_type": "markdown",
      "metadata": {
        "id": "kiqi32bOh0TW"
      },
      "source": [
        "# Research Questions"
      ]
    },
    {
      "cell_type": "markdown",
      "metadata": {
        "id": "QZvy2hzGkAx1"
      },
      "source": [
        "## RQ1"
      ]
    },
    {
      "cell_type": "code",
      "execution_count": null,
      "metadata": {
        "id": "qy9PsyAckC_c"
      },
      "outputs": [],
      "source": []
    },
    {
      "cell_type": "code",
      "execution_count": null,
      "metadata": {
        "id": "gu13_DIJlHfS"
      },
      "outputs": [],
      "source": []
    },
    {
      "cell_type": "code",
      "execution_count": null,
      "metadata": {
        "id": "BOubBbcilHc5"
      },
      "outputs": [],
      "source": []
    },
    {
      "cell_type": "code",
      "source": [],
      "metadata": {
        "id": "aTIKJDF8ZMp5"
      },
      "execution_count": null,
      "outputs": []
    },
    {
      "cell_type": "markdown",
      "metadata": {
        "id": "HYs6roRJlH6i"
      },
      "source": [
        "## RQ2"
      ]
    },
    {
      "cell_type": "code",
      "execution_count": null,
      "metadata": {
        "id": "gSstpmgDlJqb",
        "outputId": "47551644-a2f1-4572-e47e-35bcc83261ee",
        "colab": {
          "base_uri": "https://localhost:8080/",
          "height": 566
        }
      },
      "outputs": [
        {
          "output_type": "stream",
          "name": "stdout",
          "text": [
            "count    3452771.00\n",
            "mean         409.54\n",
            "std         1041.94\n",
            "min            0.00\n",
            "25%           22.00\n",
            "50%          120.00\n",
            "75%          420.00\n",
            "max       183730.00\n",
            "Name: n_posts, dtype: float64 \n",
            "\n",
            "There are: 1056815 NaN values\n"
          ]
        },
        {
          "output_type": "display_data",
          "data": {
            "text/plain": [
              "<Figure size 936x360 with 2 Axes>"
            ],
            "image/png": "[encoded data removed]"
          },
          "metadata": {
            "needs_background": "light"
          }
        }
      ],
      "source": [
        "# Plot the number of posts for each profile in descending order\n",
        "\n",
        "print(round(profiles.n_posts.describe(),2), '\\n')   # Returning the statistics it does not consider NaN values\n",
        "print(f'There are: {profiles.n_posts.isna().sum()} NaN values')\n",
        "n_posts = profiles.n_posts.dropna()\n",
        "fig, axs = plt.subplots(1,2)\n",
        "fig.set_size_inches(13, 5)\n",
        "\n",
        "axs[0].boxplot(np.array(n_posts), 'b')\n",
        "axs[0].set_xticks([])\n",
        "axs[0].set(title='Boxplot of profiles number of posts', ylabel='Number of posts')\n",
        "\n",
        "axs[1].plot(np.sort(n_posts)[::-1])\n",
        "axs[1].set_title('Number of posts for each\\n profile in descending order')\n",
        "axs[1].set(ylabel='Log (n posts)', xlabel='Profiles', yscale='log')\n",
        "\n",
        "plt.show()"
      ]
    },
    {
      "cell_type": "code",
      "execution_count": null,
      "metadata": {
        "id": "3ZOfsNfwhftX",
        "outputId": "54718319-a231-419f-8d9c-49048e354a26",
        "colab": {
          "base_uri": "https://localhost:8080/"
        }
      },
      "outputs": [
        {
          "output_type": "stream",
          "name": "stdout",
          "text": [
            "              post_id numbr_likes\n",
            "19624085  Bt3yaXmAM0d   8822952.0\n",
            "19623988  BuwffB7g8cK   5447066.0\n",
            "19624082  Buc1gyZAaMQ   5116398.0\n",
            "19623986  BvcukE8AMuG   4271466.0\n",
            "39701024  BqSLFVBFLfq     4264745\n"
          ]
        }
      ],
      "source": [
        "# What posts have the highest number of \"likes\"?\n",
        "\n",
        "most_likes = pd.DataFrame(columns=['post_id', 'numbr_likes'])\n",
        "\n",
        "for chunk in pd.read_csv('/content/drive/MyDrive/ADM/instagram_posts.csv', sep='\\t', chunksize=500000, usecols=['post_id', 'numbr_likes']):\n",
        "    chunk_most_like = chunk.sort_values(by='numbr_likes', ascending=False).head(5)\n",
        "    most_likes = pd.concat([most_likes, chunk_most_like])\n",
        "\n",
        "# To get all the rows we have to get one piece a time because the ram is not enough.\n",
        "# After sorting this chunck we append the highest values of our variable in another dataframe\n",
        "# with all the highest values. Than we return the highest of the highest.\n",
        "\n",
        "print(most_likes.sort_values(by='numbr_likes', ascending=False).head(5))"
      ]
    },
    {
      "cell_type": "code",
      "source": [
        "# What posts have the most and the least number of comments?\n",
        "\n",
        "most_comment = pd.DataFrame(columns=['post_id', 'number_comments'])\n",
        "least_comment = pd.DataFrame(columns=['post_id', 'number_comments'])\n",
        "\n",
        "for chunk in pd.read_csv('/content/drive/MyDrive/ADM/instagram_posts.csv', sep='\\t', chunksize=500000, usecols=['post_id', 'number_comments']):\n",
        "    chunk_most = chunk.sort_values(by='number_comments', ascending=False).head(5)\n",
        "    chunk_least = chunk.sort_values(by='number_comments', ascending=False).tail(5)\n",
        "    most_comment = pd.concat([most_comment, chunk_most])\n",
        "    least_comment = pd.concat([least_comment, chunk_least])\n",
        "  \n",
        "print('Posts with most comments\\n\\n', most_comment.sort_values(by='number_comments', ascending=False).head(5))\n",
        "print('\\n\\nPosts with least comments\\n\\n', least_comment.sort_values(by='number_comments', ascending=False).head(5))\n",
        "\n"
      ],
      "metadata": {
        "id": "eSe5wE7szjOC",
        "outputId": "ead87e8d-0a0c-40b4-b6fb-f29e494d6a20",
        "colab": {
          "base_uri": "https://localhost:8080/"
        }
      },
      "execution_count": null,
      "outputs": [
        {
          "output_type": "stream",
          "name": "stdout",
          "text": [
            "Posts with most comments\n",
            "\n",
            "               post_id number_comments\n",
            "41873060  Bx2sPAjHviO          488953\n",
            "12164781  BuGjhWAhAW5          313997\n",
            "33261751  BJ-rkpTgn1N          257488\n",
            "11149127  BMtisIxjhtT          214365\n",
            "9383817   BzOOWj3DfZK          189888\n",
            "\n",
            "\n",
            "Posts with least comments\n",
            "\n",
            "               post_id number_comments\n",
            "77497     BxhcazrhJVo               0\n",
            "29752487  BwiS3P2h_sm               0\n",
            "29752484  BwwhHRUganM               0\n",
            "29499999  Bw4F7e-A3PB               0\n",
            "29374405  BxWHjO0ntUC               0\n"
          ]
        }
      ]
    },
    {
      "cell_type": "markdown",
      "source": [
        "Since the least number of comments in a post is 0, there are a lot posts with this value. Also checking the posts with 1 or 2 comments would be useless because for sure there are a lot. Differently the posts most comented are more interesting and show us the boarderline cases like the first that have almost 500k comments."
      ],
      "metadata": {
        "id": "OV2NsdwQCFqu"
      }
    },
    {
      "cell_type": "code",
      "source": [
        "# How many posts include tagged locations, and how many do not? Show it using an appropriate chart and comment your results.\n",
        "\n",
        "loc = 0\n",
        "no_loc = 0\n",
        "\n",
        "for chunk in pd.read_csv('/content/drive/MyDrive/ADM/instagram_posts.csv', sep='\\t', chunksize=500000, usecols=['post_id', 'location_id']):\n",
        "    no_loc += chunk.location_id.isna().sum()\n",
        "    loc += 1\n",
        "\n",
        "loc = (loc * 500000) - no_loc\n",
        "\n",
        "plt.pie([loc, no_loc], labels=['With', 'Without'], shadow=True, explode=(0, .1),autopct='%1.1f%%')\n",
        "plt.title('Posts and Locations')\n",
        "plt.show()"
      ],
      "metadata": {
        "id": "4vqoRein9Mcg",
        "colab": {
          "base_uri": "https://localhost:8080/",
          "height": 264
        },
        "outputId": "a50fd317-b6bb-42bc-ff4d-3d3b6080df6d"
      },
      "execution_count": 31,
      "outputs": [
        {
          "output_type": "display_data",
          "data": {
            "text/plain": [
              "<Figure size 432x288 with 1 Axes>"
            ],
            "image/png": "[encoded data removed]"
          },
          "metadata": {}
        }
      ]
    },
    {
      "cell_type": "code",
      "source": [
        "# How many posts include only photos? How many also have videos?\n",
        "\n",
        "n_photos = 0\n",
        "n_multy = 0\n",
        "\n",
        "for chunk in pd.read_csv('/content/drive/MyDrive/ADM/instagram_posts.csv', sep='\\t', chunksize=500000, usecols=['post_id', 'post_type']):\n",
        "    for el in chunk.post_type:\n",
        "        if el == 1:\n",
        "            n_photos +=1\n",
        "        elif el == 3:\n",
        "            n_multy += 1\n",
        "\n",
        "print(f'There are {n_photos} posts that include only photos.')\n",
        "print(f'There are {n_multy} posts that include also videos.')"
      ],
      "metadata": {
        "id": "FDorWOWZ9Phi",
        "colab": {
          "base_uri": "https://localhost:8080/"
        },
        "outputId": "9338dc4f-95f9-4326-84bd-7a187bb62ac3"
      },
      "execution_count": 24,
      "outputs": [
        {
          "output_type": "stream",
          "name": "stdout",
          "text": [
            "There are 41534486 posts that include only photos.\n",
            "There are 40943 posts that include also videos.\n"
          ]
        }
      ]
    },
    {
      "cell_type": "code",
      "execution_count": null,
      "metadata": {
        "id": "4VT51Dtyhgxf",
        "outputId": "8a3c4760-abae-4493-d3ce-e3195bbc56fe",
        "colab": {
          "base_uri": "https://localhost:8080/",
          "height": 319
        }
      },
      "outputs": [
        {
          "output_type": "stream",
          "name": "stdout",
          "text": [
            "Proportion of NA in business_account variable: 0.24\n",
            "\n",
            "\n"
          ]
        },
        {
          "output_type": "display_data",
          "data": {
            "text/plain": [
              "<Figure size 432x288 with 1 Axes>"
            ],
            "image/png": "[encoded data removed]"
          },
          "metadata": {}
        }
      ],
      "source": [
        "# What's the percentage of business accounts vs non-business? What can you interpret regarding that percentage?\n",
        "\n",
        "print(f\"Proportion of NA in business_account variable: {round(profiles.is_business_account.isna().sum() / len(profiles.is_business_account), 2)}\\n\\n\")\n",
        "business = profiles.is_business_account.dropna()\n",
        "t = sum(business)\n",
        "f = len(business) - t\n",
        "\n",
        "plt.pie([t,f], labels=['Business', 'Not-Business'], shadow=True, explode=(0, .1),autopct='%1.1f%%')\n",
        "plt.title('Types of account')\n",
        "plt.show()"
      ]
    },
    {
      "cell_type": "markdown",
      "metadata": {
        "id": "nrWI2zO6hhH3"
      },
      "source": [
        "## RQ3"
      ]
    },
    {
      "cell_type": "code",
      "execution_count": null,
      "metadata": {
        "id": "wBPaZNpYhiZ-"
      },
      "outputs": [],
      "source": []
    },
    {
      "cell_type": "code",
      "execution_count": null,
      "metadata": {
        "id": "Q12Vz8Ithk0O"
      },
      "outputs": [],
      "source": []
    },
    {
      "cell_type": "code",
      "execution_count": null,
      "metadata": {
        "id": "ZFJZWBL2hk2v"
      },
      "outputs": [],
      "source": []
    },
    {
      "cell_type": "markdown",
      "metadata": {
        "id": "tmdOh-TVhlA-"
      },
      "source": [
        "## RQ4"
      ]
    },
    {
      "cell_type": "code",
      "execution_count": null,
      "metadata": {
        "id": "n2jquz2KhlIf"
      },
      "outputs": [],
      "source": []
    },
    {
      "cell_type": "code",
      "execution_count": null,
      "metadata": {
        "id": "1vXsD_DBhlLF"
      },
      "outputs": [],
      "source": []
    },
    {
      "cell_type": "markdown",
      "metadata": {
        "id": "8GvPBVJKhlSw"
      },
      "source": [
        "## RQ5"
      ]
    },
    {
      "cell_type": "code",
      "execution_count": null,
      "metadata": {
        "id": "mVHC7H0rhlbT"
      },
      "outputs": [],
      "source": []
    },
    {
      "cell_type": "code",
      "execution_count": null,
      "metadata": {
        "id": "xSVMmN_PhldY"
      },
      "outputs": [],
      "source": []
    },
    {
      "cell_type": "markdown",
      "metadata": {
        "id": "t1OgLMjmhlkn"
      },
      "source": [
        "## RQ6"
      ]
    },
    {
      "cell_type": "code",
      "execution_count": null,
      "metadata": {
        "id": "H2kkeFHohlsU"
      },
      "outputs": [],
      "source": []
    },
    {
      "cell_type": "code",
      "execution_count": null,
      "metadata": {
        "id": "4V-kwJYBhlvj"
      },
      "outputs": [],
      "source": []
    },
    {
      "cell_type": "markdown",
      "metadata": {
        "id": "yEeRpsr7hmA-"
      },
      "source": [
        "## RQ7"
      ]
    },
    {
      "cell_type": "code",
      "execution_count": null,
      "metadata": {
        "id": "SjXyDjwXiH7a"
      },
      "outputs": [],
      "source": []
    },
    {
      "cell_type": "code",
      "execution_count": null,
      "metadata": {
        "id": "gKuQb15riImG"
      },
      "outputs": [],
      "source": []
    },
    {
      "cell_type": "code",
      "execution_count": null,
      "metadata": {
        "id": "SZTFeb8miIop"
      },
      "outputs": [],
      "source": []
    },
    {
      "cell_type": "markdown",
      "metadata": {
        "id": "9wgxKKfRiI_Q"
      },
      "source": [
        "## RQ8"
      ]
    },
    {
      "cell_type": "code",
      "execution_count": null,
      "metadata": {
        "id": "RO3eMhrciMNX"
      },
      "outputs": [],
      "source": []
    },
    {
      "cell_type": "code",
      "execution_count": null,
      "metadata": {
        "id": "W90OHI-eiMPs"
      },
      "outputs": [],
      "source": []
    },
    {
      "cell_type": "markdown",
      "metadata": {
        "id": "MQvXPL3jiMf_"
      },
      "source": [
        "## Bonus Points"
      ]
    },
    {
      "cell_type": "code",
      "execution_count": null,
      "metadata": {
        "id": "enoIlxyDiO11"
      },
      "outputs": [],
      "source": []
    },
    {
      "cell_type": "code",
      "execution_count": null,
      "metadata": {
        "id": "BzqJvVEwiPQz"
      },
      "outputs": [],
      "source": []
    },
    {
      "cell_type": "markdown",
      "metadata": {
        "id": "ldpv0m_njKJx"
      },
      "source": [
        "--------------------------------------------------------------------------------"
      ]
    },
    {
      "cell_type": "markdown",
      "metadata": {
        "id": "-in3K9r5iPqf"
      },
      "source": [
        "# Command Line Question"
      ]
    },
    {
      "cell_type": "code",
      "execution_count": null,
      "metadata": {
        "id": "DbtLIijuiR2k"
      },
      "outputs": [],
      "source": []
    },
    {
      "cell_type": "code",
      "execution_count": null,
      "metadata": {
        "id": "WX93QIoDiSXd"
      },
      "outputs": [],
      "source": []
    },
    {
      "cell_type": "code",
      "execution_count": null,
      "metadata": {
        "id": "HRaSbGibiSaB"
      },
      "outputs": [],
      "source": []
    },
    {
      "cell_type": "markdown",
      "metadata": {
        "id": "eVQjP_MrjNiG"
      },
      "source": [
        "--------------------------------------------------------------------------------"
      ]
    },
    {
      "cell_type": "markdown",
      "metadata": {
        "id": "Z72WmLLbiShN"
      },
      "source": [
        "# Algorithmic Question"
      ]
    },
    {
      "cell_type": "markdown",
      "metadata": {
        "id": "7ZJ62kb6iZYM"
      },
      "source": [
        "## AQ1"
      ]
    },
    {
      "cell_type": "code",
      "execution_count": null,
      "metadata": {
        "id": "lPvdrkVt39De"
      },
      "outputs": [],
      "source": [
        "ciao"
      ]
    },
    {
      "cell_type": "code",
      "execution_count": null,
      "metadata": {
        "id": "DNVDb9JG39De"
      },
      "outputs": [],
      "source": []
    },
    {
      "cell_type": "code",
      "execution_count": null,
      "metadata": {
        "id": "IebDtjBsiYxZ"
      },
      "outputs": [],
      "source": []
    },
    {
      "cell_type": "markdown",
      "metadata": {
        "id": "p8zD_6y9iiQe"
      },
      "source": [
        "## AQ2"
      ]
    },
    {
      "cell_type": "code",
      "execution_count": null,
      "metadata": {
        "id": "I0x2tmgaiix8"
      },
      "outputs": [],
      "source": []
    },
    {
      "cell_type": "code",
      "execution_count": null,
      "metadata": {
        "id": "GNjXrWahii0S"
      },
      "outputs": [],
      "source": []
    }
  ],
  "metadata": {
    "colab": {
      "provenance": [],
      "include_colab_link": true
    },
    "kernelspec": {
      "display_name": "conda_python3",
      "language": "python",
      "name": "conda_python3"
    },
    "language_info": {
      "codemirror_mode": {
        "name": "ipython",
        "version": 3
      },
      "file_extension": ".py",
      "mimetype": "text/x-python",
      "name": "python",
      "nbconvert_exporter": "python",
      "pygments_lexer": "ipython3",
      "version": "3.8.12"
    }
  },
  "nbformat": 4,
  "nbformat_minor": 0
}