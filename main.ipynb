{
  "cells": [
    {
      "cell_type": "markdown",
      "metadata": {
        "id": "view-in-github",
        "colab_type": "text"
      },
      "source": [
        "<a href=\"https://colab.research.google.com/github/Matteo-Candi/ADM_HW2/blob/main/main.ipynb\" target=\"_parent\"><img src=\"https://colab.research.google.com/assets/colab-badge.svg\" alt=\"Open In Colab\"/></a>"
      ]
    },
    {
      "cell_type": "markdown",
      "metadata": {
        "id": "1xG58qHoeJoU"
      },
      "source": [
        "# **Homework 2 - ADM - group 17**"
      ]
    },
    {
      "cell_type": "markdown",
      "metadata": {
        "id": "R9PyBDswjqMj"
      },
      "source": [
        "Description"
      ]
    },
    {
      "cell_type": "code",
      "execution_count": null,
      "metadata": {
        "id": "OTp405g3e3ie"
      },
      "outputs": [],
      "source": [
        "#Importing packages\n",
        "import pandas as pd\n",
        "import numpy as np\n",
        "import matplotlib.pyplot as plt\n",
        "import seaborn as sns\n",
        "from tqdm import tqdm\n",
        "from collections import Counter\n",
        "import datetime as dt\n",
        "from scipy import stats\n",
        "from scipy.stats import f_oneway, levene\n",
        "import time\n",
        "import re\n",
        "import spacy\n",
        "from wordcloud import WordCloud"
      ]
    },
    {
      "cell_type": "code",
      "source": [
        "from google.colab import drive\n",
        "drive.mount('/content/drive')"
      ],
      "metadata": {
        "id": "Ys-6CY1-cHRW"
      },
      "execution_count": null,
      "outputs": []
    },
    {
      "cell_type": "code",
      "source": [
        "locations = pd.read_csv('/content/drive/MyDrive/ADM/instagram_locations.csv', sep='\\t')"
      ],
      "metadata": {
        "id": "uo1fZ-xBcQsF"
      },
      "execution_count": null,
      "outputs": []
    },
    {
      "cell_type": "code",
      "source": [
        "profiles = pd.read_csv('/content/drive/MyDrive/ADM/instagram_profiles.csv', sep='\\t')"
      ],
      "metadata": {
        "id": "zNkehc1GctYd"
      },
      "execution_count": null,
      "outputs": []
    },
    {
      "cell_type": "code",
      "source": [
        "posts = pd.read_csv('/content/drive/MyDrive/ADM/instagram_posts.csv', sep='\\t')"
      ],
      "metadata": {
        "id": "qrvvMHYWcvZA"
      },
      "execution_count": null,
      "outputs": []
    },
    {
      "cell_type": "markdown",
      "metadata": {
        "id": "1sCMEhHbjBGA"
      },
      "source": [
        "\n",
        "\n",
        "--------------------------------------------------------------------------------"
      ]
    },
    {
      "cell_type": "markdown",
      "metadata": {
        "id": "kiqi32bOh0TW"
      },
      "source": [
        "# Research Questions"
      ]
    },
    {
      "cell_type": "markdown",
      "metadata": {
        "id": "QZvy2hzGkAx1"
      },
      "source": [
        "## RQ1"
      ]
    },
    {
      "cell_type": "markdown",
      "source": [
        "The Exploratory Data Analysis consists in understanding the dataset, describing his main characteristics.At first we import the libraries and load the dataset.\n",
        "The dataset is composed by three subparts.\n",
        "We can have a first look of one dataset through:"
      ],
      "metadata": {
        "id": "6ArD3i4sUw-2"
      }
    },
    {
      "cell_type": "code",
      "execution_count": null,
      "metadata": {
        "scrolled": true,
        "id": "e739114e",
        "outputId": "04b2ce9b-7250-4091-b59d-6276c5da48e7"
      },
      "outputs": [
        {
          "data": {
            "text/html": [
              "<div>\n",
              "<style scoped>\n",
              "    .dataframe tbody tr th:only-of-type {\n",
              "        vertical-align: middle;\n",
              "    }\n",
              "\n",
              "    .dataframe tbody tr th {\n",
              "        vertical-align: top;\n",
              "    }\n",
              "\n",
              "    .dataframe thead th {\n",
              "        text-align: right;\n",
              "    }\n",
              "</style>\n",
              "<table border=\"1\" class=\"dataframe\">\n",
              "  <thead>\n",
              "    <tr style=\"text-align: right;\">\n",
              "      <th></th>\n",
              "      <th>sid</th>\n",
              "      <th>id</th>\n",
              "      <th>name</th>\n",
              "      <th>street</th>\n",
              "      <th>zip</th>\n",
              "      <th>city</th>\n",
              "      <th>region</th>\n",
              "      <th>cd</th>\n",
              "      <th>phone</th>\n",
              "      <th>aj_exact_city_match</th>\n",
              "      <th>...</th>\n",
              "      <th>dir_city_name</th>\n",
              "      <th>dir_city_slug</th>\n",
              "      <th>dir_country_id</th>\n",
              "      <th>dir_country_name</th>\n",
              "      <th>lat</th>\n",
              "      <th>lng</th>\n",
              "      <th>primary_alias_on_fb</th>\n",
              "      <th>slug</th>\n",
              "      <th>website</th>\n",
              "      <th>cts</th>\n",
              "    </tr>\n",
              "  </thead>\n",
              "  <tbody>\n",
              "    <tr>\n",
              "      <th>0</th>\n",
              "      <td>719981</td>\n",
              "      <td>110296492939207</td>\n",
              "      <td>Playa de Daimuz - Valencia, España</td>\n",
              "      <td>NaN</td>\n",
              "      <td>NaN</td>\n",
              "      <td>NaN</td>\n",
              "      <td>NaN</td>\n",
              "      <td>NaN</td>\n",
              "      <td>NaN</td>\n",
              "      <td>False</td>\n",
              "      <td>...</td>\n",
              "      <td>NaN</td>\n",
              "      <td>NaN</td>\n",
              "      <td>NaN</td>\n",
              "      <td>NaN</td>\n",
              "      <td>-0.139475</td>\n",
              "      <td>38.974391</td>\n",
              "      <td>daimuzplaya</td>\n",
              "      <td>playa-de-daimuz-valencia-espana</td>\n",
              "      <td>https://es.wikipedia.org/wiki/Daimuz</td>\n",
              "      <td>2019-05-29 01:21:29.987</td>\n",
              "    </tr>\n",
              "    <tr>\n",
              "      <th>1</th>\n",
              "      <td>719983</td>\n",
              "      <td>274391278</td>\n",
              "      <td>Nová Vieska</td>\n",
              "      <td>NaN</td>\n",
              "      <td>NaN</td>\n",
              "      <td>Nová Vieska</td>\n",
              "      <td>NaN</td>\n",
              "      <td>SK</td>\n",
              "      <td>NaN</td>\n",
              "      <td>True</td>\n",
              "      <td>...</td>\n",
              "      <td>Kis-Újfalu</td>\n",
              "      <td>kis-ujfalu</td>\n",
              "      <td>SK</td>\n",
              "      <td>Slovakia</td>\n",
              "      <td>18.466667</td>\n",
              "      <td>47.866667</td>\n",
              "      <td>NaN</td>\n",
              "      <td>nova-vieska</td>\n",
              "      <td>NaN</td>\n",
              "      <td>2019-05-29 01:21:38.037</td>\n",
              "    </tr>\n",
              "    <tr>\n",
              "      <th>2</th>\n",
              "      <td>719985</td>\n",
              "      <td>148885595789195</td>\n",
              "      <td>Everest Today</td>\n",
              "      <td>Himalayas</td>\n",
              "      <td>+977</td>\n",
              "      <td>Kathmandu, Nepal</td>\n",
              "      <td>NaN</td>\n",
              "      <td>NP</td>\n",
              "      <td>NaN</td>\n",
              "      <td>False</td>\n",
              "      <td>...</td>\n",
              "      <td>Pasupati</td>\n",
              "      <td>pasupati</td>\n",
              "      <td>NP</td>\n",
              "      <td>Nepal</td>\n",
              "      <td>85.330150</td>\n",
              "      <td>27.701960</td>\n",
              "      <td>EverestToday</td>\n",
              "      <td>everest-today</td>\n",
              "      <td>NaN</td>\n",
              "      <td>2019-05-29 01:21:46.295</td>\n",
              "    </tr>\n",
              "    <tr>\n",
              "      <th>3</th>\n",
              "      <td>719987</td>\n",
              "      <td>263258277</td>\n",
              "      <td>BULAC - Bibliothèque universitaire des langues...</td>\n",
              "      <td>65, rue des Grands-Moulins</td>\n",
              "      <td>75013</td>\n",
              "      <td>Paris, France</td>\n",
              "      <td>NaN</td>\n",
              "      <td>FR</td>\n",
              "      <td>01 81 69 18 00</td>\n",
              "      <td>False</td>\n",
              "      <td>...</td>\n",
              "      <td>13ème Arrondissement Paris</td>\n",
              "      <td>13eme-arrondissement-paris</td>\n",
              "      <td>FR</td>\n",
              "      <td>France</td>\n",
              "      <td>2.375995</td>\n",
              "      <td>48.827240</td>\n",
              "      <td>BULAC.Paris</td>\n",
              "      <td>bulac-bibliotheque-universitaire-des-langues-e...</td>\n",
              "      <td>www.bulac.fr</td>\n",
              "      <td>2019-05-29 01:21:54.355</td>\n",
              "    </tr>\n",
              "    <tr>\n",
              "      <th>4</th>\n",
              "      <td>326443</td>\n",
              "      <td>406147529857708</td>\n",
              "      <td>ABC Cable Networks Group</td>\n",
              "      <td>3800 W Alameda Ave</td>\n",
              "      <td>91505</td>\n",
              "      <td>Burbank, California</td>\n",
              "      <td>NaN</td>\n",
              "      <td>US</td>\n",
              "      <td>(818) 569-7500</td>\n",
              "      <td>False</td>\n",
              "      <td>...</td>\n",
              "      <td>NaN</td>\n",
              "      <td>NaN</td>\n",
              "      <td>NaN</td>\n",
              "      <td>NaN</td>\n",
              "      <td>-118.341864</td>\n",
              "      <td>34.153265</td>\n",
              "      <td>NaN</td>\n",
              "      <td>abc-cable-networks-group</td>\n",
              "      <td>NaN</td>\n",
              "      <td>2019-04-02 15:22:55.703</td>\n",
              "    </tr>\n",
              "  </tbody>\n",
              "</table>\n",
              "<p>5 rows × 23 columns</p>\n",
              "</div>"
            ],
            "text/plain": [
              "      sid               id                                               name  \\\n",
              "0  719981  110296492939207                 Playa de Daimuz - Valencia, España   \n",
              "1  719983        274391278                                        Nová Vieska   \n",
              "2  719985  148885595789195                                      Everest Today   \n",
              "3  719987        263258277  BULAC - Bibliothèque universitaire des langues...   \n",
              "4  326443  406147529857708                           ABC Cable Networks Group   \n",
              "\n",
              "                       street    zip                 city region   cd  \\\n",
              "0                         NaN    NaN                  NaN    NaN  NaN   \n",
              "1                         NaN    NaN          Nová Vieska    NaN   SK   \n",
              "2                   Himalayas   +977     Kathmandu, Nepal    NaN   NP   \n",
              "3  65, rue des Grands-Moulins  75013        Paris, France    NaN   FR   \n",
              "4          3800 W Alameda Ave  91505  Burbank, California    NaN   US   \n",
              "\n",
              "            phone aj_exact_city_match  ...               dir_city_name  \\\n",
              "0             NaN               False  ...                         NaN   \n",
              "1             NaN                True  ...                  Kis-Újfalu   \n",
              "2             NaN               False  ...                    Pasupati   \n",
              "3  01 81 69 18 00               False  ...  13ème Arrondissement Paris   \n",
              "4  (818) 569-7500               False  ...                         NaN   \n",
              "\n",
              "                dir_city_slug dir_country_id dir_country_name         lat  \\\n",
              "0                         NaN            NaN              NaN   -0.139475   \n",
              "1                  kis-ujfalu             SK         Slovakia   18.466667   \n",
              "2                    pasupati             NP            Nepal   85.330150   \n",
              "3  13eme-arrondissement-paris             FR           France    2.375995   \n",
              "4                         NaN            NaN              NaN -118.341864   \n",
              "\n",
              "         lng primary_alias_on_fb  \\\n",
              "0  38.974391         daimuzplaya   \n",
              "1  47.866667                 NaN   \n",
              "2  27.701960        EverestToday   \n",
              "3  48.827240         BULAC.Paris   \n",
              "4  34.153265                 NaN   \n",
              "\n",
              "                                                slug  \\\n",
              "0                    playa-de-daimuz-valencia-espana   \n",
              "1                                        nova-vieska   \n",
              "2                                      everest-today   \n",
              "3  bulac-bibliotheque-universitaire-des-langues-e...   \n",
              "4                           abc-cable-networks-group   \n",
              "\n",
              "                                website                      cts  \n",
              "0  https://es.wikipedia.org/wiki/Daimuz  2019-05-29 01:21:29.987  \n",
              "1                                   NaN  2019-05-29 01:21:38.037  \n",
              "2                                   NaN  2019-05-29 01:21:46.295  \n",
              "3                          www.bulac.fr  2019-05-29 01:21:54.355  \n",
              "4                                   NaN  2019-04-02 15:22:55.703  \n",
              "\n",
              "[5 rows x 23 columns]"
            ]
          },
          "execution_count": 31,
          "metadata": {},
          "output_type": "execute_result"
        }
      ],
      "source": [
        "locations.head() "
      ]
    },
    {
      "cell_type": "markdown",
      "source": [
        "Through the simple command \"df.info()\" we can explore the basic information about the values in the dataset:"
      ],
      "metadata": {
        "id": "qP68yC3RUwe2"
      }
    },
    {
      "cell_type": "code",
      "execution_count": null,
      "metadata": {
        "id": "7974e837",
        "outputId": "94ffa7cc-206e-4e81-d7b1-39874f7e5995"
      },
      "outputs": [
        {
          "name": "stdout",
          "output_type": "stream",
          "text": [
            "<class 'pandas.core.frame.DataFrame'>\n",
            "RangeIndex: 1022658 entries, 0 to 1022657\n",
            "Data columns (total 23 columns):\n",
            " #   Column                  Non-Null Count    Dtype  \n",
            "---  ------                  --------------    -----  \n",
            " 0   sid                     1022658 non-null  int64  \n",
            " 1   id                      1022658 non-null  int64  \n",
            " 2   name                    1022658 non-null  object \n",
            " 3   street                  715704 non-null   object \n",
            " 4   zip                     715579 non-null   object \n",
            " 5   city                    937166 non-null   object \n",
            " 6   region                  1760 non-null     object \n",
            " 7   cd                      939010 non-null   object \n",
            " 8   phone                   601688 non-null   object \n",
            " 9   aj_exact_city_match     1000510 non-null  object \n",
            " 10  aj_exact_country_match  1000510 non-null  object \n",
            " 11  blurb                   406705 non-null   object \n",
            " 12  dir_city_id             495698 non-null   object \n",
            " 13  dir_city_name           495698 non-null   object \n",
            " 14  dir_city_slug           495221 non-null   object \n",
            " 15  dir_country_id          495628 non-null   object \n",
            " 16  dir_country_name        495698 non-null   object \n",
            " 17  lat                     1016495 non-null  float64\n",
            " 18  lng                     1016495 non-null  float64\n",
            " 19  primary_alias_on_fb     425531 non-null   object \n",
            " 20  slug                    941668 non-null   object \n",
            " 21  website                 623262 non-null   object \n",
            " 22  cts                     1022658 non-null  object \n",
            "dtypes: float64(2), int64(2), object(19)\n",
            "memory usage: 179.5+ MB\n"
          ]
        },
        {
          "data": {
            "text/plain": [
              "(1022658, 23)"
            ]
          },
          "execution_count": 4,
          "metadata": {},
          "output_type": "execute_result"
        }
      ],
      "source": [
        "locations.info(memory_usage=True,show_counts=None)  #shows also the memory usage \n",
        "locations.shape #to get the number of rows and columns"
      ]
    },
    {
      "cell_type": "markdown",
      "source": [
        "So this dataset has more than one million rows and exactly 23 columns.\n",
        "These commands, in addition to the number of columns and rows, show the count of \"non-null\" and the \"dtype\" of values.\n",
        "Locations has this distribution:"
      ],
      "metadata": {
        "id": "aOKyFT28VJ12"
      }
    },
    {
      "cell_type": "code",
      "execution_count": null,
      "metadata": {
        "id": "84765edd",
        "outputId": "81745173-c8c3-4af6-951b-d85892e11a4c"
      },
      "outputs": [
        {
          "data": {
            "text/plain": [
              "<AxesSubplot:>"
            ]
          },
          "execution_count": 6,
          "metadata": {},
          "output_type": "execute_result"
        },
        {
          "data": {
            "image/png": "[encoded data removed]",
            "text/plain": [
              "<Figure size 432x288 with 1 Axes>"
            ]
          },
          "metadata": {
            "needs_background": "light"
          },
          "output_type": "display_data"
        }
      ],
      "source": [
        "DtypeL= pd.DataFrame(locations.dtypes.value_counts(), columns = ([\"Dtype\"]))\n",
        "cmap = cm.get_cmap('winter')\n",
        "DtypeL['Dtype'].plot(kind='barh',cmap=cmap)"
      ]
    },
    {
      "cell_type": "markdown",
      "source": [
        "Furthermore, the dataset has no duplicated:"
      ],
      "metadata": {
        "id": "TueRbg8lVwZZ"
      }
    },
    {
      "cell_type": "code",
      "execution_count": null,
      "metadata": {
        "id": "a4098247",
        "outputId": "4d414848-0e2a-4a83-e62c-157986b961eb"
      },
      "outputs": [
        {
          "data": {
            "text/plain": [
              "0"
            ]
          },
          "execution_count": 4,
          "metadata": {},
          "output_type": "execute_result"
        }
      ],
      "source": [
        "locations.duplicated().sum()"
      ]
    },
    {
      "cell_type": "markdown",
      "source": [
        "Next step of the \"EDA\" is the analysis of the null values in the dataset:"
      ],
      "metadata": {
        "id": "pj9FxGlDV2H5"
      }
    },
    {
      "cell_type": "code",
      "execution_count": null,
      "metadata": {
        "scrolled": true,
        "id": "9a69a019",
        "outputId": "accf6618-4c1a-4954-e4db-d9a495184a86"
      },
      "outputs": [
        {
          "data": {
            "text/plain": [
              "sid                             0\n",
              "id                              0\n",
              "name                            0\n",
              "street                     306954\n",
              "zip                        307079\n",
              "city                        85492\n",
              "region                    1020898\n",
              "cd                          83648\n",
              "phone                      420970\n",
              "aj_exact_city_match         22148\n",
              "aj_exact_country_match      22148\n",
              "blurb                      615953\n",
              "dir_city_id                526960\n",
              "dir_city_name              526960\n",
              "dir_city_slug              527437\n",
              "dir_country_id             527030\n",
              "dir_country_name           526960\n",
              "lat                          6163\n",
              "lng                          6163\n",
              "primary_alias_on_fb        597127\n",
              "slug                        80990\n",
              "website                    399396\n",
              "cts                             0\n",
              "dtype: int64"
            ]
          },
          "execution_count": 19,
          "metadata": {},
          "output_type": "execute_result"
        }
      ],
      "source": [
        "locations.isnull().sum()"
      ]
    },
    {
      "cell_type": "markdown",
      "source": [
        "We can assume that every row has a non-null value of sid,an id and a name. Many profiles did not share their locations through the \"city\",\"region\" or simply through their address. However we have all the cts for every row.\n",
        "It is useful to replace the null values whith something because \"dirty\" data can lead to a bad analysis."
      ],
      "metadata": {
        "id": "sVKiQPw8WCXj"
      }
    },
    {
      "cell_type": "code",
      "execution_count": null,
      "metadata": {
        "id": "a6d67e46",
        "outputId": "cd29a357-3e0d-476d-9575-0156c42b45b1"
      },
      "outputs": [
        {
          "data": {
            "text/html": [
              "<div>\n",
              "<style scoped>\n",
              "    .dataframe tbody tr th:only-of-type {\n",
              "        vertical-align: middle;\n",
              "    }\n",
              "\n",
              "    .dataframe tbody tr th {\n",
              "        vertical-align: top;\n",
              "    }\n",
              "\n",
              "    .dataframe thead th {\n",
              "        text-align: right;\n",
              "    }\n",
              "</style>\n",
              "<table border=\"1\" class=\"dataframe\">\n",
              "  <thead>\n",
              "    <tr style=\"text-align: right;\">\n",
              "      <th></th>\n",
              "      <th>sid</th>\n",
              "      <th>id</th>\n",
              "      <th>name</th>\n",
              "      <th>street</th>\n",
              "      <th>zip</th>\n",
              "      <th>city</th>\n",
              "      <th>region</th>\n",
              "      <th>cd</th>\n",
              "      <th>phone</th>\n",
              "      <th>aj_exact_city_match</th>\n",
              "      <th>...</th>\n",
              "      <th>dir_city_name</th>\n",
              "      <th>dir_city_slug</th>\n",
              "      <th>dir_country_id</th>\n",
              "      <th>dir_country_name</th>\n",
              "      <th>lat</th>\n",
              "      <th>lng</th>\n",
              "      <th>primary_alias_on_fb</th>\n",
              "      <th>slug</th>\n",
              "      <th>website</th>\n",
              "      <th>cts</th>\n",
              "    </tr>\n",
              "  </thead>\n",
              "  <tbody>\n",
              "    <tr>\n",
              "      <th>0</th>\n",
              "      <td>719981</td>\n",
              "      <td>110296492939207</td>\n",
              "      <td>Playa de Daimuz - Valencia, España</td>\n",
              "      <td>0</td>\n",
              "      <td>0</td>\n",
              "      <td>0</td>\n",
              "      <td>0</td>\n",
              "      <td>0</td>\n",
              "      <td>0</td>\n",
              "      <td>False</td>\n",
              "      <td>...</td>\n",
              "      <td>0</td>\n",
              "      <td>0</td>\n",
              "      <td>0</td>\n",
              "      <td>0</td>\n",
              "      <td>-0.139475</td>\n",
              "      <td>38.974391</td>\n",
              "      <td>daimuzplaya</td>\n",
              "      <td>playa-de-daimuz-valencia-espana</td>\n",
              "      <td>https://es.wikipedia.org/wiki/Daimuz</td>\n",
              "      <td>2019-05-29 01:21:29.987</td>\n",
              "    </tr>\n",
              "    <tr>\n",
              "      <th>1</th>\n",
              "      <td>719983</td>\n",
              "      <td>274391278</td>\n",
              "      <td>Nová Vieska</td>\n",
              "      <td>0</td>\n",
              "      <td>0</td>\n",
              "      <td>Nová Vieska</td>\n",
              "      <td>0</td>\n",
              "      <td>SK</td>\n",
              "      <td>0</td>\n",
              "      <td>True</td>\n",
              "      <td>...</td>\n",
              "      <td>Kis-Újfalu</td>\n",
              "      <td>kis-ujfalu</td>\n",
              "      <td>SK</td>\n",
              "      <td>Slovakia</td>\n",
              "      <td>18.466667</td>\n",
              "      <td>47.866667</td>\n",
              "      <td>0</td>\n",
              "      <td>nova-vieska</td>\n",
              "      <td>0</td>\n",
              "      <td>2019-05-29 01:21:38.037</td>\n",
              "    </tr>\n",
              "    <tr>\n",
              "      <th>2</th>\n",
              "      <td>719985</td>\n",
              "      <td>148885595789195</td>\n",
              "      <td>Everest Today</td>\n",
              "      <td>Himalayas</td>\n",
              "      <td>+977</td>\n",
              "      <td>Kathmandu, Nepal</td>\n",
              "      <td>0</td>\n",
              "      <td>NP</td>\n",
              "      <td>0</td>\n",
              "      <td>False</td>\n",
              "      <td>...</td>\n",
              "      <td>Pasupati</td>\n",
              "      <td>pasupati</td>\n",
              "      <td>NP</td>\n",
              "      <td>Nepal</td>\n",
              "      <td>85.330150</td>\n",
              "      <td>27.701960</td>\n",
              "      <td>EverestToday</td>\n",
              "      <td>everest-today</td>\n",
              "      <td>0</td>\n",
              "      <td>2019-05-29 01:21:46.295</td>\n",
              "    </tr>\n",
              "    <tr>\n",
              "      <th>3</th>\n",
              "      <td>719987</td>\n",
              "      <td>263258277</td>\n",
              "      <td>BULAC - Bibliothèque universitaire des langues...</td>\n",
              "      <td>65, rue des Grands-Moulins</td>\n",
              "      <td>75013</td>\n",
              "      <td>Paris, France</td>\n",
              "      <td>0</td>\n",
              "      <td>FR</td>\n",
              "      <td>01 81 69 18 00</td>\n",
              "      <td>False</td>\n",
              "      <td>...</td>\n",
              "      <td>13ème Arrondissement Paris</td>\n",
              "      <td>13eme-arrondissement-paris</td>\n",
              "      <td>FR</td>\n",
              "      <td>France</td>\n",
              "      <td>2.375995</td>\n",
              "      <td>48.827240</td>\n",
              "      <td>BULAC.Paris</td>\n",
              "      <td>bulac-bibliotheque-universitaire-des-langues-e...</td>\n",
              "      <td>www.bulac.fr</td>\n",
              "      <td>2019-05-29 01:21:54.355</td>\n",
              "    </tr>\n",
              "    <tr>\n",
              "      <th>4</th>\n",
              "      <td>326443</td>\n",
              "      <td>406147529857708</td>\n",
              "      <td>ABC Cable Networks Group</td>\n",
              "      <td>3800 W Alameda Ave</td>\n",
              "      <td>91505</td>\n",
              "      <td>Burbank, California</td>\n",
              "      <td>0</td>\n",
              "      <td>US</td>\n",
              "      <td>(818) 569-7500</td>\n",
              "      <td>False</td>\n",
              "      <td>...</td>\n",
              "      <td>0</td>\n",
              "      <td>0</td>\n",
              "      <td>0</td>\n",
              "      <td>0</td>\n",
              "      <td>-118.341864</td>\n",
              "      <td>34.153265</td>\n",
              "      <td>0</td>\n",
              "      <td>abc-cable-networks-group</td>\n",
              "      <td>0</td>\n",
              "      <td>2019-04-02 15:22:55.703</td>\n",
              "    </tr>\n",
              "    <tr>\n",
              "      <th>...</th>\n",
              "      <td>...</td>\n",
              "      <td>...</td>\n",
              "      <td>...</td>\n",
              "      <td>...</td>\n",
              "      <td>...</td>\n",
              "      <td>...</td>\n",
              "      <td>...</td>\n",
              "      <td>...</td>\n",
              "      <td>...</td>\n",
              "      <td>...</td>\n",
              "      <td>...</td>\n",
              "      <td>...</td>\n",
              "      <td>...</td>\n",
              "      <td>...</td>\n",
              "      <td>...</td>\n",
              "      <td>...</td>\n",
              "      <td>...</td>\n",
              "      <td>...</td>\n",
              "      <td>...</td>\n",
              "      <td>...</td>\n",
              "      <td>...</td>\n",
              "    </tr>\n",
              "    <tr>\n",
              "      <th>1022653</th>\n",
              "      <td>719973</td>\n",
              "      <td>873926439475785</td>\n",
              "      <td>Baby Season</td>\n",
              "      <td>Suarez de Figueroa # 380</td>\n",
              "      <td>0</td>\n",
              "      <td>Santa Cruz de la Sierra, Bolivia</td>\n",
              "      <td>0</td>\n",
              "      <td>BO</td>\n",
              "      <td>69118383</td>\n",
              "      <td>False</td>\n",
              "      <td>...</td>\n",
              "      <td>Santa Cruz de la Sierra</td>\n",
              "      <td>santa-cruz-de-la-sierra</td>\n",
              "      <td>BO</td>\n",
              "      <td>Bolivia</td>\n",
              "      <td>-63.185307</td>\n",
              "      <td>-17.786130</td>\n",
              "      <td>babyseason.srl</td>\n",
              "      <td>baby-season</td>\n",
              "      <td>0</td>\n",
              "      <td>2019-05-29 01:20:57.078</td>\n",
              "    </tr>\n",
              "    <tr>\n",
              "      <th>1022654</th>\n",
              "      <td>719975</td>\n",
              "      <td>390707529</td>\n",
              "      <td>Cueva Carvajal</td>\n",
              "      <td>0</td>\n",
              "      <td>0</td>\n",
              "      <td>0</td>\n",
              "      <td>0</td>\n",
              "      <td>0</td>\n",
              "      <td>+52 81 2089 7776</td>\n",
              "      <td>0</td>\n",
              "      <td>...</td>\n",
              "      <td>0</td>\n",
              "      <td>0</td>\n",
              "      <td>0</td>\n",
              "      <td>0</td>\n",
              "      <td>-100.359619</td>\n",
              "      <td>25.653550</td>\n",
              "      <td>CuevaCarvajalBrewPub</td>\n",
              "      <td>cueva-carvajal</td>\n",
              "      <td>http://www.cuevacarvajal.mx</td>\n",
              "      <td>2019-05-29 01:21:04.434</td>\n",
              "    </tr>\n",
              "    <tr>\n",
              "      <th>1022655</th>\n",
              "      <td>719977</td>\n",
              "      <td>1205466612894741</td>\n",
              "      <td>The Cheesecake Factory</td>\n",
              "      <td>304 Orland Square Dr</td>\n",
              "      <td>60462</td>\n",
              "      <td>Orland Park, Illinois</td>\n",
              "      <td>0</td>\n",
              "      <td>US</td>\n",
              "      <td>(708) 873-3747</td>\n",
              "      <td>False</td>\n",
              "      <td>...</td>\n",
              "      <td>Manor Homes</td>\n",
              "      <td>manor-homes</td>\n",
              "      <td>US</td>\n",
              "      <td>United States</td>\n",
              "      <td>-87.843649</td>\n",
              "      <td>41.618551</td>\n",
              "      <td>0</td>\n",
              "      <td>the-cheesecake-factory</td>\n",
              "      <td>http://locations.thecheesecakefactory.com/il/o...</td>\n",
              "      <td>2019-05-29 01:21:13.404</td>\n",
              "    </tr>\n",
              "    <tr>\n",
              "      <th>1022656</th>\n",
              "      <td>719979</td>\n",
              "      <td>286794844</td>\n",
              "      <td>Plimmer Towers</td>\n",
              "      <td>2 Gilmer Terrace</td>\n",
              "      <td>0</td>\n",
              "      <td>Wellington, New Zealand</td>\n",
              "      <td>0</td>\n",
              "      <td>NZ</td>\n",
              "      <td>0</td>\n",
              "      <td>False</td>\n",
              "      <td>...</td>\n",
              "      <td>0</td>\n",
              "      <td>0</td>\n",
              "      <td>0</td>\n",
              "      <td>0</td>\n",
              "      <td>174.775000</td>\n",
              "      <td>-41.285800</td>\n",
              "      <td>0</td>\n",
              "      <td>plimmer-towers</td>\n",
              "      <td>0</td>\n",
              "      <td>2019-05-29 01:21:21.628</td>\n",
              "    </tr>\n",
              "    <tr>\n",
              "      <th>1022657</th>\n",
              "      <td>720678</td>\n",
              "      <td>554330673</td>\n",
              "      <td>Старые Бирюли</td>\n",
              "      <td>Северная улица</td>\n",
              "      <td>0</td>\n",
              "      <td>0</td>\n",
              "      <td>0</td>\n",
              "      <td>0</td>\n",
              "      <td>0</td>\n",
              "      <td>False</td>\n",
              "      <td>...</td>\n",
              "      <td>0</td>\n",
              "      <td>0</td>\n",
              "      <td>0</td>\n",
              "      <td>0</td>\n",
              "      <td>49.444430</td>\n",
              "      <td>55.979180</td>\n",
              "      <td>0</td>\n",
              "      <td>0</td>\n",
              "      <td>0</td>\n",
              "      <td>2019-05-29 02:07:00.772</td>\n",
              "    </tr>\n",
              "  </tbody>\n",
              "</table>\n",
              "<p>1022658 rows × 23 columns</p>\n",
              "</div>"
            ],
            "text/plain": [
              "            sid                id  \\\n",
              "0        719981   110296492939207   \n",
              "1        719983         274391278   \n",
              "2        719985   148885595789195   \n",
              "3        719987         263258277   \n",
              "4        326443   406147529857708   \n",
              "...         ...               ...   \n",
              "1022653  719973   873926439475785   \n",
              "1022654  719975         390707529   \n",
              "1022655  719977  1205466612894741   \n",
              "1022656  719979         286794844   \n",
              "1022657  720678         554330673   \n",
              "\n",
              "                                                      name  \\\n",
              "0                       Playa de Daimuz - Valencia, España   \n",
              "1                                              Nová Vieska   \n",
              "2                                            Everest Today   \n",
              "3        BULAC - Bibliothèque universitaire des langues...   \n",
              "4                                 ABC Cable Networks Group   \n",
              "...                                                    ...   \n",
              "1022653                                        Baby Season   \n",
              "1022654                                     Cueva Carvajal   \n",
              "1022655                             The Cheesecake Factory   \n",
              "1022656                                     Plimmer Towers   \n",
              "1022657                                      Старые Бирюли   \n",
              "\n",
              "                             street    zip                              city  \\\n",
              "0                                 0      0                                 0   \n",
              "1                                 0      0                       Nová Vieska   \n",
              "2                         Himalayas   +977                  Kathmandu, Nepal   \n",
              "3        65, rue des Grands-Moulins  75013                     Paris, France   \n",
              "4                3800 W Alameda Ave  91505               Burbank, California   \n",
              "...                             ...    ...                               ...   \n",
              "1022653    Suarez de Figueroa # 380      0  Santa Cruz de la Sierra, Bolivia   \n",
              "1022654                           0      0                                 0   \n",
              "1022655        304 Orland Square Dr  60462             Orland Park, Illinois   \n",
              "1022656            2 Gilmer Terrace      0           Wellington, New Zealand   \n",
              "1022657              Северная улица      0                                 0   \n",
              "\n",
              "        region  cd             phone aj_exact_city_match  ...  \\\n",
              "0            0   0                 0               False  ...   \n",
              "1            0  SK                 0                True  ...   \n",
              "2            0  NP                 0               False  ...   \n",
              "3            0  FR    01 81 69 18 00               False  ...   \n",
              "4            0  US    (818) 569-7500               False  ...   \n",
              "...        ...  ..               ...                 ...  ...   \n",
              "1022653      0  BO          69118383               False  ...   \n",
              "1022654      0   0  +52 81 2089 7776                   0  ...   \n",
              "1022655      0  US    (708) 873-3747               False  ...   \n",
              "1022656      0  NZ                 0               False  ...   \n",
              "1022657      0   0                 0               False  ...   \n",
              "\n",
              "                      dir_city_name               dir_city_slug  \\\n",
              "0                                 0                           0   \n",
              "1                        Kis-Újfalu                  kis-ujfalu   \n",
              "2                          Pasupati                    pasupati   \n",
              "3        13ème Arrondissement Paris  13eme-arrondissement-paris   \n",
              "4                                 0                           0   \n",
              "...                             ...                         ...   \n",
              "1022653     Santa Cruz de la Sierra     santa-cruz-de-la-sierra   \n",
              "1022654                           0                           0   \n",
              "1022655                 Manor Homes                 manor-homes   \n",
              "1022656                           0                           0   \n",
              "1022657                           0                           0   \n",
              "\n",
              "        dir_country_id dir_country_name         lat        lng  \\\n",
              "0                    0                0   -0.139475  38.974391   \n",
              "1                   SK         Slovakia   18.466667  47.866667   \n",
              "2                   NP            Nepal   85.330150  27.701960   \n",
              "3                   FR           France    2.375995  48.827240   \n",
              "4                    0                0 -118.341864  34.153265   \n",
              "...                ...              ...         ...        ...   \n",
              "1022653             BO          Bolivia  -63.185307 -17.786130   \n",
              "1022654              0                0 -100.359619  25.653550   \n",
              "1022655             US    United States  -87.843649  41.618551   \n",
              "1022656              0                0  174.775000 -41.285800   \n",
              "1022657              0                0   49.444430  55.979180   \n",
              "\n",
              "          primary_alias_on_fb  \\\n",
              "0                 daimuzplaya   \n",
              "1                           0   \n",
              "2                EverestToday   \n",
              "3                 BULAC.Paris   \n",
              "4                           0   \n",
              "...                       ...   \n",
              "1022653        babyseason.srl   \n",
              "1022654  CuevaCarvajalBrewPub   \n",
              "1022655                     0   \n",
              "1022656                     0   \n",
              "1022657                     0   \n",
              "\n",
              "                                                      slug  \\\n",
              "0                          playa-de-daimuz-valencia-espana   \n",
              "1                                              nova-vieska   \n",
              "2                                            everest-today   \n",
              "3        bulac-bibliotheque-universitaire-des-langues-e...   \n",
              "4                                 abc-cable-networks-group   \n",
              "...                                                    ...   \n",
              "1022653                                        baby-season   \n",
              "1022654                                     cueva-carvajal   \n",
              "1022655                             the-cheesecake-factory   \n",
              "1022656                                     plimmer-towers   \n",
              "1022657                                                  0   \n",
              "\n",
              "                                                   website  \\\n",
              "0                     https://es.wikipedia.org/wiki/Daimuz   \n",
              "1                                                        0   \n",
              "2                                                        0   \n",
              "3                                             www.bulac.fr   \n",
              "4                                                        0   \n",
              "...                                                    ...   \n",
              "1022653                                                  0   \n",
              "1022654                        http://www.cuevacarvajal.mx   \n",
              "1022655  http://locations.thecheesecakefactory.com/il/o...   \n",
              "1022656                                                  0   \n",
              "1022657                                                  0   \n",
              "\n",
              "                             cts  \n",
              "0        2019-05-29 01:21:29.987  \n",
              "1        2019-05-29 01:21:38.037  \n",
              "2        2019-05-29 01:21:46.295  \n",
              "3        2019-05-29 01:21:54.355  \n",
              "4        2019-04-02 15:22:55.703  \n",
              "...                          ...  \n",
              "1022653  2019-05-29 01:20:57.078  \n",
              "1022654  2019-05-29 01:21:04.434  \n",
              "1022655  2019-05-29 01:21:13.404  \n",
              "1022656  2019-05-29 01:21:21.628  \n",
              "1022657  2019-05-29 02:07:00.772  \n",
              "\n",
              "[1022658 rows x 23 columns]"
            ]
          },
          "execution_count": 27,
          "metadata": {},
          "output_type": "execute_result"
        }
      ],
      "source": [
        "locations.fillna(0)"
      ]
    },
    {
      "cell_type": "code",
      "execution_count": null,
      "metadata": {
        "id": "55d11d22",
        "outputId": "32ba03f6-42ef-496d-bf41-a178e6892bb9"
      },
      "outputs": [
        {
          "data": {
            "text/plain": [
              "0          2019-05-29 01:21:29.987\n",
              "1          2019-05-29 01:21:38.037\n",
              "2          2019-05-29 01:21:46.295\n",
              "3          2019-05-29 01:21:54.355\n",
              "4          2019-04-02 15:22:55.703\n",
              "                    ...           \n",
              "1022653    2019-05-29 01:20:57.078\n",
              "1022654    2019-05-29 01:21:04.434\n",
              "1022655    2019-05-29 01:21:13.404\n",
              "1022656    2019-05-29 01:21:21.628\n",
              "1022657    2019-05-29 02:07:00.772\n",
              "Name: cts, Length: 1022658, dtype: object"
            ]
          },
          "execution_count": 28,
          "metadata": {},
          "output_type": "execute_result"
        }
      ],
      "source": [
        "locations.cts"
      ]
    },
    {
      "cell_type": "markdown",
      "source": [
        "The same steps could be done for posts and profiles, but there isn't a \"common\" dataframe that we used. We prefered to use chunks and import the columns that we need in every question."
      ],
      "metadata": {
        "id": "FT028T0zWRsB"
      }
    },
    {
      "cell_type": "markdown",
      "metadata": {
        "id": "HYs6roRJlH6i"
      },
      "source": [
        "## RQ2"
      ]
    },
    {
      "cell_type": "markdown",
      "source": [
        "Plot the number of posts for each profile in descending order"
      ],
      "metadata": {
        "id": "BkH3Be6IPJ6Q"
      }
    },
    {
      "cell_type": "code",
      "execution_count": null,
      "metadata": {
        "id": "gSstpmgDlJqb",
        "outputId": "5f2a3d42-edd2-4f1a-9304-5601b40f3416",
        "colab": {
          "base_uri": "https://localhost:8080/",
          "height": 310
        }
      },
      "outputs": [
        {
          "output_type": "display_data",
          "data": {
            "text/plain": [
              "<Figure size 432x288 with 1 Axes>"
            ],
            "image/png": "[encoded data removed]"
          },
          "metadata": {
            "needs_background": "light"
          }
        }
      ],
      "source": [
        "n_posts = profiles.n_posts.dropna()\n",
        "\n",
        "plt.plot(np.sort(n_posts)[::-1]);\n",
        "plt.title('Number of posts for each\\n profile in descending order')\n",
        "plt.ylabel('Log (n posts)')\n",
        "plt.xlabel('Profiles')\n",
        "plt.yscale('log')"
      ]
    },
    {
      "cell_type": "markdown",
      "source": [
        "What posts have the highest number of \"likes\"?"
      ],
      "metadata": {
        "id": "LuQXw0JDPNqY"
      }
    },
    {
      "cell_type": "code",
      "execution_count": null,
      "metadata": {
        "id": "3ZOfsNfwhftX",
        "outputId": "d292638e-654f-489c-dedb-dc0fa4af99ec",
        "colab": {
          "base_uri": "https://localhost:8080/",
          "height": 206
        }
      },
      "outputs": [
        {
          "output_type": "execute_result",
          "data": {
            "text/plain": [
              "              post_id numbr_likes\n",
              "19624085  Bt3yaXmAM0d   8822952.0\n",
              "19623988  BuwffB7g8cK   5447066.0\n",
              "19624082  Buc1gyZAaMQ   5116398.0\n",
              "19623986  BvcukE8AMuG   4271466.0\n",
              "39701024  BqSLFVBFLfq     4264745"
            ],
            "text/html": [
              "\n",
              "  <div id=\"df-7c63c370-4fb9-4d93-a22f-9d18f349e4c0\">\n",
              "    <div class=\"colab-df-container\">\n",
              "      <div>\n",
              "<style scoped>\n",
              "    .dataframe tbody tr th:only-of-type {\n",
              "        vertical-align: middle;\n",
              "    }\n",
              "\n",
              "    .dataframe tbody tr th {\n",
              "        vertical-align: top;\n",
              "    }\n",
              "\n",
              "    .dataframe thead th {\n",
              "        text-align: right;\n",
              "    }\n",
              "</style>\n",
              "<table border=\"1\" class=\"dataframe\">\n",
              "  <thead>\n",
              "    <tr style=\"text-align: right;\">\n",
              "      <th></th>\n",
              "      <th>post_id</th>\n",
              "      <th>numbr_likes</th>\n",
              "    </tr>\n",
              "  </thead>\n",
              "  <tbody>\n",
              "    <tr>\n",
              "      <th>19624085</th>\n",
              "      <td>Bt3yaXmAM0d</td>\n",
              "      <td>8822952.0</td>\n",
              "    </tr>\n",
              "    <tr>\n",
              "      <th>19623988</th>\n",
              "      <td>BuwffB7g8cK</td>\n",
              "      <td>5447066.0</td>\n",
              "    </tr>\n",
              "    <tr>\n",
              "      <th>19624082</th>\n",
              "      <td>Buc1gyZAaMQ</td>\n",
              "      <td>5116398.0</td>\n",
              "    </tr>\n",
              "    <tr>\n",
              "      <th>19623986</th>\n",
              "      <td>BvcukE8AMuG</td>\n",
              "      <td>4271466.0</td>\n",
              "    </tr>\n",
              "    <tr>\n",
              "      <th>39701024</th>\n",
              "      <td>BqSLFVBFLfq</td>\n",
              "      <td>4264745</td>\n",
              "    </tr>\n",
              "  </tbody>\n",
              "</table>\n",
              "</div>\n",
              "      <button class=\"colab-df-convert\" onclick=\"convertToInteractive('df-7c63c370-4fb9-4d93-a22f-9d18f349e4c0')\"\n",
              "              title=\"Convert this dataframe to an interactive table.\"\n",
              "              style=\"display:none;\">\n",
              "        \n",
              "  <svg xmlns=\"http://www.w3.org/2000/svg\" height=\"24px\"viewBox=\"0 0 24 24\"\n",
              "       width=\"24px\">\n",
              "    <path d=\"M0 0h24v24H0V0z\" fill=\"none\"/>\n",
              "    <path d=\"M18.56 5.44l.94 2.06.94-2.06 2.06-.94-2.06-.94-.94-2.06-.94 2.06-2.06.94zm-11 1L8.5 8.5l.94-2.06 2.06-.94-2.06-.94L8.5 2.5l-.94 2.06-2.06.94zm10 10l.94 2.06.94-2.06 2.06-.94-2.06-.94-.94-2.06-.94 2.06-2.06.94z\"/><path d=\"M17.41 7.96l-1.37-1.37c-.4-.4-.92-.59-1.43-.59-.52 0-1.04.2-1.43.59L10.3 9.45l-7.72 7.72c-.78.78-.78 2.05 0 2.83L4 21.41c.39.39.9.59 1.41.59.51 0 1.02-.2 1.41-.59l7.78-7.78 2.81-2.81c.8-.78.8-2.07 0-2.86zM5.41 20L4 18.59l7.72-7.72 1.47 1.35L5.41 20z\"/>\n",
              "  </svg>\n",
              "      </button>\n",
              "      \n",
              "  <style>\n",
              "    .colab-df-container {\n",
              "      display:flex;\n",
              "      flex-wrap:wrap;\n",
              "      gap: 12px;\n",
              "    }\n",
              "\n",
              "    .colab-df-convert {\n",
              "      background-color: #E8F0FE;\n",
              "      border: none;\n",
              "      border-radius: 50%;\n",
              "      cursor: pointer;\n",
              "      display: none;\n",
              "      fill: #1967D2;\n",
              "      height: 32px;\n",
              "      padding: 0 0 0 0;\n",
              "      width: 32px;\n",
              "    }\n",
              "\n",
              "    .colab-df-convert:hover {\n",
              "      background-color: #E2EBFA;\n",
              "      box-shadow: 0px 1px 2px rgba(60, 64, 67, 0.3), 0px 1px 3px 1px rgba(60, 64, 67, 0.15);\n",
              "      fill: #174EA6;\n",
              "    }\n",
              "\n",
              "    [theme=dark] .colab-df-convert {\n",
              "      background-color: #3B4455;\n",
              "      fill: #D2E3FC;\n",
              "    }\n",
              "\n",
              "    [theme=dark] .colab-df-convert:hover {\n",
              "      background-color: #434B5C;\n",
              "      box-shadow: 0px 1px 3px 1px rgba(0, 0, 0, 0.15);\n",
              "      filter: drop-shadow(0px 1px 2px rgba(0, 0, 0, 0.3));\n",
              "      fill: #FFFFFF;\n",
              "    }\n",
              "  </style>\n",
              "\n",
              "      <script>\n",
              "        const buttonEl =\n",
              "          document.querySelector('#df-7c63c370-4fb9-4d93-a22f-9d18f349e4c0 button.colab-df-convert');\n",
              "        buttonEl.style.display =\n",
              "          google.colab.kernel.accessAllowed ? 'block' : 'none';\n",
              "\n",
              "        async function convertToInteractive(key) {\n",
              "          const element = document.querySelector('#df-7c63c370-4fb9-4d93-a22f-9d18f349e4c0');\n",
              "          const dataTable =\n",
              "            await google.colab.kernel.invokeFunction('convertToInteractive',\n",
              "                                                     [key], {});\n",
              "          if (!dataTable) return;\n",
              "\n",
              "          const docLinkHtml = 'Like what you see? Visit the ' +\n",
              "            '<a target=\"_blank\" href=https://colab.research.google.com/notebooks/data_table.ipynb>data table notebook</a>'\n",
              "            + ' to learn more about interactive tables.';\n",
              "          element.innerHTML = '';\n",
              "          dataTable['output_type'] = 'display_data';\n",
              "          await google.colab.output.renderOutput(dataTable, element);\n",
              "          const docLink = document.createElement('div');\n",
              "          docLink.innerHTML = docLinkHtml;\n",
              "          element.appendChild(docLink);\n",
              "        }\n",
              "      </script>\n",
              "    </div>\n",
              "  </div>\n",
              "  "
            ]
          },
          "metadata": {},
          "execution_count": 6
        }
      ],
      "source": [
        "most_likes = pd.DataFrame(columns=['post_id', 'numbr_likes'])\n",
        "\n",
        "for chunk in pd.read_csv('/content/drive/MyDrive/ADM/instagram_posts.csv', sep='\\t', chunksize=500000, usecols=['post_id', 'numbr_likes']):\n",
        "    chunk_most_like = chunk.sort_values(by='numbr_likes', ascending=False).head(5)\n",
        "    most_likes = pd.concat([most_likes, chunk_most_like])\n",
        "\n",
        "# Reading all dataset chunk by chunk we find, after sorting the values, the highest values in the chunk\n",
        "# Then we take the highest among the highest.\n",
        "\n",
        "most_likes.sort_values(by='numbr_likes', ascending=False).head(5)"
      ]
    },
    {
      "cell_type": "markdown",
      "source": [
        "What posts have the most and the least number of comments?"
      ],
      "metadata": {
        "id": "6r2pZVHZPQit"
      }
    },
    {
      "cell_type": "code",
      "source": [
        "most_comment = pd.DataFrame(columns=['post_id', 'number_comments'])\n",
        "least_comment = pd.DataFrame(columns=['post_id', 'number_comments'])\n",
        "\n",
        "for chunk in pd.read_csv('/content/drive/MyDrive/ADM/instagram_posts.csv', sep='\\t', chunksize=500000, usecols=['post_id', 'number_comments']):\n",
        "    chunk_most = chunk.sort_values(by='number_comments', ascending=False).head(5)\n",
        "    chunk_least = chunk.sort_values(by='number_comments', ascending=False).tail(5)\n",
        "    most_comment = pd.concat([most_comment, chunk_most])\n",
        "    least_comment = pd.concat([least_comment, chunk_least])\n",
        "  \n",
        "print('Posts with most comments\\n\\n', most_comment.sort_values(by='number_comments', ascending=False).head(5))\n",
        "print('\\n\\nPosts with least comments\\n\\n', least_comment.sort_values(by='number_comments', ascending=False).head(5))\n",
        "\n",
        "\n",
        "# We take all the dataset by chunk and for every chunk, after ordering it, we take the first and the last five.\n",
        "# In the end we take the highest among the highest and the lowest among the lowest."
      ],
      "metadata": {
        "id": "eSe5wE7szjOC",
        "outputId": "c1194fd2-2019-45df-be16-12afcd66b496",
        "colab": {
          "base_uri": "https://localhost:8080/"
        }
      },
      "execution_count": null,
      "outputs": [
        {
          "output_type": "stream",
          "name": "stdout",
          "text": [
            "Posts with most comments\n",
            "\n",
            "               post_id number_comments\n",
            "41873060  Bx2sPAjHviO          488953\n",
            "12164781  BuGjhWAhAW5          313997\n",
            "33261751  BJ-rkpTgn1N          257488\n",
            "11149127  BMtisIxjhtT          214365\n",
            "9383817   BzOOWj3DfZK          189888\n",
            "\n",
            "\n",
            "Posts with least comments\n",
            "\n",
            "               post_id number_comments\n",
            "77497     BxhcazrhJVo               0\n",
            "29752487  BwiS3P2h_sm               0\n",
            "29752484  BwwhHRUganM               0\n",
            "29499999  Bw4F7e-A3PB               0\n",
            "29374405  BxWHjO0ntUC               0\n"
          ]
        }
      ]
    },
    {
      "cell_type": "markdown",
      "source": [
        "Since the least number of comments in a post is 0, there are a lot posts with this value. Also checking the posts with 1 or 2 comments would be useless because for sure there are a lot. Differently the posts most comented are more interesting and show us the boarderline cases like the first that have almost 500k comments.\n"
      ],
      "metadata": {
        "id": "OV2NsdwQCFqu"
      }
    },
    {
      "cell_type": "markdown",
      "source": [
        "How many posts include tagged locations, and how many do not? Show it using an appropriate chart and comment your results."
      ],
      "metadata": {
        "id": "uWWSNPQ5PTJY"
      }
    },
    {
      "cell_type": "code",
      "source": [
        "loc = 0\n",
        "no_loc = 0\n",
        "\n",
        "for chunk in pd.read_csv('/content/drive/MyDrive/ADM/instagram_posts.csv', sep='\\t', chunksize=500000, usecols=['location_id']):\n",
        "    no_loc += chunk.location_id.isna().sum()\n",
        "    loc += len(chunk)                           # Using chunks we just count the missing values in location_id column\n",
        "\n",
        "\n",
        "plt.pie([loc - no_loc, no_loc], labels=['With', 'Without'], shadow=True, explode=(0, .1),autopct='%1.1f%%')\n",
        "plt.title('Posts and locations tag')\n",
        "plt.show()"
      ],
      "metadata": {
        "id": "4vqoRein9Mcg",
        "colab": {
          "base_uri": "https://localhost:8080/",
          "height": 264
        },
        "outputId": "eb56ab18-b621-4bbf-90ea-8fb65d13f949"
      },
      "execution_count": null,
      "outputs": [
        {
          "output_type": "display_data",
          "data": {
            "text/plain": [
              "<Figure size 432x288 with 1 Axes>"
            ],
            "image/png": "[encoded data removed]"
          },
          "metadata": {}
        }
      ]
    },
    {
      "cell_type": "markdown",
      "source": [
        "How many posts include only photos? How many also have videos?"
      ],
      "metadata": {
        "id": "ijE3gdXiPZ78"
      }
    },
    {
      "cell_type": "code",
      "source": [
        "n_photos = 0\n",
        "n_multy = 0\n",
        "\n",
        "for chunk in pd.read_csv('/content/drive/MyDrive/ADM/instagram_posts.csv', sep='\\t', chunksize=500000, usecols=['post_type']):\n",
        "    for el in chunk.post_type:\n",
        "        if el == 1:\n",
        "            n_photos +=1            # We just count the number of different values of post_type column\n",
        "        elif el == 3:\n",
        "            n_multy += 1\n",
        "\n",
        "print(f'There are {n_photos} posts that include only photos.')\n",
        "print(f'There are {n_multy} posts that include also videos.')"
      ],
      "metadata": {
        "id": "FDorWOWZ9Phi",
        "colab": {
          "base_uri": "https://localhost:8080/"
        },
        "outputId": "9338dc4f-95f9-4326-84bd-7a187bb62ac3"
      },
      "execution_count": null,
      "outputs": [
        {
          "output_type": "stream",
          "name": "stdout",
          "text": [
            "There are 41534486 posts that include only photos.\n",
            "There are 40943 posts that include also videos.\n"
          ]
        }
      ]
    },
    {
      "cell_type": "markdown",
      "source": [
        "What's the percentage of business accounts vs non-business? What can you interpret regarding that percentage?"
      ],
      "metadata": {
        "id": "Ig1_YxRrPhZy"
      }
    },
    {
      "cell_type": "code",
      "execution_count": null,
      "metadata": {
        "id": "4VT51Dtyhgxf",
        "outputId": "2da785ad-6d94-487e-b853-6ffcabb425e4",
        "colab": {
          "base_uri": "https://localhost:8080/",
          "height": 264
        }
      },
      "outputs": [
        {
          "output_type": "display_data",
          "data": {
            "text/plain": [
              "<Figure size 432x288 with 1 Axes>"
            ],
            "image/png": "[encoded data removed]"
          },
          "metadata": {}
        }
      ],
      "source": [
        "business = profiles.is_business_account.dropna()\n",
        "t = sum(business)\n",
        "f = len(business) - t                                  # We just count the quantity of trues and falses in is_business_account column\n",
        "\n",
        "plt.pie([t,f], labels=['Business', 'Not-Business'], shadow=True, explode=(0, .1),autopct='%1.1f%%')\n",
        "plt.title('Types of account')\n",
        "plt.show()"
      ]
    },
    {
      "cell_type": "markdown",
      "source": [
        "The percentage of business account tells us that despite the fact that Instagram it's been created as a platform in which to share photos and videos among users, it is also used a lot from business (almost 25% of total account in our dataset) to share their product and advertise."
      ],
      "metadata": {
        "id": "OZETT9RLLCz9"
      }
    },
    {
      "cell_type": "markdown",
      "metadata": {
        "id": "nrWI2zO6hhH3"
      },
      "source": [
        "## RQ3"
      ]
    },
    {
      "cell_type": "markdown",
      "source": [
        "*What is the most common time in which users publish their posts?*"
      ],
      "metadata": {
        "id": "_qbaHFnFb4l2"
      }
    },
    {
      "cell_type": "code",
      "source": [
        "def post_time(data, count):\n",
        "    postime = pd.to_datetime(data.cts).dt.floor('Min').dt.time\n",
        "    grouping = postime.groupby(postime).size().sort_values(ascending=False).head(count)\n",
        "    timing = grouping.index.to_list()\n",
        "    for i in timing:\n",
        "        print('{:02d}:{:02d}:{:02d}'.format(i.hour, i.minute, i.second))\n",
        "print('The most common time in which users publish their posts:', end=' ')\n",
        "post_time(posts, 1)"
      ],
      "metadata": {
        "colab": {
          "base_uri": "https://localhost:8080/"
        },
        "id": "uWWkWIt5d_aU",
        "outputId": "679e79b3-bafc-436d-fed3-4b8141e89378"
      },
      "execution_count": null,
      "outputs": [
        {
          "output_type": "stream",
          "name": "stdout",
          "text": [
            "The most common time in which users publish their posts: 18:00:00\n"
          ]
        }
      ]
    },
    {
      "cell_type": "markdown",
      "source": [
        "Create a function that receives a time intervals list as a parameter and returns a plot with the number of posts for each given interval."
      ],
      "metadata": {
        "id": "_VZlWmNKd_Ns"
      }
    },
    {
      "cell_type": "code",
      "source": [
        "def plot_posts_time(posts_time):\n",
        "    f = plt.figure()\n",
        "    x_tick = [('06:00:00', '10:59:59'),('11:00:00', '13:59:59'),('14:00:00', '16:59:59'),('17:00:00', '19:59:59'),('20:00:00', '23:59:59'),('00:00:00', '02:59:59'),('03:00:00', '05:59:59')]\n",
        "    plt.xticks(x_tick, [\"{}:00\".format(x).zfill(5) for x in range(0,25)])\n",
        "    plt.ylabel(\"Number of posts\", fontsize=14, labelpad=20)\n",
        "    plt.xlabel(\"Time\", fontsize=14, labelpad=20)\n",
        "    plt.title(\"Daily temporal distribution of posts published\", fontsize=18)\n",
        "    plt.hist(posts_time, bins=range(25), color='blue', ec=\"k\")\n",
        "    f.set_figwidth(14)\n",
        "    f.set_figheight(8)\n",
        "\n",
        "    return"
      ],
      "metadata": {
        "id": "0dxx1yZ0uVAF"
      },
      "execution_count": null,
      "outputs": []
    },
    {
      "cell_type": "code",
      "source": [
        "def time_interval(data, intervals):\n",
        "    datex = pd.DataFrame(pd.to_datetime(data.cts))\n",
        "    datex.set_index(pd.DatetimeIndex(datex.cts), inplace=True)\n",
        "    calc = 0\n",
        "    value_counts = pd.DataFrame()\n",
        "    for interval in intervals:\n",
        "        start, end = interval\n",
        "        total = datex.between_time(start, end).count()\n",
        "        total = int(total[0])\n",
        "        print([interval],total)\n",
        "        RES = pd.DataFrame({'time interval (start, end)' : [interval], 'total posts' : total})\n",
        "        value_counts = value_counts.append(RES)\n",
        "        calc += total\n",
        "    sns.set()\n",
        "    \n",
        "    ax = value_counts.plot(figsize=(14,8), kind='bar', color = 'blue', zorder=3)\n",
        "    a = [0, 1, 2, 3, 4, 5, 6]\n",
        "    plt.xticks(a, intervals, rotation = 30)   \n",
        "    plt.xlabel(\"Time\", fontsize=14, labelpad=20)\n",
        "    plt.ylabel(\"Number of posts\", fontsize=14, labelpad=20)\n",
        "    plt.title(\"Daily temporal distribution of posts published\", fontsize=18)\n",
        "    plt.show()"
      ],
      "metadata": {
        "id": "VIaWPwoujNOv"
      },
      "execution_count": null,
      "outputs": []
    },
    {
      "cell_type": "markdown",
      "source": [
        "Use the function that you created in the previous literal to plot the number of posts between the following time intervals:"
      ],
      "metadata": {
        "id": "dR2GY9HylH5h"
      }
    },
    {
      "cell_type": "code",
      "source": [
        "time_intervals = [('06:00:00', '10:59:59'),('11:00:00', '13:59:59'),('14:00:00', '16:59:59'),('17:00:00', '19:59:59'),('20:00:00', '23:59:59'),('00:00:00', '02:59:59'),('03:00:00', '05:59:59')]"
      ],
      "metadata": {
        "id": "CWN77NgvjFCS"
      },
      "execution_count": null,
      "outputs": []
    },
    {
      "cell_type": "code",
      "source": [
        "time_interval(posts, time_intervals)"
      ],
      "metadata": {
        "colab": {
          "base_uri": "https://localhost:8080/",
          "height": 726
        },
        "id": "h2vRCWbvjLo5",
        "outputId": "ad0376e9-daca-4372-ed11-1ee7af4e4027"
      },
      "execution_count": null,
      "outputs": [
        {
          "output_type": "stream",
          "name": "stdout",
          "text": [
            "[('06:00:00', '10:59:59')] 6378572\n",
            "[('11:00:00', '13:59:59')] 5614715\n",
            "[('14:00:00', '16:59:59')] 6763037\n",
            "[('17:00:00', '19:59:59')] 7409907\n",
            "[('20:00:00', '23:59:59')] 8915794\n",
            "[('00:00:00', '02:59:59')] 4213617\n",
            "[('03:00:00', '05:59:59')] 3411223\n"
          ]
        },
        {
          "output_type": "display_data",
          "data": {
            "text/plain": [
              "<Figure size 1008x576 with 1 Axes>"
            ],
            "image/png": "[encoded data removed]"
          },
          "metadata": {}
        }
      ]
    },
    {
      "cell_type": "markdown",
      "metadata": {
        "id": "tmdOh-TVhlA-"
      },
      "source": [
        "## RQ4:\n",
        "\n"
      ]
    },
    {
      "cell_type": "markdown",
      "source": [
        "Write a function that, given a profile_id, will be able to return the posts that belong to the given profile_id:"
      ],
      "metadata": {
        "id": "iSOnl0pQ9r_h"
      }
    },
    {
      "cell_type": "code",
      "execution_count": null,
      "metadata": {
        "id": "n2jquz2KhlIf"
      },
      "outputs": [],
      "source": [
        "def rq41(profile_id):    \n",
        "    lista = pd.DataFrame(columns = [\"post_id\"])    #create empty dataframe \n",
        "    for chunk in pd.read_csv('/content/drive/MyDrive/ADM/instagram_posts.csv',on_bad_lines = \"skip\",sep = \"\\t\",chunksize= 500000,usecols=[\"post_id\",\"profile_id\"]):\n",
        "        chunk_filtered = chunk.loc[(chunk[\"profile_id\"] == profile_id)]   #filter the profile_id== to the id that i give to the function\n",
        "        chunk_selection = chunk_filtered[[\"post_id\"]] #select the post of the filtered profile_id \n",
        "        lista = pd.concat([lista,chunk_selection])   #concat with the column \"post_id\"\n",
        "    return lista\n",
        "rq41(\"inserire id\")  #example \"1074146658\""
      ]
    },
    {
      "cell_type": "markdown",
      "source": [
        "Write another function that, given an input n (an integer), will return the posts that belong to the n top posted profiles (top n profiles that have posted the highest number of posts) that their data is available in the profile.csv using the previously written function:"
      ],
      "metadata": {
        "id": "JV6GroP-Mu2q"
      }
    },
    {
      "cell_type": "code",
      "execution_count": null,
      "metadata": {
        "id": "cadf2c96",
        "outputId": "398afa36-d285-4cd0-84f5-930e9efdceb9"
      },
      "outputs": [
        {
          "data": {
            "text/plain": [
              "profile_id    318106852.0\n",
              "Name: 42382, dtype: float64"
            ]
          },
          "execution_count": 30,
          "metadata": {},
          "output_type": "execute_result"
        }
      ],
      "source": [
        "# Table n_posts e profile_id:\n",
        "topN = pd.DataFrame(profiles.loc[:,[\"n_posts\",\"profile_id\"]])\n",
        "topN.fillna(0,inplace=True)\n",
        "a = topN.sort_values(by=[\"n_posts\"],ascending = False)\n",
        "b = a[[\"profile_id\"]]\n",
        "\n",
        "#Generating random number:\n",
        "n = randrange(1, len(a[[\"profile_id\"]])+1)\n",
        "\n",
        "#Generating function:\n",
        "def RQ42(n):\n",
        "    c=b.loc[n]\n",
        "    return c\n",
        "    \n",
        "RQ42(n) \n",
        "\n",
        "#The output id of this function must be inserted in rq41 function\n",
        "\n",
        "\n",
        "\n",
        "    \n",
        "  "
      ]
    },
    {
      "cell_type": "markdown",
      "source": [
        "What is the average number of \"likes\" and comments of the top 10 profiles with the highest number of posts which their information is available in profile.csv?"
      ],
      "metadata": {
        "id": "DJmJ8lTDOGF5"
      }
    },
    {
      "cell_type": "code",
      "execution_count": null,
      "metadata": {
        "id": "4c8694a2",
        "outputId": "d05c0d21-1ff9-44de-9c7f-80074ca78de2"
      },
      "outputs": [
        {
          "data": {
            "text/html": [
              "<div>\n",
              "<style scoped>\n",
              "    .dataframe tbody tr th:only-of-type {\n",
              "        vertical-align: middle;\n",
              "    }\n",
              "\n",
              "    .dataframe tbody tr th {\n",
              "        vertical-align: top;\n",
              "    }\n",
              "\n",
              "    .dataframe thead th {\n",
              "        text-align: right;\n",
              "    }\n",
              "</style>\n",
              "<table border=\"1\" class=\"dataframe\">\n",
              "  <thead>\n",
              "    <tr style=\"text-align: right;\">\n",
              "      <th></th>\n",
              "      <th>profile_id</th>\n",
              "      <th>number_comments</th>\n",
              "      <th>numbr_likes</th>\n",
              "      <th>n_posts</th>\n",
              "    </tr>\n",
              "  </thead>\n",
              "  <tbody>\n",
              "    <tr>\n",
              "      <th>0</th>\n",
              "      <td>1701679225</td>\n",
              "      <td>0</td>\n",
              "      <td>0</td>\n",
              "      <td>112260.0</td>\n",
              "    </tr>\n",
              "    <tr>\n",
              "      <th>1</th>\n",
              "      <td>1701679225</td>\n",
              "      <td>0</td>\n",
              "      <td>4</td>\n",
              "      <td>112260.0</td>\n",
              "    </tr>\n",
              "    <tr>\n",
              "      <th>2</th>\n",
              "      <td>1701679225</td>\n",
              "      <td>0</td>\n",
              "      <td>2</td>\n",
              "      <td>112260.0</td>\n",
              "    </tr>\n",
              "    <tr>\n",
              "      <th>3</th>\n",
              "      <td>1701679225</td>\n",
              "      <td>0</td>\n",
              "      <td>0</td>\n",
              "      <td>112260.0</td>\n",
              "    </tr>\n",
              "    <tr>\n",
              "      <th>4</th>\n",
              "      <td>1607309412</td>\n",
              "      <td>0</td>\n",
              "      <td>1</td>\n",
              "      <td>117262.0</td>\n",
              "    </tr>\n",
              "    <tr>\n",
              "      <th>...</th>\n",
              "      <td>...</td>\n",
              "      <td>...</td>\n",
              "      <td>...</td>\n",
              "      <td>...</td>\n",
              "    </tr>\n",
              "    <tr>\n",
              "      <th>1</th>\n",
              "      <td>1603889832</td>\n",
              "      <td>0</td>\n",
              "      <td>36</td>\n",
              "      <td>113780.0</td>\n",
              "    </tr>\n",
              "    <tr>\n",
              "      <th>2</th>\n",
              "      <td>1603889832</td>\n",
              "      <td>0</td>\n",
              "      <td>4</td>\n",
              "      <td>113780.0</td>\n",
              "    </tr>\n",
              "    <tr>\n",
              "      <th>3</th>\n",
              "      <td>1701679225</td>\n",
              "      <td>0</td>\n",
              "      <td>1</td>\n",
              "      <td>112260.0</td>\n",
              "    </tr>\n",
              "    <tr>\n",
              "      <th>0</th>\n",
              "      <td>1701679225.0</td>\n",
              "      <td>0</td>\n",
              "      <td>0</td>\n",
              "      <td>112260.0</td>\n",
              "    </tr>\n",
              "    <tr>\n",
              "      <th>1</th>\n",
              "      <td>1607309412.0</td>\n",
              "      <td>0</td>\n",
              "      <td>0</td>\n",
              "      <td>117262.0</td>\n",
              "    </tr>\n",
              "  </tbody>\n",
              "</table>\n",
              "<p>432 rows × 4 columns</p>\n",
              "</div>"
            ],
            "text/plain": [
              "      profile_id number_comments numbr_likes   n_posts\n",
              "0     1701679225               0           0  112260.0\n",
              "1     1701679225               0           4  112260.0\n",
              "2     1701679225               0           2  112260.0\n",
              "3     1701679225               0           0  112260.0\n",
              "4     1607309412               0           1  117262.0\n",
              "..           ...             ...         ...       ...\n",
              "1     1603889832               0          36  113780.0\n",
              "2     1603889832               0           4  113780.0\n",
              "3     1701679225               0           1  112260.0\n",
              "0   1701679225.0               0           0  112260.0\n",
              "1   1607309412.0               0           0  117262.0\n",
              "\n",
              "[432 rows x 4 columns]"
            ]
          },
          "execution_count": 176,
          "metadata": {},
          "output_type": "execute_result"
        }
      ],
      "source": [
        "topn = pd.DataFrame(profiles.loc[:,[\"profile_id\",\"n_posts\"]])\n",
        "topn.fillna(0,inplace= True)\n",
        "a = topn.sort_values(by=[\"n_posts\"],ascending = False)      #create a table with profile_id,sorted by \"n_posts\"\n",
        "Top10 = a.head(11)  #obtained the top 10 profiles with more posts\n",
        "\n",
        "Top10.reset_index().drop([\"index\"],axis = 1)\n",
        "lista2 = pd.DataFrame(columns = [\"profile_id\",\"number_comments\",\"numbr_likes\"])  #as in 4.2, create an empty dataframe to concat after the for\n",
        "for chunk in pd.read_csv('/content/drive/MyDrive/ADM/instagram_posts.csv',on_bad_lines = \"skip\",sep = \"\\t\",chunksize= 500000,usecols=[\"profile_id\",\"number_comments\",\"numbr_likes\"]):\n",
        "    chunk_in_common = pd.merge(chunk,Top10)    #merge top 10 profiles with highest nr of posts with chunk of number comments and number likes(through a join on \"profile_id\")\n",
        "    lista2 = pd.concat([lista2,chunk_in_common])   #concat\n",
        "lista2\n",
        "    \n",
        "#lista 2 contains comments and likes of the 10 top profiles"
      ]
    },
    {
      "cell_type": "code",
      "execution_count": null,
      "metadata": {
        "id": "3fde3360",
        "outputId": "523c9fb0-4149-4f59-cc16-782060274805"
      },
      "outputs": [
        {
          "data": {
            "text/html": [
              "<div>\n",
              "<style scoped>\n",
              "    .dataframe tbody tr th:only-of-type {\n",
              "        vertical-align: middle;\n",
              "    }\n",
              "\n",
              "    .dataframe tbody tr th {\n",
              "        vertical-align: top;\n",
              "    }\n",
              "\n",
              "    .dataframe thead th {\n",
              "        text-align: right;\n",
              "    }\n",
              "</style>\n",
              "<table border=\"1\" class=\"dataframe\">\n",
              "  <thead>\n",
              "    <tr style=\"text-align: right;\">\n",
              "      <th></th>\n",
              "      <th>number_comments</th>\n",
              "      <th>numbr_likes</th>\n",
              "    </tr>\n",
              "    <tr>\n",
              "      <th>profile_id</th>\n",
              "      <th></th>\n",
              "      <th></th>\n",
              "    </tr>\n",
              "  </thead>\n",
              "  <tbody>\n",
              "    <tr>\n",
              "      <th>9.813508e+06</th>\n",
              "      <td>0.000000</td>\n",
              "      <td>0.296296</td>\n",
              "    </tr>\n",
              "    <tr>\n",
              "      <th>1.996648e+08</th>\n",
              "      <td>0.000000</td>\n",
              "      <td>7.666667</td>\n",
              "    </tr>\n",
              "    <tr>\n",
              "      <th>2.181730e+08</th>\n",
              "      <td>0.040000</td>\n",
              "      <td>0.400000</td>\n",
              "    </tr>\n",
              "    <tr>\n",
              "      <th>2.855497e+08</th>\n",
              "      <td>0.000000</td>\n",
              "      <td>3.921875</td>\n",
              "    </tr>\n",
              "    <tr>\n",
              "      <th>1.087614e+09</th>\n",
              "      <td>0.184211</td>\n",
              "      <td>2.026316</td>\n",
              "    </tr>\n",
              "    <tr>\n",
              "      <th>1.273455e+09</th>\n",
              "      <td>0.040000</td>\n",
              "      <td>2.960000</td>\n",
              "    </tr>\n",
              "    <tr>\n",
              "      <th>1.603890e+09</th>\n",
              "      <td>0.044776</td>\n",
              "      <td>6.477612</td>\n",
              "    </tr>\n",
              "    <tr>\n",
              "      <th>1.607309e+09</th>\n",
              "      <td>0.000000</td>\n",
              "      <td>1.540541</td>\n",
              "    </tr>\n",
              "    <tr>\n",
              "      <th>1.701679e+09</th>\n",
              "      <td>0.000000</td>\n",
              "      <td>1.447368</td>\n",
              "    </tr>\n",
              "    <tr>\n",
              "      <th>8.563367e+09</th>\n",
              "      <td>0.000000</td>\n",
              "      <td>0.000000</td>\n",
              "    </tr>\n",
              "  </tbody>\n",
              "</table>\n",
              "</div>"
            ],
            "text/plain": [
              "              number_comments  numbr_likes\n",
              "profile_id                                \n",
              "9.813508e+06         0.000000     0.296296\n",
              "1.996648e+08         0.000000     7.666667\n",
              "2.181730e+08         0.040000     0.400000\n",
              "2.855497e+08         0.000000     3.921875\n",
              "1.087614e+09         0.184211     2.026316\n",
              "1.273455e+09         0.040000     2.960000\n",
              "1.603890e+09         0.044776     6.477612\n",
              "1.607309e+09         0.000000     1.540541\n",
              "1.701679e+09         0.000000     1.447368\n",
              "8.563367e+09         0.000000     0.000000"
            ]
          },
          "execution_count": 195,
          "metadata": {},
          "output_type": "execute_result"
        }
      ],
      "source": [
        "lista2.sort_values(by=['n_posts'], inplace = True,ascending = False)\n",
        "Avg = lista2.groupby(\"profile_id\")\n",
        "#Get the groups and calculate the mean\n",
        "Avg[[\"number_comments\",\"numbr_likes\"]].agg(np.mean)\n"
      ]
    },
    {
      "cell_type": "markdown",
      "source": [
        "Plot the number of posts that these top 10 profiles have sent on Instagram in the given interval in question RQ3. Interpret the resulting chart."
      ],
      "metadata": {
        "id": "jhpXiUOPP1M1"
      }
    },
    {
      "cell_type": "code",
      "execution_count": null,
      "metadata": {
        "id": "935ca37c",
        "outputId": "08607a35-5206-4a35-8bbf-094e910927d7"
      },
      "outputs": [
        {
          "data": {
            "text/html": [
              "<div>\n",
              "<style scoped>\n",
              "    .dataframe tbody tr th:only-of-type {\n",
              "        vertical-align: middle;\n",
              "    }\n",
              "\n",
              "    .dataframe tbody tr th {\n",
              "        vertical-align: top;\n",
              "    }\n",
              "\n",
              "    .dataframe thead th {\n",
              "        text-align: right;\n",
              "    }\n",
              "</style>\n",
              "<table border=\"1\" class=\"dataframe\">\n",
              "  <thead>\n",
              "    <tr style=\"text-align: right;\">\n",
              "      <th></th>\n",
              "      <th>profile_id</th>\n",
              "      <th>cts</th>\n",
              "      <th>post_id</th>\n",
              "    </tr>\n",
              "  </thead>\n",
              "  <tbody>\n",
              "    <tr>\n",
              "      <th>0</th>\n",
              "      <td>1701679225</td>\n",
              "      <td>2019-05-21 06:31:43.000</td>\n",
              "      <td>BxthV3ShVom</td>\n",
              "    </tr>\n",
              "    <tr>\n",
              "      <th>1</th>\n",
              "      <td>1701679225</td>\n",
              "      <td>2019-05-28 11:36:35.000</td>\n",
              "      <td>ByAFy4jhV31</td>\n",
              "    </tr>\n",
              "    <tr>\n",
              "      <th>2</th>\n",
              "      <td>1701679225</td>\n",
              "      <td>2019-05-21 05:27:11.000</td>\n",
              "      <td>BxtZ9NQhF5Q</td>\n",
              "    </tr>\n",
              "    <tr>\n",
              "      <th>3</th>\n",
              "      <td>1701679225</td>\n",
              "      <td>2019-05-18 12:35:53.000</td>\n",
              "      <td>Bxmcoaxh-2v</td>\n",
              "    </tr>\n",
              "    <tr>\n",
              "      <th>4</th>\n",
              "      <td>1607309412</td>\n",
              "      <td>2019-05-28 11:36:28.000</td>\n",
              "      <td>ByAFx7gnNhZ</td>\n",
              "    </tr>\n",
              "    <tr>\n",
              "      <th>...</th>\n",
              "      <td>...</td>\n",
              "      <td>...</td>\n",
              "      <td>...</td>\n",
              "    </tr>\n",
              "    <tr>\n",
              "      <th>1</th>\n",
              "      <td>1603889832</td>\n",
              "      <td>2019-05-21 08:59:01.000</td>\n",
              "      <td>BxtyMobBsXy</td>\n",
              "    </tr>\n",
              "    <tr>\n",
              "      <th>2</th>\n",
              "      <td>1603889832</td>\n",
              "      <td>2019-04-23 06:55:01.000</td>\n",
              "      <td>Bwldv-OhvYh</td>\n",
              "    </tr>\n",
              "    <tr>\n",
              "      <th>3</th>\n",
              "      <td>1701679225</td>\n",
              "      <td>2019-05-22 08:54:51.000</td>\n",
              "      <td>BxwWhDXh9-v</td>\n",
              "    </tr>\n",
              "    <tr>\n",
              "      <th>0</th>\n",
              "      <td>1701679225.0</td>\n",
              "      <td>2019-04-07 17:45:34.000</td>\n",
              "      <td>Bv9bevBhRyb</td>\n",
              "    </tr>\n",
              "    <tr>\n",
              "      <th>1</th>\n",
              "      <td>1607309412.0</td>\n",
              "      <td>2019-04-07 17:45:34.000</td>\n",
              "      <td>Bv9beu5lnnM</td>\n",
              "    </tr>\n",
              "  </tbody>\n",
              "</table>\n",
              "<p>432 rows × 3 columns</p>\n",
              "</div>"
            ],
            "text/plain": [
              "      profile_id                      cts      post_id\n",
              "0     1701679225  2019-05-21 06:31:43.000  BxthV3ShVom\n",
              "1     1701679225  2019-05-28 11:36:35.000  ByAFy4jhV31\n",
              "2     1701679225  2019-05-21 05:27:11.000  BxtZ9NQhF5Q\n",
              "3     1701679225  2019-05-18 12:35:53.000  Bxmcoaxh-2v\n",
              "4     1607309412  2019-05-28 11:36:28.000  ByAFx7gnNhZ\n",
              "..           ...                      ...          ...\n",
              "1     1603889832  2019-05-21 08:59:01.000  BxtyMobBsXy\n",
              "2     1603889832  2019-04-23 06:55:01.000  Bwldv-OhvYh\n",
              "3     1701679225  2019-05-22 08:54:51.000  BxwWhDXh9-v\n",
              "0   1701679225.0  2019-04-07 17:45:34.000  Bv9bevBhRyb\n",
              "1   1607309412.0  2019-04-07 17:45:34.000  Bv9beu5lnnM\n",
              "\n",
              "[432 rows x 3 columns]"
            ]
          },
          "execution_count": 75,
          "metadata": {},
          "output_type": "execute_result"
        }
      ],
      "source": [
        "#list with cts and posts of the top 10 profiles\n",
        "Top101=Top10.drop([\"n_posts\"],axis=1)\n",
        "lista10 = pd.DataFrame(columns = [\"profile_id\",\"cts\"])\n",
        "for chunk in pd.read_csv('C:/Users/Gabbo/Desktop/instagram_posts.csv',on_bad_lines = \"skip\",sep = \"\\t\",chunksize= 500000,usecols=[\"profile_id\",\"post_id\",\"cts\"]):\n",
        "    chunk_in_common = pd.merge(chunk,Top101)\n",
        "    lista10 = pd.concat([lista10,chunk_in_common])\n",
        "lista10"
      ]
    },
    {
      "cell_type": "code",
      "execution_count": null,
      "metadata": {
        "id": "4a0ff058",
        "outputId": "1ba4db35-7ccf-4441-9a68-ad6ecfb0e889"
      },
      "outputs": [
        {
          "name": "stdout",
          "output_type": "stream",
          "text": [
            "[('06:00:00', '10:59:59')] 139\n",
            "[('11:00:00', '13:59:59')] 44\n",
            "[('14:00:00', '16:59:59')] 55\n",
            "[('17:00:00', '19:59:59')] 36\n",
            "[('20:00:00', '23:59:59')] 22\n",
            "[('00:00:00', '02:59:59')] 33\n",
            "[('03:00:00', '05:59:59')] 103\n"
          ]
        },
        {
          "data": {
            "image/png": "[encoded data removed]",
            "text/plain": [
              "<Figure size 1008x576 with 1 Axes>"
            ]
          },
          "metadata": {},
          "output_type": "display_data"
        }
      ],
      "source": [
        "time_interval(lista10, time_intervals2)"
      ]
    },
    {
      "cell_type": "markdown",
      "source": [
        "The posts are distributed equally during the day, except for the period from 3 to 10 o'clock. That's because, in according to the time-zone, this is the better period to post something(specially for the promotional account) because there are more people online that can interact with."
      ],
      "metadata": {
        "id": "SaYX7oaRm_ma"
      }
    },
    {
      "cell_type": "markdown",
      "metadata": {
        "id": "8GvPBVJKhlSw"
      },
      "source": [
        "## RQ5"
      ]
    },
    {
      "cell_type": "markdown",
      "source": [
        "Plot the top 10 most popular users in terms of followers and their number of posts."
      ],
      "metadata": {
        "id": "SdPKJUygQwVE"
      }
    },
    {
      "cell_type": "code",
      "execution_count": null,
      "metadata": {
        "id": "6f69293e",
        "outputId": "c09c1689-9ab9-4bbe-a1a8-a431ffc255ee"
      },
      "outputs": [
        {
          "data": {
            "text/html": [
              "<div>\n",
              "<style scoped>\n",
              "    .dataframe tbody tr th:only-of-type {\n",
              "        vertical-align: middle;\n",
              "    }\n",
              "\n",
              "    .dataframe tbody tr th {\n",
              "        vertical-align: top;\n",
              "    }\n",
              "\n",
              "    .dataframe thead th {\n",
              "        text-align: right;\n",
              "    }\n",
              "</style>\n",
              "<table border=\"1\" class=\"dataframe\">\n",
              "  <thead>\n",
              "    <tr style=\"text-align: right;\">\n",
              "      <th></th>\n",
              "      <th>followers</th>\n",
              "      <th>n_posts</th>\n",
              "      <th>profile_name</th>\n",
              "      <th>profile_id</th>\n",
              "    </tr>\n",
              "  </thead>\n",
              "  <tbody>\n",
              "    <tr>\n",
              "      <th>2880218</th>\n",
              "      <td>285457645.0</td>\n",
              "      <td>5760.0</td>\n",
              "      <td>instagram</td>\n",
              "      <td>2.502532e+07</td>\n",
              "    </tr>\n",
              "    <tr>\n",
              "      <th>2582507</th>\n",
              "      <td>65269440.0</td>\n",
              "      <td>7355.0</td>\n",
              "      <td>victoriassecret</td>\n",
              "      <td>3.416684e+06</td>\n",
              "    </tr>\n",
              "    <tr>\n",
              "      <th>3820939</th>\n",
              "      <td>35339708.0</td>\n",
              "      <td>28816.0</td>\n",
              "      <td>nba</td>\n",
              "      <td>2.082449e+07</td>\n",
              "    </tr>\n",
              "    <tr>\n",
              "      <th>701965</th>\n",
              "      <td>30689316.0</td>\n",
              "      <td>3352.0</td>\n",
              "      <td>louisvuitton</td>\n",
              "      <td>1.876191e+08</td>\n",
              "    </tr>\n",
              "    <tr>\n",
              "      <th>2414951</th>\n",
              "      <td>30246783.0</td>\n",
              "      <td>2791.0</td>\n",
              "      <td>buzzfeedtasty</td>\n",
              "      <td>2.125507e+09</td>\n",
              "    </tr>\n",
              "    <tr>\n",
              "      <th>2785241</th>\n",
              "      <td>29542143.0</td>\n",
              "      <td>990.0</td>\n",
              "      <td>andresiniesta8</td>\n",
              "      <td>4.968651e+08</td>\n",
              "    </tr>\n",
              "    <tr>\n",
              "      <th>333193</th>\n",
              "      <td>29176804.0</td>\n",
              "      <td>4566.0</td>\n",
              "      <td>hm</td>\n",
              "      <td>2.341008e+07</td>\n",
              "    </tr>\n",
              "    <tr>\n",
              "      <th>3934581</th>\n",
              "      <td>29042823.0</td>\n",
              "      <td>4719.0</td>\n",
              "      <td>princessyahrini</td>\n",
              "      <td>2.423993e+07</td>\n",
              "    </tr>\n",
              "    <tr>\n",
              "      <th>1311970</th>\n",
              "      <td>26476004.0</td>\n",
              "      <td>1311.0</td>\n",
              "      <td>danbilzerian</td>\n",
              "      <td>5.041706e+07</td>\n",
              "    </tr>\n",
              "    <tr>\n",
              "      <th>1703764</th>\n",
              "      <td>26252169.0</td>\n",
              "      <td>1173.0</td>\n",
              "      <td>akshaykumar</td>\n",
              "      <td>9.070254e+08</td>\n",
              "    </tr>\n",
              "  </tbody>\n",
              "</table>\n",
              "</div>"
            ],
            "text/plain": [
              "           followers  n_posts     profile_name    profile_id\n",
              "2880218  285457645.0   5760.0        instagram  2.502532e+07\n",
              "2582507   65269440.0   7355.0  victoriassecret  3.416684e+06\n",
              "3820939   35339708.0  28816.0              nba  2.082449e+07\n",
              "701965    30689316.0   3352.0     louisvuitton  1.876191e+08\n",
              "2414951   30246783.0   2791.0    buzzfeedtasty  2.125507e+09\n",
              "2785241   29542143.0    990.0   andresiniesta8  4.968651e+08\n",
              "333193    29176804.0   4566.0               hm  2.341008e+07\n",
              "3934581   29042823.0   4719.0  princessyahrini  2.423993e+07\n",
              "1311970   26476004.0   1311.0     danbilzerian  5.041706e+07\n",
              "1703764   26252169.0   1173.0      akshaykumar  9.070254e+08"
            ]
          },
          "execution_count": 25,
          "metadata": {},
          "output_type": "execute_result"
        },
        {
          "data": {
            "image/png": "[encoded data removed]",
            "text/plain": [
              "<Figure size 432x288 with 1 Axes>"
            ]
          },
          "metadata": {
            "needs_background": "light"
          },
          "output_type": "display_data"
        }
      ],
      "source": [
        "Top10follower = pd.DataFrame(profiles.loc[:,[\"followers\",\"n_posts\",\"profile_name\",\"profile_id\"]])   #select the column\n",
        "Top10follower.fillna(0,inplace = True)     #avoid the \"Nan\" problem\n",
        "Top10follower2 = Top10follower.sort_values(by=[\"followers\"],ascending=False).head(10)   \n",
        "Top10follower2.plot(kind = \"bar\",x = \"profile_name\", y = \"n_posts\")\n",
        "Top10follower2"
      ]
    },
    {
      "cell_type": "markdown",
      "source": [
        "Who is the most influential user?\n",
        "The most influential user is Instagram, with over 285 million followers."
      ],
      "metadata": {
        "id": "2rhsZCR1RVH6"
      }
    },
    {
      "cell_type": "code",
      "execution_count": null,
      "metadata": {
        "id": "a6d33d1d",
        "outputId": "399910b4-fcf2-4de5-b291-ac0904fef5d1"
      },
      "outputs": [
        {
          "data": {
            "text/html": [
              "<div>\n",
              "<style scoped>\n",
              "    .dataframe tbody tr th:only-of-type {\n",
              "        vertical-align: middle;\n",
              "    }\n",
              "\n",
              "    .dataframe tbody tr th {\n",
              "        vertical-align: top;\n",
              "    }\n",
              "\n",
              "    .dataframe thead th {\n",
              "        text-align: right;\n",
              "    }\n",
              "</style>\n",
              "<table border=\"1\" class=\"dataframe\">\n",
              "  <thead>\n",
              "    <tr style=\"text-align: right;\">\n",
              "      <th></th>\n",
              "      <th>followers</th>\n",
              "      <th>n_posts</th>\n",
              "      <th>profile_name</th>\n",
              "      <th>profile_id</th>\n",
              "    </tr>\n",
              "  </thead>\n",
              "  <tbody>\n",
              "    <tr>\n",
              "      <th>2880218</th>\n",
              "      <td>285457645.0</td>\n",
              "      <td>5760.0</td>\n",
              "      <td>instagram</td>\n",
              "      <td>2.502532e+07</td>\n",
              "    </tr>\n",
              "    <tr>\n",
              "      <th>2582507</th>\n",
              "      <td>65269440.0</td>\n",
              "      <td>7355.0</td>\n",
              "      <td>victoriassecret</td>\n",
              "      <td>3.416684e+06</td>\n",
              "    </tr>\n",
              "    <tr>\n",
              "      <th>3820939</th>\n",
              "      <td>35339708.0</td>\n",
              "      <td>28816.0</td>\n",
              "      <td>nba</td>\n",
              "      <td>2.082449e+07</td>\n",
              "    </tr>\n",
              "    <tr>\n",
              "      <th>701965</th>\n",
              "      <td>30689316.0</td>\n",
              "      <td>3352.0</td>\n",
              "      <td>louisvuitton</td>\n",
              "      <td>1.876191e+08</td>\n",
              "    </tr>\n",
              "    <tr>\n",
              "      <th>2414951</th>\n",
              "      <td>30246783.0</td>\n",
              "      <td>2791.0</td>\n",
              "      <td>buzzfeedtasty</td>\n",
              "      <td>2.125507e+09</td>\n",
              "    </tr>\n",
              "    <tr>\n",
              "      <th>2785241</th>\n",
              "      <td>29542143.0</td>\n",
              "      <td>990.0</td>\n",
              "      <td>andresiniesta8</td>\n",
              "      <td>4.968651e+08</td>\n",
              "    </tr>\n",
              "    <tr>\n",
              "      <th>333193</th>\n",
              "      <td>29176804.0</td>\n",
              "      <td>4566.0</td>\n",
              "      <td>hm</td>\n",
              "      <td>2.341008e+07</td>\n",
              "    </tr>\n",
              "    <tr>\n",
              "      <th>3934581</th>\n",
              "      <td>29042823.0</td>\n",
              "      <td>4719.0</td>\n",
              "      <td>princessyahrini</td>\n",
              "      <td>2.423993e+07</td>\n",
              "    </tr>\n",
              "    <tr>\n",
              "      <th>1311970</th>\n",
              "      <td>26476004.0</td>\n",
              "      <td>1311.0</td>\n",
              "      <td>danbilzerian</td>\n",
              "      <td>5.041706e+07</td>\n",
              "    </tr>\n",
              "    <tr>\n",
              "      <th>1703764</th>\n",
              "      <td>26252169.0</td>\n",
              "      <td>1173.0</td>\n",
              "      <td>akshaykumar</td>\n",
              "      <td>9.070254e+08</td>\n",
              "    </tr>\n",
              "  </tbody>\n",
              "</table>\n",
              "</div>"
            ],
            "text/plain": [
              "           followers  n_posts     profile_name    profile_id\n",
              "2880218  285457645.0   5760.0        instagram  2.502532e+07\n",
              "2582507   65269440.0   7355.0  victoriassecret  3.416684e+06\n",
              "3820939   35339708.0  28816.0              nba  2.082449e+07\n",
              "701965    30689316.0   3352.0     louisvuitton  1.876191e+08\n",
              "2414951   30246783.0   2791.0    buzzfeedtasty  2.125507e+09\n",
              "2785241   29542143.0    990.0   andresiniesta8  4.968651e+08\n",
              "333193    29176804.0   4566.0               hm  2.341008e+07\n",
              "3934581   29042823.0   4719.0  princessyahrini  2.423993e+07\n",
              "1311970   26476004.0   1311.0     danbilzerian  5.041706e+07\n",
              "1703764   26252169.0   1173.0      akshaykumar  9.070254e+08"
            ]
          },
          "execution_count": 27,
          "metadata": {},
          "output_type": "execute_result"
        }
      ],
      "source": [
        "Top10follower2.head(10)"
      ]
    },
    {
      "cell_type": "markdown",
      "source": [
        "Have they posted anything with tagged locations? Extract the most frequent areas on their posts and plot the number of times each city has been visited."
      ],
      "metadata": {
        "id": "_1SEZNSIRmYT"
      }
    },
    {
      "cell_type": "code",
      "execution_count": null,
      "metadata": {
        "scrolled": true,
        "id": "6697f119",
        "outputId": "60581d14-672b-4359-ac67-f4a383ef52d0"
      },
      "outputs": [
        {
          "data": {
            "text/html": [
              "<div>\n",
              "<style scoped>\n",
              "    .dataframe tbody tr th:only-of-type {\n",
              "        vertical-align: middle;\n",
              "    }\n",
              "\n",
              "    .dataframe tbody tr th {\n",
              "        vertical-align: top;\n",
              "    }\n",
              "\n",
              "    .dataframe thead th {\n",
              "        text-align: right;\n",
              "    }\n",
              "</style>\n",
              "<table border=\"1\" class=\"dataframe\">\n",
              "  <thead>\n",
              "    <tr style=\"text-align: right;\">\n",
              "      <th></th>\n",
              "      <th>profile_id</th>\n",
              "    </tr>\n",
              "  </thead>\n",
              "  <tbody>\n",
              "    <tr>\n",
              "      <th>2880218</th>\n",
              "      <td>2.502532e+07</td>\n",
              "    </tr>\n",
              "    <tr>\n",
              "      <th>2582507</th>\n",
              "      <td>3.416684e+06</td>\n",
              "    </tr>\n",
              "    <tr>\n",
              "      <th>3820939</th>\n",
              "      <td>2.082449e+07</td>\n",
              "    </tr>\n",
              "    <tr>\n",
              "      <th>701965</th>\n",
              "      <td>1.876191e+08</td>\n",
              "    </tr>\n",
              "    <tr>\n",
              "      <th>2414951</th>\n",
              "      <td>2.125507e+09</td>\n",
              "    </tr>\n",
              "    <tr>\n",
              "      <th>2785241</th>\n",
              "      <td>4.968651e+08</td>\n",
              "    </tr>\n",
              "    <tr>\n",
              "      <th>333193</th>\n",
              "      <td>2.341008e+07</td>\n",
              "    </tr>\n",
              "    <tr>\n",
              "      <th>3934581</th>\n",
              "      <td>2.423993e+07</td>\n",
              "    </tr>\n",
              "    <tr>\n",
              "      <th>1311970</th>\n",
              "      <td>5.041706e+07</td>\n",
              "    </tr>\n",
              "    <tr>\n",
              "      <th>1703764</th>\n",
              "      <td>9.070254e+08</td>\n",
              "    </tr>\n",
              "  </tbody>\n",
              "</table>\n",
              "</div>"
            ],
            "text/plain": [
              "           profile_id\n",
              "2880218  2.502532e+07\n",
              "2582507  3.416684e+06\n",
              "3820939  2.082449e+07\n",
              "701965   1.876191e+08\n",
              "2414951  2.125507e+09\n",
              "2785241  4.968651e+08\n",
              "333193   2.341008e+07\n",
              "3934581  2.423993e+07\n",
              "1311970  5.041706e+07\n",
              "1703764  9.070254e+08"
            ]
          },
          "execution_count": 28,
          "metadata": {},
          "output_type": "execute_result"
        }
      ],
      "source": [
        "#Build the dataframe with top 10 profiles id:\n",
        "most_follower1 = Top10follower2.head(10).sort_values(by=\"followers\",ascending = False)\n",
        "most_follower2 = most_follower1[[\"profile_id\"]]\n",
        "most_follower2      "
      ]
    },
    {
      "cell_type": "code",
      "execution_count": null,
      "metadata": {
        "id": "ca818f70",
        "outputId": "213e90f7-0df8-42ac-9849-7c603245ff7a"
      },
      "outputs": [
        {
          "data": {
            "text/html": [
              "<div>\n",
              "<style scoped>\n",
              "    .dataframe tbody tr th:only-of-type {\n",
              "        vertical-align: middle;\n",
              "    }\n",
              "\n",
              "    .dataframe tbody tr th {\n",
              "        vertical-align: top;\n",
              "    }\n",
              "\n",
              "    .dataframe thead th {\n",
              "        text-align: right;\n",
              "    }\n",
              "</style>\n",
              "<table border=\"1\" class=\"dataframe\">\n",
              "  <thead>\n",
              "    <tr style=\"text-align: right;\">\n",
              "      <th></th>\n",
              "      <th>profile_id</th>\n",
              "      <th>post_id</th>\n",
              "      <th>location_id</th>\n",
              "      <th>name</th>\n",
              "    </tr>\n",
              "  </thead>\n",
              "  <tbody>\n",
              "    <tr>\n",
              "      <th>0</th>\n",
              "      <td>25025320</td>\n",
              "      <td>Ss3ULFBQeM</td>\n",
              "      <td>5332856.0</td>\n",
              "      <td>NaN</td>\n",
              "    </tr>\n",
              "    <tr>\n",
              "      <th>0</th>\n",
              "      <td>25025320.0</td>\n",
              "      <td>BeECzRuh1O6</td>\n",
              "      <td>587387369.0</td>\n",
              "      <td>NaN</td>\n",
              "    </tr>\n",
              "    <tr>\n",
              "      <th>0</th>\n",
              "      <td>25025320</td>\n",
              "      <td>Brl3hGMAxiy</td>\n",
              "      <td>877066659067597.0</td>\n",
              "      <td>NaN</td>\n",
              "    </tr>\n",
              "    <tr>\n",
              "      <th>0</th>\n",
              "      <td>20824486.0</td>\n",
              "      <td>BFrYARaRh55</td>\n",
              "      <td>629488.0</td>\n",
              "      <td>NaN</td>\n",
              "    </tr>\n",
              "    <tr>\n",
              "      <th>0</th>\n",
              "      <td>25025320</td>\n",
              "      <td>BZNHb3ijnDT</td>\n",
              "      <td>350021298.0</td>\n",
              "      <td>NaN</td>\n",
              "    </tr>\n",
              "    <tr>\n",
              "      <th>...</th>\n",
              "      <td>...</td>\n",
              "      <td>...</td>\n",
              "      <td>...</td>\n",
              "      <td>...</td>\n",
              "    </tr>\n",
              "    <tr>\n",
              "      <th>0</th>\n",
              "      <td>25025320</td>\n",
              "      <td>BswHrnTB2HN</td>\n",
              "      <td>838523900.0</td>\n",
              "      <td>NaN</td>\n",
              "    </tr>\n",
              "    <tr>\n",
              "      <th>1</th>\n",
              "      <td>25025320</td>\n",
              "      <td>Bi7wE8uBWNI</td>\n",
              "      <td>1011688667.0</td>\n",
              "      <td>NaN</td>\n",
              "    </tr>\n",
              "    <tr>\n",
              "      <th>2</th>\n",
              "      <td>20824486</td>\n",
              "      <td>rdbaZkRhzl</td>\n",
              "      <td>244021299.0</td>\n",
              "      <td>NaN</td>\n",
              "    </tr>\n",
              "    <tr>\n",
              "      <th>0</th>\n",
              "      <td>20824486</td>\n",
              "      <td>Bf4WZMdljVZ</td>\n",
              "      <td>433604130.0</td>\n",
              "      <td>NaN</td>\n",
              "    </tr>\n",
              "    <tr>\n",
              "      <th>1</th>\n",
              "      <td>25025320</td>\n",
              "      <td>BTmr1kIApHj</td>\n",
              "      <td>9519563.0</td>\n",
              "      <td>NaN</td>\n",
              "    </tr>\n",
              "  </tbody>\n",
              "</table>\n",
              "<p>141 rows × 4 columns</p>\n",
              "</div>"
            ],
            "text/plain": [
              "    profile_id      post_id        location_id name\n",
              "0     25025320   Ss3ULFBQeM          5332856.0  NaN\n",
              "0   25025320.0  BeECzRuh1O6        587387369.0  NaN\n",
              "0     25025320  Brl3hGMAxiy  877066659067597.0  NaN\n",
              "0   20824486.0  BFrYARaRh55           629488.0  NaN\n",
              "0     25025320  BZNHb3ijnDT        350021298.0  NaN\n",
              "..         ...          ...                ...  ...\n",
              "0     25025320  BswHrnTB2HN        838523900.0  NaN\n",
              "1     25025320  Bi7wE8uBWNI       1011688667.0  NaN\n",
              "2     20824486   rdbaZkRhzl        244021299.0  NaN\n",
              "0     20824486  Bf4WZMdljVZ        433604130.0  NaN\n",
              "1     25025320  BTmr1kIApHj          9519563.0  NaN\n",
              "\n",
              "[141 rows x 4 columns]"
            ]
          },
          "execution_count": 14,
          "metadata": {},
          "output_type": "execute_result"
        }
      ],
      "source": [
        "#Build the dataframe merging top 10 profiles and the \"location\" file.\n",
        "post_location = pd.DataFrame(columns = [\"profile_id\",\"post_id\",\"location_id\",\"name\"])\n",
        "for chunk in pd.read_csv('/content/drive/MyDrive/ADM/instagram_posts.csv',on_bad_lines = \"skip\",sep = \"\\t\",chunksize= 500000,usecols=[\"profile_id\",\"post_id\",\"location_id\"]):\n",
        "    locationss= pd.merge(chunk,most_follower2)\n",
        "    post_location = pd.concat([post_location,locationss])\n",
        "    \n",
        "post_location  #Dataframe with top 10 follower posts\n"
      ]
    },
    {
      "cell_type": "code",
      "execution_count": null,
      "metadata": {
        "id": "98a94286",
        "outputId": "227c87cc-9aef-4529-fd88-f043fb81b311"
      },
      "outputs": [
        {
          "data": {
            "text/html": [
              "<div>\n",
              "<style scoped>\n",
              "    .dataframe tbody tr th:only-of-type {\n",
              "        vertical-align: middle;\n",
              "    }\n",
              "\n",
              "    .dataframe tbody tr th {\n",
              "        vertical-align: top;\n",
              "    }\n",
              "\n",
              "    .dataframe thead th {\n",
              "        text-align: right;\n",
              "    }\n",
              "</style>\n",
              "<table border=\"1\" class=\"dataframe\">\n",
              "  <thead>\n",
              "    <tr style=\"text-align: right;\">\n",
              "      <th></th>\n",
              "      <th>profile_id</th>\n",
              "      <th>post_id</th>\n",
              "      <th>location_id</th>\n",
              "      <th>id</th>\n",
              "      <th>name_y</th>\n",
              "    </tr>\n",
              "  </thead>\n",
              "  <tbody>\n",
              "    <tr>\n",
              "      <th>0</th>\n",
              "      <td>25025320</td>\n",
              "      <td>Ss3ULFBQeM</td>\n",
              "      <td>5332856.0</td>\n",
              "      <td>5332856</td>\n",
              "      <td>Rosa Parks Plaza</td>\n",
              "    </tr>\n",
              "    <tr>\n",
              "      <th>1</th>\n",
              "      <td>25025320.0</td>\n",
              "      <td>BeECzRuh1O6</td>\n",
              "      <td>587387369.0</td>\n",
              "      <td>587387369</td>\n",
              "      <td>Ethiopian Highlands</td>\n",
              "    </tr>\n",
              "    <tr>\n",
              "      <th>2</th>\n",
              "      <td>25025320</td>\n",
              "      <td>Brl3hGMAxiy</td>\n",
              "      <td>877066659067597.0</td>\n",
              "      <td>877066659067597</td>\n",
              "      <td>Machu Picchu</td>\n",
              "    </tr>\n",
              "    <tr>\n",
              "      <th>3</th>\n",
              "      <td>20824486.0</td>\n",
              "      <td>BFrYARaRh55</td>\n",
              "      <td>629488.0</td>\n",
              "      <td>629488</td>\n",
              "      <td>David Crombie Park</td>\n",
              "    </tr>\n",
              "    <tr>\n",
              "      <th>4</th>\n",
              "      <td>25025320</td>\n",
              "      <td>BZNHb3ijnDT</td>\n",
              "      <td>350021298.0</td>\n",
              "      <td>350021298</td>\n",
              "      <td>Parkland County</td>\n",
              "    </tr>\n",
              "    <tr>\n",
              "      <th>...</th>\n",
              "      <td>...</td>\n",
              "      <td>...</td>\n",
              "      <td>...</td>\n",
              "      <td>...</td>\n",
              "      <td>...</td>\n",
              "    </tr>\n",
              "    <tr>\n",
              "      <th>100</th>\n",
              "      <td>25025320</td>\n",
              "      <td>BswHrnTB2HN</td>\n",
              "      <td>838523900.0</td>\n",
              "      <td>838523900</td>\n",
              "      <td>Stanislaus National Forest</td>\n",
              "    </tr>\n",
              "    <tr>\n",
              "      <th>101</th>\n",
              "      <td>25025320</td>\n",
              "      <td>Bi7wE8uBWNI</td>\n",
              "      <td>1011688667.0</td>\n",
              "      <td>1011688667</td>\n",
              "      <td>Leuser Ecosystem</td>\n",
              "    </tr>\n",
              "    <tr>\n",
              "      <th>102</th>\n",
              "      <td>20824486</td>\n",
              "      <td>rdbaZkRhzl</td>\n",
              "      <td>244021299.0</td>\n",
              "      <td>244021299</td>\n",
              "      <td>InfoCision Stadium–Summa Field</td>\n",
              "    </tr>\n",
              "    <tr>\n",
              "      <th>103</th>\n",
              "      <td>20824486</td>\n",
              "      <td>Bf4WZMdljVZ</td>\n",
              "      <td>433604130.0</td>\n",
              "      <td>433604130</td>\n",
              "      <td>The Toyta Center</td>\n",
              "    </tr>\n",
              "    <tr>\n",
              "      <th>104</th>\n",
              "      <td>25025320</td>\n",
              "      <td>BTmr1kIApHj</td>\n",
              "      <td>9519563.0</td>\n",
              "      <td>9519563</td>\n",
              "      <td>榮發大排檔 Wing Fat Restaurant</td>\n",
              "    </tr>\n",
              "  </tbody>\n",
              "</table>\n",
              "<p>105 rows × 5 columns</p>\n",
              "</div>"
            ],
            "text/plain": [
              "     profile_id      post_id        location_id               id  \\\n",
              "0      25025320   Ss3ULFBQeM          5332856.0          5332856   \n",
              "1    25025320.0  BeECzRuh1O6        587387369.0        587387369   \n",
              "2      25025320  Brl3hGMAxiy  877066659067597.0  877066659067597   \n",
              "3    20824486.0  BFrYARaRh55           629488.0           629488   \n",
              "4      25025320  BZNHb3ijnDT        350021298.0        350021298   \n",
              "..          ...          ...                ...              ...   \n",
              "100    25025320  BswHrnTB2HN        838523900.0        838523900   \n",
              "101    25025320  Bi7wE8uBWNI       1011688667.0       1011688667   \n",
              "102    20824486   rdbaZkRhzl        244021299.0        244021299   \n",
              "103    20824486  Bf4WZMdljVZ        433604130.0        433604130   \n",
              "104    25025320  BTmr1kIApHj          9519563.0          9519563   \n",
              "\n",
              "                             name_y  \n",
              "0                  Rosa Parks Plaza  \n",
              "1               Ethiopian Highlands  \n",
              "2                      Machu Picchu  \n",
              "3                David Crombie Park  \n",
              "4                   Parkland County  \n",
              "..                              ...  \n",
              "100      Stanislaus National Forest  \n",
              "101                Leuser Ecosystem  \n",
              "102  InfoCision Stadium–Summa Field  \n",
              "103                The Toyta Center  \n",
              "104       榮發大排檔 Wing Fat Restaurant  \n",
              "\n",
              "[105 rows x 5 columns]"
            ]
          },
          "execution_count": 19,
          "metadata": {},
          "output_type": "execute_result"
        }
      ],
      "source": [
        "#merge:\n",
        "loctag = pd.merge(post_location,locations[[\"id\",\"name\"]],left_on = \"location_id\",right_on=\"id\")\n",
        "loctag.drop([\"name_x\"],axis=1)\n",
        "#dataframe with posts and location id of the top 10 profiles"
      ]
    },
    {
      "cell_type": "code",
      "execution_count": null,
      "metadata": {
        "id": "8abeba23",
        "outputId": "b4e40061-14a4-47d1-aeaa-d130feddd553"
      },
      "outputs": [
        {
          "data": {
            "text/html": [
              "<div>\n",
              "<style scoped>\n",
              "    .dataframe tbody tr th:only-of-type {\n",
              "        vertical-align: middle;\n",
              "    }\n",
              "\n",
              "    .dataframe tbody tr th {\n",
              "        vertical-align: top;\n",
              "    }\n",
              "\n",
              "    .dataframe thead th {\n",
              "        text-align: right;\n",
              "    }\n",
              "</style>\n",
              "<table border=\"1\" class=\"dataframe\">\n",
              "  <thead>\n",
              "    <tr style=\"text-align: right;\">\n",
              "      <th></th>\n",
              "      <th>profile_id</th>\n",
              "      <th>post_id</th>\n",
              "      <th>location_id</th>\n",
              "      <th>name_x</th>\n",
              "      <th>id</th>\n",
              "    </tr>\n",
              "    <tr>\n",
              "      <th>name_y</th>\n",
              "      <th></th>\n",
              "      <th></th>\n",
              "      <th></th>\n",
              "      <th></th>\n",
              "      <th></th>\n",
              "    </tr>\n",
              "  </thead>\n",
              "  <tbody>\n",
              "    <tr>\n",
              "      <th>Sydney, Australia</th>\n",
              "      <td>9</td>\n",
              "      <td>9</td>\n",
              "      <td>9</td>\n",
              "      <td>0</td>\n",
              "      <td>9</td>\n",
              "    </tr>\n",
              "    <tr>\n",
              "      <th>Victoria's Secret</th>\n",
              "      <td>4</td>\n",
              "      <td>4</td>\n",
              "      <td>4</td>\n",
              "      <td>0</td>\n",
              "      <td>4</td>\n",
              "    </tr>\n",
              "    <tr>\n",
              "      <th>Kobe-shi, Hyogo, Japan</th>\n",
              "      <td>3</td>\n",
              "      <td>3</td>\n",
              "      <td>3</td>\n",
              "      <td>0</td>\n",
              "      <td>3</td>\n",
              "    </tr>\n",
              "    <tr>\n",
              "      <th>Wells Fargo Center</th>\n",
              "      <td>2</td>\n",
              "      <td>2</td>\n",
              "      <td>2</td>\n",
              "      <td>0</td>\n",
              "      <td>2</td>\n",
              "    </tr>\n",
              "    <tr>\n",
              "      <th>Bel-Air Estate</th>\n",
              "      <td>2</td>\n",
              "      <td>2</td>\n",
              "      <td>2</td>\n",
              "      <td>0</td>\n",
              "      <td>2</td>\n",
              "    </tr>\n",
              "    <tr>\n",
              "      <th>Bora Bora, French Polynesia</th>\n",
              "      <td>2</td>\n",
              "      <td>2</td>\n",
              "      <td>2</td>\n",
              "      <td>0</td>\n",
              "      <td>2</td>\n",
              "    </tr>\n",
              "    <tr>\n",
              "      <th>666 Fifth Avenue</th>\n",
              "      <td>1</td>\n",
              "      <td>1</td>\n",
              "      <td>1</td>\n",
              "      <td>0</td>\n",
              "      <td>1</td>\n",
              "    </tr>\n",
              "    <tr>\n",
              "      <th>Rakuten Performance Center</th>\n",
              "      <td>1</td>\n",
              "      <td>1</td>\n",
              "      <td>1</td>\n",
              "      <td>0</td>\n",
              "      <td>1</td>\n",
              "    </tr>\n",
              "    <tr>\n",
              "      <th>Singapore Changi Airport</th>\n",
              "      <td>1</td>\n",
              "      <td>1</td>\n",
              "      <td>1</td>\n",
              "      <td>0</td>\n",
              "      <td>1</td>\n",
              "    </tr>\n",
              "    <tr>\n",
              "      <th>Sephora</th>\n",
              "      <td>1</td>\n",
              "      <td>1</td>\n",
              "      <td>1</td>\n",
              "      <td>0</td>\n",
              "      <td>1</td>\n",
              "    </tr>\n",
              "  </tbody>\n",
              "</table>\n",
              "</div>"
            ],
            "text/plain": [
              "                             profile_id  post_id  location_id  name_x  id\n",
              "name_y                                                                   \n",
              "Sydney, Australia                     9        9            9       0   9\n",
              "Victoria's Secret                     4        4            4       0   4\n",
              "Kobe-shi, Hyogo, Japan                3        3            3       0   3\n",
              "Wells Fargo Center                    2        2            2       0   2\n",
              "Bel-Air Estate                        2        2            2       0   2\n",
              "Bora Bora, French Polynesia           2        2            2       0   2\n",
              "666 Fifth Avenue                      1        1            1       0   1\n",
              "Rakuten Performance Center            1        1            1       0   1\n",
              "Singapore Changi Airport              1        1            1       0   1\n",
              "Sephora                               1        1            1       0   1"
            ]
          },
          "execution_count": 23,
          "metadata": {},
          "output_type": "execute_result"
        }
      ],
      "source": [
        "#most frequent areas:\n",
        "cc = loctag.groupby(\"name_y\").count()\n",
        "cc.sort_values(by=\"profile_id\",ascending=False).head(10)"
      ]
    },
    {
      "cell_type": "code",
      "execution_count": null,
      "metadata": {
        "id": "ff4e152b",
        "outputId": "fa3760ae-b933-416c-d36d-edb7caf16798"
      },
      "outputs": [
        {
          "data": {
            "text/plain": [
              "<AxesSubplot:xlabel='name_y'>"
            ]
          },
          "execution_count": 24,
          "metadata": {},
          "output_type": "execute_result"
        },
        {
          "data": {
            "image/png": "[encoded data removed]",
            "text/plain": [
              "<Figure size 432x288 with 1 Axes>"
            ]
          },
          "metadata": {
            "needs_background": "light"
          },
          "output_type": "display_data"
        }
      ],
      "source": [
        "#Most frequent areas plot\n",
        "most_frequent_areas = cc.sort_values(by=\"profile_id\",ascending=False).head(10)\n",
        "most_frequent_areas.plot(kind=\"bar\",y = \"location_id\")"
      ]
    },
    {
      "cell_type": "markdown",
      "source": [
        "How many pictures-only posts have they published? How many reels? (only videos) and how many with both contents? Provide the number as percentages and interpret those figures."
      ],
      "metadata": {
        "id": "rgc10XOsSXjI"
      }
    },
    {
      "cell_type": "code",
      "execution_count": null,
      "metadata": {
        "id": "55979f71",
        "outputId": "505318c2-6696-4901-e5b8-12999966fe65"
      },
      "outputs": [
        {
          "data": {
            "text/html": [
              "<div>\n",
              "<style scoped>\n",
              "    .dataframe tbody tr th:only-of-type {\n",
              "        vertical-align: middle;\n",
              "    }\n",
              "\n",
              "    .dataframe tbody tr th {\n",
              "        vertical-align: top;\n",
              "    }\n",
              "\n",
              "    .dataframe thead th {\n",
              "        text-align: right;\n",
              "    }\n",
              "</style>\n",
              "<table border=\"1\" class=\"dataframe\">\n",
              "  <thead>\n",
              "    <tr style=\"text-align: right;\">\n",
              "      <th></th>\n",
              "      <th>followers</th>\n",
              "      <th>n_posts</th>\n",
              "      <th>profile_name</th>\n",
              "      <th>profile_id</th>\n",
              "    </tr>\n",
              "  </thead>\n",
              "  <tbody>\n",
              "    <tr>\n",
              "      <th>2880218</th>\n",
              "      <td>285457645.0</td>\n",
              "      <td>5760.0</td>\n",
              "      <td>instagram</td>\n",
              "      <td>2.502532e+07</td>\n",
              "    </tr>\n",
              "    <tr>\n",
              "      <th>2582507</th>\n",
              "      <td>65269440.0</td>\n",
              "      <td>7355.0</td>\n",
              "      <td>victoriassecret</td>\n",
              "      <td>3.416684e+06</td>\n",
              "    </tr>\n",
              "    <tr>\n",
              "      <th>3820939</th>\n",
              "      <td>35339708.0</td>\n",
              "      <td>28816.0</td>\n",
              "      <td>nba</td>\n",
              "      <td>2.082449e+07</td>\n",
              "    </tr>\n",
              "    <tr>\n",
              "      <th>701965</th>\n",
              "      <td>30689316.0</td>\n",
              "      <td>3352.0</td>\n",
              "      <td>louisvuitton</td>\n",
              "      <td>1.876191e+08</td>\n",
              "    </tr>\n",
              "    <tr>\n",
              "      <th>2414951</th>\n",
              "      <td>30246783.0</td>\n",
              "      <td>2791.0</td>\n",
              "      <td>buzzfeedtasty</td>\n",
              "      <td>2.125507e+09</td>\n",
              "    </tr>\n",
              "    <tr>\n",
              "      <th>2785241</th>\n",
              "      <td>29542143.0</td>\n",
              "      <td>990.0</td>\n",
              "      <td>andresiniesta8</td>\n",
              "      <td>4.968651e+08</td>\n",
              "    </tr>\n",
              "    <tr>\n",
              "      <th>333193</th>\n",
              "      <td>29176804.0</td>\n",
              "      <td>4566.0</td>\n",
              "      <td>hm</td>\n",
              "      <td>2.341008e+07</td>\n",
              "    </tr>\n",
              "    <tr>\n",
              "      <th>3934581</th>\n",
              "      <td>29042823.0</td>\n",
              "      <td>4719.0</td>\n",
              "      <td>princessyahrini</td>\n",
              "      <td>2.423993e+07</td>\n",
              "    </tr>\n",
              "    <tr>\n",
              "      <th>1311970</th>\n",
              "      <td>26476004.0</td>\n",
              "      <td>1311.0</td>\n",
              "      <td>danbilzerian</td>\n",
              "      <td>5.041706e+07</td>\n",
              "    </tr>\n",
              "    <tr>\n",
              "      <th>1703764</th>\n",
              "      <td>26252169.0</td>\n",
              "      <td>1173.0</td>\n",
              "      <td>akshaykumar</td>\n",
              "      <td>9.070254e+08</td>\n",
              "    </tr>\n",
              "  </tbody>\n",
              "</table>\n",
              "</div>"
            ],
            "text/plain": [
              "           followers  n_posts     profile_name    profile_id\n",
              "2880218  285457645.0   5760.0        instagram  2.502532e+07\n",
              "2582507   65269440.0   7355.0  victoriassecret  3.416684e+06\n",
              "3820939   35339708.0  28816.0              nba  2.082449e+07\n",
              "701965    30689316.0   3352.0     louisvuitton  1.876191e+08\n",
              "2414951   30246783.0   2791.0    buzzfeedtasty  2.125507e+09\n",
              "2785241   29542143.0    990.0   andresiniesta8  4.968651e+08\n",
              "333193    29176804.0   4566.0               hm  2.341008e+07\n",
              "3934581   29042823.0   4719.0  princessyahrini  2.423993e+07\n",
              "1311970   26476004.0   1311.0     danbilzerian  5.041706e+07\n",
              "1703764   26252169.0   1173.0      akshaykumar  9.070254e+08"
            ]
          },
          "execution_count": 27,
          "metadata": {},
          "output_type": "execute_result"
        }
      ],
      "source": [
        "most_follower3 = Top10follower2.tail(10).sort_values(by=\"followers\",ascending = False)\n",
        "#most_follower4 = most_follower3[[\"profile_id\"]]\n",
        "most_follower3"
      ]
    },
    {
      "cell_type": "code",
      "execution_count": null,
      "metadata": {
        "id": "a5ef4978",
        "outputId": "d9165fa3-5841-400e-b9fd-cc4b015fa5e7"
      },
      "outputs": [
        {
          "data": {
            "text/html": [
              "<div>\n",
              "<style scoped>\n",
              "    .dataframe tbody tr th:only-of-type {\n",
              "        vertical-align: middle;\n",
              "    }\n",
              "\n",
              "    .dataframe tbody tr th {\n",
              "        vertical-align: top;\n",
              "    }\n",
              "\n",
              "    .dataframe thead th {\n",
              "        text-align: right;\n",
              "    }\n",
              "</style>\n",
              "<table border=\"1\" class=\"dataframe\">\n",
              "  <thead>\n",
              "    <tr style=\"text-align: right;\">\n",
              "      <th></th>\n",
              "      <th>profile_id</th>\n",
              "      <th>post_id</th>\n",
              "      <th>post_type</th>\n",
              "      <th>followers</th>\n",
              "      <th>n_posts</th>\n",
              "      <th>profile_name</th>\n",
              "    </tr>\n",
              "  </thead>\n",
              "  <tbody>\n",
              "    <tr>\n",
              "      <th>0</th>\n",
              "      <td>25025320</td>\n",
              "      <td>Ss3ULFBQeM</td>\n",
              "      <td>1</td>\n",
              "      <td>285457645.0</td>\n",
              "      <td>5760.0</td>\n",
              "      <td>instagram</td>\n",
              "    </tr>\n",
              "    <tr>\n",
              "      <th>0</th>\n",
              "      <td>25025320.0</td>\n",
              "      <td>BeECzRuh1O6</td>\n",
              "      <td>1</td>\n",
              "      <td>285457645.0</td>\n",
              "      <td>5760.0</td>\n",
              "      <td>instagram</td>\n",
              "    </tr>\n",
              "    <tr>\n",
              "      <th>0</th>\n",
              "      <td>25025320</td>\n",
              "      <td>Brl3hGMAxiy</td>\n",
              "      <td>1</td>\n",
              "      <td>285457645.0</td>\n",
              "      <td>5760.0</td>\n",
              "      <td>instagram</td>\n",
              "    </tr>\n",
              "    <tr>\n",
              "      <th>0</th>\n",
              "      <td>20824486.0</td>\n",
              "      <td>BFrYARaRh55</td>\n",
              "      <td>1</td>\n",
              "      <td>35339708.0</td>\n",
              "      <td>28816.0</td>\n",
              "      <td>nba</td>\n",
              "    </tr>\n",
              "    <tr>\n",
              "      <th>0</th>\n",
              "      <td>25025320</td>\n",
              "      <td>BZNHb3ijnDT</td>\n",
              "      <td>1</td>\n",
              "      <td>285457645.0</td>\n",
              "      <td>5760.0</td>\n",
              "      <td>instagram</td>\n",
              "    </tr>\n",
              "    <tr>\n",
              "      <th>...</th>\n",
              "      <td>...</td>\n",
              "      <td>...</td>\n",
              "      <td>...</td>\n",
              "      <td>...</td>\n",
              "      <td>...</td>\n",
              "      <td>...</td>\n",
              "    </tr>\n",
              "    <tr>\n",
              "      <th>0</th>\n",
              "      <td>25025320</td>\n",
              "      <td>BswHrnTB2HN</td>\n",
              "      <td>1</td>\n",
              "      <td>285457645.0</td>\n",
              "      <td>5760.0</td>\n",
              "      <td>instagram</td>\n",
              "    </tr>\n",
              "    <tr>\n",
              "      <th>1</th>\n",
              "      <td>25025320</td>\n",
              "      <td>Bi7wE8uBWNI</td>\n",
              "      <td>1</td>\n",
              "      <td>285457645.0</td>\n",
              "      <td>5760.0</td>\n",
              "      <td>instagram</td>\n",
              "    </tr>\n",
              "    <tr>\n",
              "      <th>2</th>\n",
              "      <td>20824486</td>\n",
              "      <td>rdbaZkRhzl</td>\n",
              "      <td>1</td>\n",
              "      <td>35339708.0</td>\n",
              "      <td>28816.0</td>\n",
              "      <td>nba</td>\n",
              "    </tr>\n",
              "    <tr>\n",
              "      <th>0</th>\n",
              "      <td>20824486</td>\n",
              "      <td>Bf4WZMdljVZ</td>\n",
              "      <td>2</td>\n",
              "      <td>35339708.0</td>\n",
              "      <td>28816.0</td>\n",
              "      <td>nba</td>\n",
              "    </tr>\n",
              "    <tr>\n",
              "      <th>1</th>\n",
              "      <td>25025320</td>\n",
              "      <td>BTmr1kIApHj</td>\n",
              "      <td>1</td>\n",
              "      <td>285457645.0</td>\n",
              "      <td>5760.0</td>\n",
              "      <td>instagram</td>\n",
              "    </tr>\n",
              "  </tbody>\n",
              "</table>\n",
              "<p>141 rows × 6 columns</p>\n",
              "</div>"
            ],
            "text/plain": [
              "    profile_id      post_id post_type    followers  n_posts profile_name\n",
              "0     25025320   Ss3ULFBQeM         1  285457645.0   5760.0    instagram\n",
              "0   25025320.0  BeECzRuh1O6         1  285457645.0   5760.0    instagram\n",
              "0     25025320  Brl3hGMAxiy         1  285457645.0   5760.0    instagram\n",
              "0   20824486.0  BFrYARaRh55         1   35339708.0  28816.0          nba\n",
              "0     25025320  BZNHb3ijnDT         1  285457645.0   5760.0    instagram\n",
              "..         ...          ...       ...          ...      ...          ...\n",
              "0     25025320  BswHrnTB2HN         1  285457645.0   5760.0    instagram\n",
              "1     25025320  Bi7wE8uBWNI         1  285457645.0   5760.0    instagram\n",
              "2     20824486   rdbaZkRhzl         1   35339708.0  28816.0          nba\n",
              "0     20824486  Bf4WZMdljVZ         2   35339708.0  28816.0          nba\n",
              "1     25025320  BTmr1kIApHj         1  285457645.0   5760.0    instagram\n",
              "\n",
              "[141 rows x 6 columns]"
            ]
          },
          "execution_count": 188,
          "metadata": {},
          "output_type": "execute_result"
        }
      ],
      "source": [
        "post_location_top10 = pd.DataFrame(columns = [\"profile_id\",\"post_id\",\"post_type\"])\n",
        "for chunk in pd.read_csv('/content/drive/MyDrive/ADM/instagram_posts.csv',on_bad_lines = \"skip\",sep = \"\\t\",chunksize= 500000,usecols=[\"profile_id\",\"post_id\",\"post_type\"]):\n",
        "    post_type= pd.merge(chunk,most_follower3)\n",
        "    post_location_top10 = pd.concat([post_location_top10,post_type])\n",
        "    \n",
        "post_location_top10\n",
        "#list of the top 10 profile's location"
      ]
    },
    {
      "cell_type": "code",
      "execution_count": null,
      "metadata": {
        "id": "2251a19d",
        "outputId": "9f9b1490-3a90-4138-bab7-d3ebf726ee86"
      },
      "outputs": [
        {
          "data": {
            "text/html": [
              "<div>\n",
              "<style scoped>\n",
              "    .dataframe tbody tr th:only-of-type {\n",
              "        vertical-align: middle;\n",
              "    }\n",
              "\n",
              "    .dataframe tbody tr th {\n",
              "        vertical-align: top;\n",
              "    }\n",
              "\n",
              "    .dataframe thead th {\n",
              "        text-align: right;\n",
              "    }\n",
              "</style>\n",
              "<table border=\"1\" class=\"dataframe\">\n",
              "  <thead>\n",
              "    <tr style=\"text-align: right;\">\n",
              "      <th></th>\n",
              "      <th>profile_id</th>\n",
              "      <th>post_id</th>\n",
              "      <th>followers</th>\n",
              "      <th>n_posts</th>\n",
              "      <th>profile_name</th>\n",
              "    </tr>\n",
              "    <tr>\n",
              "      <th>post_type</th>\n",
              "      <th></th>\n",
              "      <th></th>\n",
              "      <th></th>\n",
              "      <th></th>\n",
              "      <th></th>\n",
              "    </tr>\n",
              "  </thead>\n",
              "  <tbody>\n",
              "    <tr>\n",
              "      <th>1</th>\n",
              "      <td>128</td>\n",
              "      <td>128</td>\n",
              "      <td>128</td>\n",
              "      <td>128</td>\n",
              "      <td>128</td>\n",
              "    </tr>\n",
              "    <tr>\n",
              "      <th>2</th>\n",
              "      <td>13</td>\n",
              "      <td>13</td>\n",
              "      <td>13</td>\n",
              "      <td>13</td>\n",
              "      <td>13</td>\n",
              "    </tr>\n",
              "  </tbody>\n",
              "</table>\n",
              "</div>"
            ],
            "text/plain": [
              "           profile_id  post_id  followers  n_posts  profile_name\n",
              "post_type                                                       \n",
              "1                 128      128        128      128           128\n",
              "2                  13       13         13       13            13"
            ]
          },
          "execution_count": 34,
          "metadata": {},
          "output_type": "execute_result"
        }
      ],
      "source": [
        "#sorting:\n",
        "listanew = post_location_top10.groupby(\"post_type\").count()\n",
        "listanew"
      ]
    },
    {
      "cell_type": "markdown",
      "source": [
        "The dataframe shows that the published 128 pictures-only posts(post_type=1) and 13 reels.\n",
        "In percentage:"
      ],
      "metadata": {
        "id": "T_l5jiMJS2HZ"
      }
    },
    {
      "cell_type": "code",
      "execution_count": null,
      "metadata": {
        "id": "5986d5cd",
        "outputId": "d45b8afc-73d2-401b-bf9d-c489c92a85da"
      },
      "outputs": [
        {
          "data": {
            "text/plain": [
              "<AxesSubplot:xlabel='post_type'>"
            ]
          },
          "execution_count": 48,
          "metadata": {},
          "output_type": "execute_result"
        },
        {
          "data": {
            "image/png": "[encoded data removed]",
            "text/plain": [
              "<Figure size 432x288 with 1 Axes>"
            ]
          },
          "metadata": {
            "needs_background": "light"
          },
          "output_type": "display_data"
        }
      ],
      "source": [
        "listanew['percent'] = (listanew['profile_id'] / listanew['profile_id'].sum()) * 100\n",
        "listanew['percent'].plot(kind=\"bar\")"
      ]
    },
    {
      "cell_type": "markdown",
      "source": [
        "How many \"likes\" and comments did posts with only pictures receive? How about videos and mixed posts? Try to provide the average numbers and confront them with their followers amount, explaining what you can say from that comparison."
      ],
      "metadata": {
        "id": "hfKOk4tBTGmX"
      }
    },
    {
      "cell_type": "code",
      "execution_count": null,
      "metadata": {
        "id": "d5b5a89c",
        "outputId": "feadd8e9-fa83-4524-aab9-eb23e376affd"
      },
      "outputs": [
        {
          "data": {
            "text/html": [
              "<div>\n",
              "<style scoped>\n",
              "    .dataframe tbody tr th:only-of-type {\n",
              "        vertical-align: middle;\n",
              "    }\n",
              "\n",
              "    .dataframe tbody tr th {\n",
              "        vertical-align: top;\n",
              "    }\n",
              "\n",
              "    .dataframe thead th {\n",
              "        text-align: right;\n",
              "    }\n",
              "</style>\n",
              "<table border=\"1\" class=\"dataframe\">\n",
              "  <thead>\n",
              "    <tr style=\"text-align: right;\">\n",
              "      <th></th>\n",
              "      <th>profile_id</th>\n",
              "      <th>post_id</th>\n",
              "      <th>post_type</th>\n",
              "      <th>numbr_likes</th>\n",
              "      <th>number_comments</th>\n",
              "      <th>followers</th>\n",
              "      <th>n_posts</th>\n",
              "      <th>profile_name</th>\n",
              "    </tr>\n",
              "  </thead>\n",
              "  <tbody>\n",
              "    <tr>\n",
              "      <th>0</th>\n",
              "      <td>25025320</td>\n",
              "      <td>Ss3ULFBQeM</td>\n",
              "      <td>1</td>\n",
              "      <td>125428</td>\n",
              "      <td>1240</td>\n",
              "      <td>285457645.0</td>\n",
              "      <td>5760.0</td>\n",
              "      <td>instagram</td>\n",
              "    </tr>\n",
              "    <tr>\n",
              "      <th>0</th>\n",
              "      <td>25025320.0</td>\n",
              "      <td>BeECzRuh1O6</td>\n",
              "      <td>1</td>\n",
              "      <td>669786</td>\n",
              "      <td>4818</td>\n",
              "      <td>285457645.0</td>\n",
              "      <td>5760.0</td>\n",
              "      <td>instagram</td>\n",
              "    </tr>\n",
              "    <tr>\n",
              "      <th>0</th>\n",
              "      <td>25025320</td>\n",
              "      <td>Brl3hGMAxiy</td>\n",
              "      <td>1</td>\n",
              "      <td>1914299</td>\n",
              "      <td>20065</td>\n",
              "      <td>285457645.0</td>\n",
              "      <td>5760.0</td>\n",
              "      <td>instagram</td>\n",
              "    </tr>\n",
              "    <tr>\n",
              "      <th>0</th>\n",
              "      <td>20824486.0</td>\n",
              "      <td>BFrYARaRh55</td>\n",
              "      <td>1</td>\n",
              "      <td>164521</td>\n",
              "      <td>1415</td>\n",
              "      <td>35339708.0</td>\n",
              "      <td>28816.0</td>\n",
              "      <td>nba</td>\n",
              "    </tr>\n",
              "    <tr>\n",
              "      <th>0</th>\n",
              "      <td>25025320</td>\n",
              "      <td>BZNHb3ijnDT</td>\n",
              "      <td>1</td>\n",
              "      <td>840588</td>\n",
              "      <td>3627</td>\n",
              "      <td>285457645.0</td>\n",
              "      <td>5760.0</td>\n",
              "      <td>instagram</td>\n",
              "    </tr>\n",
              "    <tr>\n",
              "      <th>...</th>\n",
              "      <td>...</td>\n",
              "      <td>...</td>\n",
              "      <td>...</td>\n",
              "      <td>...</td>\n",
              "      <td>...</td>\n",
              "      <td>...</td>\n",
              "      <td>...</td>\n",
              "      <td>...</td>\n",
              "    </tr>\n",
              "    <tr>\n",
              "      <th>0</th>\n",
              "      <td>25025320</td>\n",
              "      <td>BswHrnTB2HN</td>\n",
              "      <td>1</td>\n",
              "      <td>1081084</td>\n",
              "      <td>12568</td>\n",
              "      <td>285457645.0</td>\n",
              "      <td>5760.0</td>\n",
              "      <td>instagram</td>\n",
              "    </tr>\n",
              "    <tr>\n",
              "      <th>1</th>\n",
              "      <td>25025320</td>\n",
              "      <td>Bi7wE8uBWNI</td>\n",
              "      <td>1</td>\n",
              "      <td>1083329</td>\n",
              "      <td>15154</td>\n",
              "      <td>285457645.0</td>\n",
              "      <td>5760.0</td>\n",
              "      <td>instagram</td>\n",
              "    </tr>\n",
              "    <tr>\n",
              "      <th>2</th>\n",
              "      <td>20824486</td>\n",
              "      <td>rdbaZkRhzl</td>\n",
              "      <td>1</td>\n",
              "      <td>106588</td>\n",
              "      <td>1475</td>\n",
              "      <td>35339708.0</td>\n",
              "      <td>28816.0</td>\n",
              "      <td>nba</td>\n",
              "    </tr>\n",
              "    <tr>\n",
              "      <th>0</th>\n",
              "      <td>20824486</td>\n",
              "      <td>Bf4WZMdljVZ</td>\n",
              "      <td>2</td>\n",
              "      <td>157695</td>\n",
              "      <td>541</td>\n",
              "      <td>35339708.0</td>\n",
              "      <td>28816.0</td>\n",
              "      <td>nba</td>\n",
              "    </tr>\n",
              "    <tr>\n",
              "      <th>1</th>\n",
              "      <td>25025320</td>\n",
              "      <td>BTmr1kIApHj</td>\n",
              "      <td>1</td>\n",
              "      <td>1285401</td>\n",
              "      <td>4590</td>\n",
              "      <td>285457645.0</td>\n",
              "      <td>5760.0</td>\n",
              "      <td>instagram</td>\n",
              "    </tr>\n",
              "  </tbody>\n",
              "</table>\n",
              "<p>141 rows × 8 columns</p>\n",
              "</div>"
            ],
            "text/plain": [
              "    profile_id      post_id post_type numbr_likes number_comments  \\\n",
              "0     25025320   Ss3ULFBQeM         1      125428            1240   \n",
              "0   25025320.0  BeECzRuh1O6         1      669786            4818   \n",
              "0     25025320  Brl3hGMAxiy         1     1914299           20065   \n",
              "0   20824486.0  BFrYARaRh55         1      164521            1415   \n",
              "0     25025320  BZNHb3ijnDT         1      840588            3627   \n",
              "..         ...          ...       ...         ...             ...   \n",
              "0     25025320  BswHrnTB2HN         1     1081084           12568   \n",
              "1     25025320  Bi7wE8uBWNI         1     1083329           15154   \n",
              "2     20824486   rdbaZkRhzl         1      106588            1475   \n",
              "0     20824486  Bf4WZMdljVZ         2      157695             541   \n",
              "1     25025320  BTmr1kIApHj         1     1285401            4590   \n",
              "\n",
              "      followers  n_posts profile_name  \n",
              "0   285457645.0   5760.0    instagram  \n",
              "0   285457645.0   5760.0    instagram  \n",
              "0   285457645.0   5760.0    instagram  \n",
              "0    35339708.0  28816.0          nba  \n",
              "0   285457645.0   5760.0    instagram  \n",
              "..          ...      ...          ...  \n",
              "0   285457645.0   5760.0    instagram  \n",
              "1   285457645.0   5760.0    instagram  \n",
              "2    35339708.0  28816.0          nba  \n",
              "0    35339708.0  28816.0          nba  \n",
              "1   285457645.0   5760.0    instagram  \n",
              "\n",
              "[141 rows x 8 columns]"
            ]
          },
          "execution_count": 63,
          "metadata": {},
          "output_type": "execute_result"
        }
      ],
      "source": [
        "like_comment = pd.DataFrame(columns = [\"profile_id\",\"post_id\",\"post_type\",\"numbr_likes\",\"number_comments\"])\n",
        "for chunk in pd.read_csv('/content/drive/MyDrive/ADM/instagram_posts.csv',on_bad_lines = \"skip\",sep = \"\\t\",chunksize= 500000,usecols=[\"profile_id\",\"post_id\",\"post_type\",\"numbr_likes\",\"number_comments\"]):\n",
        "    post_comment= pd.merge(chunk,most_follower3)\n",
        "    like_comment = pd.concat([like_comment,post_comment])\n",
        "    \n",
        "like_comment  #top 10 profile's list with like,comment, grouped by type of posts"
      ]
    },
    {
      "cell_type": "code",
      "execution_count": null,
      "metadata": {
        "id": "2765a8d4"
      },
      "outputs": [],
      "source": [
        "#merging with the follower :\n",
        "num_like = like_comment[[\"profile_id\",\"profile_name\",\"post_type\",\"numbr_likes\",\"number_comments\"]]\n",
        "fol = pd.DataFrame(profiles[[\"followers\",\"profile_id\"]])\n",
        "numlikefol= pd.merge(num_like,fol,on=\"profile_id\")"
      ]
    },
    {
      "cell_type": "code",
      "execution_count": null,
      "metadata": {
        "id": "a5dedd9d",
        "outputId": "36847582-c8d6-470a-a34c-9c849fb61d0e"
      },
      "outputs": [
        {
          "data": {
            "text/html": [
              "<div>\n",
              "<style scoped>\n",
              "    .dataframe tbody tr th:only-of-type {\n",
              "        vertical-align: middle;\n",
              "    }\n",
              "\n",
              "    .dataframe tbody tr th {\n",
              "        vertical-align: top;\n",
              "    }\n",
              "\n",
              "    .dataframe thead th {\n",
              "        text-align: right;\n",
              "    }\n",
              "</style>\n",
              "<table border=\"1\" class=\"dataframe\">\n",
              "  <thead>\n",
              "    <tr style=\"text-align: right;\">\n",
              "      <th></th>\n",
              "      <th>numbr_likes</th>\n",
              "      <th>number_comments</th>\n",
              "    </tr>\n",
              "    <tr>\n",
              "      <th>post_type</th>\n",
              "      <th></th>\n",
              "      <th></th>\n",
              "    </tr>\n",
              "  </thead>\n",
              "  <tbody>\n",
              "    <tr>\n",
              "      <th>1</th>\n",
              "      <td>69285634.0</td>\n",
              "      <td>497013.0</td>\n",
              "    </tr>\n",
              "    <tr>\n",
              "      <th>2</th>\n",
              "      <td>3464814.0</td>\n",
              "      <td>26258.0</td>\n",
              "    </tr>\n",
              "  </tbody>\n",
              "</table>\n",
              "</div>"
            ],
            "text/plain": [
              "           numbr_likes  number_comments\n",
              "post_type                              \n",
              "1           69285634.0         497013.0\n",
              "2            3464814.0          26258.0"
            ]
          },
          "execution_count": 118,
          "metadata": {},
          "output_type": "execute_result"
        }
      ],
      "source": [
        "numlikefol[[\"post_type\",\"numbr_likes\",\"number_comments\"]].groupby(\"post_type\").sum()  #group by post_type and sum the likes and comments"
      ]
    },
    {
      "cell_type": "markdown",
      "metadata": {
        "id": "6221f2e0"
      },
      "source": [
        "The dataframe shows the numbers of likes and comments for each post_type.\n",
        "Comparing the average with the followers amount:"
      ]
    },
    {
      "cell_type": "code",
      "execution_count": null,
      "metadata": {
        "id": "987695e9"
      },
      "outputs": [],
      "source": [
        "dfg = numlikefol[[\"profile_name\",\"numbr_likes\",\"number_comments\"]].groupby(\"profile_name\").agg(np.average)"
      ]
    },
    {
      "cell_type": "code",
      "execution_count": null,
      "metadata": {
        "id": "d06a2284",
        "outputId": "805f4217-070f-455f-b2fe-79578f7b87d1"
      },
      "outputs": [
        {
          "data": {
            "text/html": [
              "<div>\n",
              "<style scoped>\n",
              "    .dataframe tbody tr th:only-of-type {\n",
              "        vertical-align: middle;\n",
              "    }\n",
              "\n",
              "    .dataframe tbody tr th {\n",
              "        vertical-align: top;\n",
              "    }\n",
              "\n",
              "    .dataframe thead th {\n",
              "        text-align: right;\n",
              "    }\n",
              "</style>\n",
              "<table border=\"1\" class=\"dataframe\">\n",
              "  <thead>\n",
              "    <tr style=\"text-align: right;\">\n",
              "      <th></th>\n",
              "      <th>average like</th>\n",
              "      <th>average comments</th>\n",
              "    </tr>\n",
              "    <tr>\n",
              "      <th>profile_name</th>\n",
              "      <th></th>\n",
              "      <th></th>\n",
              "    </tr>\n",
              "  </thead>\n",
              "  <tbody>\n",
              "    <tr>\n",
              "      <th>akshaykumar</th>\n",
              "      <td>1.027102e+06</td>\n",
              "      <td>6582.461538</td>\n",
              "    </tr>\n",
              "    <tr>\n",
              "      <th>andresiniesta8</th>\n",
              "      <td>4.730227e+05</td>\n",
              "      <td>2237.083333</td>\n",
              "    </tr>\n",
              "    <tr>\n",
              "      <th>buzzfeedtasty</th>\n",
              "      <td>1.008629e+05</td>\n",
              "      <td>963.153846</td>\n",
              "    </tr>\n",
              "    <tr>\n",
              "      <th>danbilzerian</th>\n",
              "      <td>8.631133e+05</td>\n",
              "      <td>8594.733333</td>\n",
              "    </tr>\n",
              "    <tr>\n",
              "      <th>hm</th>\n",
              "      <td>8.121350e+04</td>\n",
              "      <td>365.000000</td>\n",
              "    </tr>\n",
              "    <tr>\n",
              "      <th>instagram</th>\n",
              "      <td>8.783578e+05</td>\n",
              "      <td>6619.117647</td>\n",
              "    </tr>\n",
              "    <tr>\n",
              "      <th>louisvuitton</th>\n",
              "      <td>1.868570e+05</td>\n",
              "      <td>867.000000</td>\n",
              "    </tr>\n",
              "    <tr>\n",
              "      <th>nba</th>\n",
              "      <td>2.325301e+05</td>\n",
              "      <td>1070.888889</td>\n",
              "    </tr>\n",
              "    <tr>\n",
              "      <th>princessyahrini</th>\n",
              "      <td>1.303222e+05</td>\n",
              "      <td>774.269231</td>\n",
              "    </tr>\n",
              "    <tr>\n",
              "      <th>victoriassecret</th>\n",
              "      <td>2.395093e+05</td>\n",
              "      <td>479.714286</td>\n",
              "    </tr>\n",
              "  </tbody>\n",
              "</table>\n",
              "</div>"
            ],
            "text/plain": [
              "                 average like  average comments\n",
              "profile_name                                   \n",
              "akshaykumar      1.027102e+06       6582.461538\n",
              "andresiniesta8   4.730227e+05       2237.083333\n",
              "buzzfeedtasty    1.008629e+05        963.153846\n",
              "danbilzerian     8.631133e+05       8594.733333\n",
              "hm               8.121350e+04        365.000000\n",
              "instagram        8.783578e+05       6619.117647\n",
              "louisvuitton     1.868570e+05        867.000000\n",
              "nba              2.325301e+05       1070.888889\n",
              "princessyahrini  1.303222e+05        774.269231\n",
              "victoriassecret  2.395093e+05        479.714286"
            ]
          },
          "execution_count": 157,
          "metadata": {},
          "output_type": "execute_result"
        }
      ],
      "source": [
        "dfg2 = dfg.rename(columns={\"numbr_likes\": \"average like\", \"number_comments\": \"average comments\"})\n",
        "dfg2"
      ]
    },
    {
      "cell_type": "code",
      "execution_count": null,
      "metadata": {
        "id": "7fa33ee1",
        "outputId": "90271e51-2ed7-4f01-bc04-c26c70f22530"
      },
      "outputs": [
        {
          "data": {
            "text/html": [
              "<div>\n",
              "<style scoped>\n",
              "    .dataframe tbody tr th:only-of-type {\n",
              "        vertical-align: middle;\n",
              "    }\n",
              "\n",
              "    .dataframe tbody tr th {\n",
              "        vertical-align: top;\n",
              "    }\n",
              "\n",
              "    .dataframe thead th {\n",
              "        text-align: right;\n",
              "    }\n",
              "</style>\n",
              "<table border=\"1\" class=\"dataframe\">\n",
              "  <thead>\n",
              "    <tr style=\"text-align: right;\">\n",
              "      <th></th>\n",
              "      <th>profile_name</th>\n",
              "      <th>average like</th>\n",
              "      <th>average comments</th>\n",
              "      <th>followers</th>\n",
              "      <th>n_posts</th>\n",
              "      <th>profile_id</th>\n",
              "    </tr>\n",
              "  </thead>\n",
              "  <tbody>\n",
              "    <tr>\n",
              "      <th>0</th>\n",
              "      <td>akshaykumar</td>\n",
              "      <td>1.027102e+06</td>\n",
              "      <td>6582.461538</td>\n",
              "      <td>26252169.0</td>\n",
              "      <td>1173.0</td>\n",
              "      <td>9.070254e+08</td>\n",
              "    </tr>\n",
              "    <tr>\n",
              "      <th>1</th>\n",
              "      <td>andresiniesta8</td>\n",
              "      <td>4.730227e+05</td>\n",
              "      <td>2237.083333</td>\n",
              "      <td>29542143.0</td>\n",
              "      <td>990.0</td>\n",
              "      <td>4.968651e+08</td>\n",
              "    </tr>\n",
              "    <tr>\n",
              "      <th>2</th>\n",
              "      <td>buzzfeedtasty</td>\n",
              "      <td>1.008629e+05</td>\n",
              "      <td>963.153846</td>\n",
              "      <td>30246783.0</td>\n",
              "      <td>2791.0</td>\n",
              "      <td>2.125507e+09</td>\n",
              "    </tr>\n",
              "    <tr>\n",
              "      <th>3</th>\n",
              "      <td>danbilzerian</td>\n",
              "      <td>8.631133e+05</td>\n",
              "      <td>8594.733333</td>\n",
              "      <td>26476004.0</td>\n",
              "      <td>1311.0</td>\n",
              "      <td>5.041706e+07</td>\n",
              "    </tr>\n",
              "    <tr>\n",
              "      <th>4</th>\n",
              "      <td>hm</td>\n",
              "      <td>8.121350e+04</td>\n",
              "      <td>365.000000</td>\n",
              "      <td>29176804.0</td>\n",
              "      <td>4566.0</td>\n",
              "      <td>2.341008e+07</td>\n",
              "    </tr>\n",
              "    <tr>\n",
              "      <th>5</th>\n",
              "      <td>instagram</td>\n",
              "      <td>8.783578e+05</td>\n",
              "      <td>6619.117647</td>\n",
              "      <td>285457645.0</td>\n",
              "      <td>5760.0</td>\n",
              "      <td>2.502532e+07</td>\n",
              "    </tr>\n",
              "    <tr>\n",
              "      <th>6</th>\n",
              "      <td>louisvuitton</td>\n",
              "      <td>1.868570e+05</td>\n",
              "      <td>867.000000</td>\n",
              "      <td>30689316.0</td>\n",
              "      <td>3352.0</td>\n",
              "      <td>1.876191e+08</td>\n",
              "    </tr>\n",
              "    <tr>\n",
              "      <th>7</th>\n",
              "      <td>nba</td>\n",
              "      <td>2.325301e+05</td>\n",
              "      <td>1070.888889</td>\n",
              "      <td>35339708.0</td>\n",
              "      <td>28816.0</td>\n",
              "      <td>2.082449e+07</td>\n",
              "    </tr>\n",
              "    <tr>\n",
              "      <th>8</th>\n",
              "      <td>princessyahrini</td>\n",
              "      <td>1.303222e+05</td>\n",
              "      <td>774.269231</td>\n",
              "      <td>29042823.0</td>\n",
              "      <td>4719.0</td>\n",
              "      <td>2.423993e+07</td>\n",
              "    </tr>\n",
              "    <tr>\n",
              "      <th>9</th>\n",
              "      <td>victoriassecret</td>\n",
              "      <td>2.395093e+05</td>\n",
              "      <td>479.714286</td>\n",
              "      <td>65269440.0</td>\n",
              "      <td>7355.0</td>\n",
              "      <td>3.416684e+06</td>\n",
              "    </tr>\n",
              "  </tbody>\n",
              "</table>\n",
              "</div>"
            ],
            "text/plain": [
              "      profile_name  average like  average comments    followers  n_posts  \\\n",
              "0      akshaykumar  1.027102e+06       6582.461538   26252169.0   1173.0   \n",
              "1   andresiniesta8  4.730227e+05       2237.083333   29542143.0    990.0   \n",
              "2    buzzfeedtasty  1.008629e+05        963.153846   30246783.0   2791.0   \n",
              "3     danbilzerian  8.631133e+05       8594.733333   26476004.0   1311.0   \n",
              "4               hm  8.121350e+04        365.000000   29176804.0   4566.0   \n",
              "5        instagram  8.783578e+05       6619.117647  285457645.0   5760.0   \n",
              "6     louisvuitton  1.868570e+05        867.000000   30689316.0   3352.0   \n",
              "7              nba  2.325301e+05       1070.888889   35339708.0  28816.0   \n",
              "8  princessyahrini  1.303222e+05        774.269231   29042823.0   4719.0   \n",
              "9  victoriassecret  2.395093e+05        479.714286   65269440.0   7355.0   \n",
              "\n",
              "     profile_id  \n",
              "0  9.070254e+08  \n",
              "1  4.968651e+08  \n",
              "2  2.125507e+09  \n",
              "3  5.041706e+07  \n",
              "4  2.341008e+07  \n",
              "5  2.502532e+07  \n",
              "6  1.876191e+08  \n",
              "7  2.082449e+07  \n",
              "8  2.423993e+07  \n",
              "9  3.416684e+06  "
            ]
          },
          "execution_count": 167,
          "metadata": {},
          "output_type": "execute_result"
        }
      ],
      "source": [
        "dfg5 = pd.merge(dfg2,most_follower3,on = \"profile_name\")\n",
        "dfg5"
      ]
    },
    {
      "cell_type": "code",
      "execution_count": null,
      "metadata": {
        "id": "2ed09b83",
        "outputId": "91131664-732f-4678-af91-0ada190cbb7d"
      },
      "outputs": [
        {
          "data": {
            "text/html": [
              "<div>\n",
              "<style scoped>\n",
              "    .dataframe tbody tr th:only-of-type {\n",
              "        vertical-align: middle;\n",
              "    }\n",
              "\n",
              "    .dataframe tbody tr th {\n",
              "        vertical-align: top;\n",
              "    }\n",
              "\n",
              "    .dataframe thead th {\n",
              "        text-align: right;\n",
              "    }\n",
              "</style>\n",
              "<table border=\"1\" class=\"dataframe\">\n",
              "  <thead>\n",
              "    <tr style=\"text-align: right;\">\n",
              "      <th></th>\n",
              "      <th>profile_name</th>\n",
              "      <th>average like</th>\n",
              "      <th>average comments</th>\n",
              "      <th>followers</th>\n",
              "      <th>n_posts</th>\n",
              "      <th>profile_id</th>\n",
              "      <th>like / followers</th>\n",
              "      <th>comments / followers</th>\n",
              "    </tr>\n",
              "  </thead>\n",
              "  <tbody>\n",
              "    <tr>\n",
              "      <th>5</th>\n",
              "      <td>instagram</td>\n",
              "      <td>8.783578e+05</td>\n",
              "      <td>6619.117647</td>\n",
              "      <td>285457645.0</td>\n",
              "      <td>5760.0</td>\n",
              "      <td>2.502532e+07</td>\n",
              "      <td>0.003077</td>\n",
              "      <td>0.000023</td>\n",
              "    </tr>\n",
              "    <tr>\n",
              "      <th>9</th>\n",
              "      <td>victoriassecret</td>\n",
              "      <td>2.395093e+05</td>\n",
              "      <td>479.714286</td>\n",
              "      <td>65269440.0</td>\n",
              "      <td>7355.0</td>\n",
              "      <td>3.416684e+06</td>\n",
              "      <td>0.003670</td>\n",
              "      <td>0.000007</td>\n",
              "    </tr>\n",
              "    <tr>\n",
              "      <th>7</th>\n",
              "      <td>nba</td>\n",
              "      <td>2.325301e+05</td>\n",
              "      <td>1070.888889</td>\n",
              "      <td>35339708.0</td>\n",
              "      <td>28816.0</td>\n",
              "      <td>2.082449e+07</td>\n",
              "      <td>0.006580</td>\n",
              "      <td>0.000030</td>\n",
              "    </tr>\n",
              "    <tr>\n",
              "      <th>6</th>\n",
              "      <td>louisvuitton</td>\n",
              "      <td>1.868570e+05</td>\n",
              "      <td>867.000000</td>\n",
              "      <td>30689316.0</td>\n",
              "      <td>3352.0</td>\n",
              "      <td>1.876191e+08</td>\n",
              "      <td>0.006089</td>\n",
              "      <td>0.000028</td>\n",
              "    </tr>\n",
              "    <tr>\n",
              "      <th>2</th>\n",
              "      <td>buzzfeedtasty</td>\n",
              "      <td>1.008629e+05</td>\n",
              "      <td>963.153846</td>\n",
              "      <td>30246783.0</td>\n",
              "      <td>2791.0</td>\n",
              "      <td>2.125507e+09</td>\n",
              "      <td>0.003335</td>\n",
              "      <td>0.000032</td>\n",
              "    </tr>\n",
              "    <tr>\n",
              "      <th>1</th>\n",
              "      <td>andresiniesta8</td>\n",
              "      <td>4.730227e+05</td>\n",
              "      <td>2237.083333</td>\n",
              "      <td>29542143.0</td>\n",
              "      <td>990.0</td>\n",
              "      <td>4.968651e+08</td>\n",
              "      <td>0.016012</td>\n",
              "      <td>0.000076</td>\n",
              "    </tr>\n",
              "    <tr>\n",
              "      <th>4</th>\n",
              "      <td>hm</td>\n",
              "      <td>8.121350e+04</td>\n",
              "      <td>365.000000</td>\n",
              "      <td>29176804.0</td>\n",
              "      <td>4566.0</td>\n",
              "      <td>2.341008e+07</td>\n",
              "      <td>0.002783</td>\n",
              "      <td>0.000013</td>\n",
              "    </tr>\n",
              "    <tr>\n",
              "      <th>8</th>\n",
              "      <td>princessyahrini</td>\n",
              "      <td>1.303222e+05</td>\n",
              "      <td>774.269231</td>\n",
              "      <td>29042823.0</td>\n",
              "      <td>4719.0</td>\n",
              "      <td>2.423993e+07</td>\n",
              "      <td>0.004487</td>\n",
              "      <td>0.000027</td>\n",
              "    </tr>\n",
              "    <tr>\n",
              "      <th>3</th>\n",
              "      <td>danbilzerian</td>\n",
              "      <td>8.631133e+05</td>\n",
              "      <td>8594.733333</td>\n",
              "      <td>26476004.0</td>\n",
              "      <td>1311.0</td>\n",
              "      <td>5.041706e+07</td>\n",
              "      <td>0.032600</td>\n",
              "      <td>0.000325</td>\n",
              "    </tr>\n",
              "    <tr>\n",
              "      <th>0</th>\n",
              "      <td>akshaykumar</td>\n",
              "      <td>1.027102e+06</td>\n",
              "      <td>6582.461538</td>\n",
              "      <td>26252169.0</td>\n",
              "      <td>1173.0</td>\n",
              "      <td>9.070254e+08</td>\n",
              "      <td>0.039124</td>\n",
              "      <td>0.000251</td>\n",
              "    </tr>\n",
              "  </tbody>\n",
              "</table>\n",
              "</div>"
            ],
            "text/plain": [
              "      profile_name  average like  average comments    followers  n_posts  \\\n",
              "5        instagram  8.783578e+05       6619.117647  285457645.0   5760.0   \n",
              "9  victoriassecret  2.395093e+05        479.714286   65269440.0   7355.0   \n",
              "7              nba  2.325301e+05       1070.888889   35339708.0  28816.0   \n",
              "6     louisvuitton  1.868570e+05        867.000000   30689316.0   3352.0   \n",
              "2    buzzfeedtasty  1.008629e+05        963.153846   30246783.0   2791.0   \n",
              "1   andresiniesta8  4.730227e+05       2237.083333   29542143.0    990.0   \n",
              "4               hm  8.121350e+04        365.000000   29176804.0   4566.0   \n",
              "8  princessyahrini  1.303222e+05        774.269231   29042823.0   4719.0   \n",
              "3     danbilzerian  8.631133e+05       8594.733333   26476004.0   1311.0   \n",
              "0      akshaykumar  1.027102e+06       6582.461538   26252169.0   1173.0   \n",
              "\n",
              "     profile_id  like / followers  comments / followers  \n",
              "5  2.502532e+07          0.003077              0.000023  \n",
              "9  3.416684e+06          0.003670              0.000007  \n",
              "7  2.082449e+07          0.006580              0.000030  \n",
              "6  1.876191e+08          0.006089              0.000028  \n",
              "2  2.125507e+09          0.003335              0.000032  \n",
              "1  4.968651e+08          0.016012              0.000076  \n",
              "4  2.341008e+07          0.002783              0.000013  \n",
              "8  2.423993e+07          0.004487              0.000027  \n",
              "3  5.041706e+07          0.032600              0.000325  \n",
              "0  9.070254e+08          0.039124              0.000251  "
            ]
          },
          "execution_count": 177,
          "metadata": {},
          "output_type": "execute_result"
        }
      ],
      "source": [
        "## division between columns:\n",
        "dfg5['like / followers'] = dfg5['average like'] / dfg5['followers']\n",
        "dfg5['comments / followers'] = dfg5['average comments'] / dfg5['followers']\n",
        "dfg6 = dfg5.sort_values(by=\"followers\",ascending=False)\n",
        "dfg6"
      ]
    },
    {
      "cell_type": "code",
      "execution_count": null,
      "metadata": {
        "scrolled": true,
        "id": "d1126bfa",
        "outputId": "b9e2e4ef-bff5-4170-dc94-90a9d491cb3d"
      },
      "outputs": [
        {
          "data": {
            "text/html": [
              "<div>\n",
              "<style scoped>\n",
              "    .dataframe tbody tr th:only-of-type {\n",
              "        vertical-align: middle;\n",
              "    }\n",
              "\n",
              "    .dataframe tbody tr th {\n",
              "        vertical-align: top;\n",
              "    }\n",
              "\n",
              "    .dataframe thead th {\n",
              "        text-align: right;\n",
              "    }\n",
              "</style>\n",
              "<table border=\"1\" class=\"dataframe\">\n",
              "  <thead>\n",
              "    <tr style=\"text-align: right;\">\n",
              "      <th></th>\n",
              "      <th>profile_name</th>\n",
              "      <th>followers</th>\n",
              "      <th>like / followers</th>\n",
              "      <th>comments / followers</th>\n",
              "    </tr>\n",
              "  </thead>\n",
              "  <tbody>\n",
              "    <tr>\n",
              "      <th>5</th>\n",
              "      <td>instagram</td>\n",
              "      <td>285457645.0</td>\n",
              "      <td>0.003077</td>\n",
              "      <td>0.000023</td>\n",
              "    </tr>\n",
              "    <tr>\n",
              "      <th>9</th>\n",
              "      <td>victoriassecret</td>\n",
              "      <td>65269440.0</td>\n",
              "      <td>0.003670</td>\n",
              "      <td>0.000007</td>\n",
              "    </tr>\n",
              "    <tr>\n",
              "      <th>7</th>\n",
              "      <td>nba</td>\n",
              "      <td>35339708.0</td>\n",
              "      <td>0.006580</td>\n",
              "      <td>0.000030</td>\n",
              "    </tr>\n",
              "    <tr>\n",
              "      <th>6</th>\n",
              "      <td>louisvuitton</td>\n",
              "      <td>30689316.0</td>\n",
              "      <td>0.006089</td>\n",
              "      <td>0.000028</td>\n",
              "    </tr>\n",
              "    <tr>\n",
              "      <th>2</th>\n",
              "      <td>buzzfeedtasty</td>\n",
              "      <td>30246783.0</td>\n",
              "      <td>0.003335</td>\n",
              "      <td>0.000032</td>\n",
              "    </tr>\n",
              "    <tr>\n",
              "      <th>1</th>\n",
              "      <td>andresiniesta8</td>\n",
              "      <td>29542143.0</td>\n",
              "      <td>0.016012</td>\n",
              "      <td>0.000076</td>\n",
              "    </tr>\n",
              "    <tr>\n",
              "      <th>4</th>\n",
              "      <td>hm</td>\n",
              "      <td>29176804.0</td>\n",
              "      <td>0.002783</td>\n",
              "      <td>0.000013</td>\n",
              "    </tr>\n",
              "    <tr>\n",
              "      <th>8</th>\n",
              "      <td>princessyahrini</td>\n",
              "      <td>29042823.0</td>\n",
              "      <td>0.004487</td>\n",
              "      <td>0.000027</td>\n",
              "    </tr>\n",
              "    <tr>\n",
              "      <th>3</th>\n",
              "      <td>danbilzerian</td>\n",
              "      <td>26476004.0</td>\n",
              "      <td>0.032600</td>\n",
              "      <td>0.000325</td>\n",
              "    </tr>\n",
              "    <tr>\n",
              "      <th>0</th>\n",
              "      <td>akshaykumar</td>\n",
              "      <td>26252169.0</td>\n",
              "      <td>0.039124</td>\n",
              "      <td>0.000251</td>\n",
              "    </tr>\n",
              "  </tbody>\n",
              "</table>\n",
              "</div>"
            ],
            "text/plain": [
              "      profile_name    followers  like / followers  comments / followers\n",
              "5        instagram  285457645.0          0.003077              0.000023\n",
              "9  victoriassecret   65269440.0          0.003670              0.000007\n",
              "7              nba   35339708.0          0.006580              0.000030\n",
              "6     louisvuitton   30689316.0          0.006089              0.000028\n",
              "2    buzzfeedtasty   30246783.0          0.003335              0.000032\n",
              "1   andresiniesta8   29542143.0          0.016012              0.000076\n",
              "4               hm   29176804.0          0.002783              0.000013\n",
              "8  princessyahrini   29042823.0          0.004487              0.000027\n",
              "3     danbilzerian   26476004.0          0.032600              0.000325\n",
              "0      akshaykumar   26252169.0          0.039124              0.000251"
            ]
          },
          "execution_count": 178,
          "metadata": {},
          "output_type": "execute_result"
        }
      ],
      "source": [
        "dfg6[[\"profile_name\",\"followers\",\"like / followers\",\"comments / followers\"]]"
      ]
    },
    {
      "cell_type": "markdown",
      "metadata": {
        "id": "t1OgLMjmhlkn"
      },
      "source": [
        "## RQ6"
      ]
    },
    {
      "cell_type": "code",
      "execution_count": null,
      "metadata": {
        "id": "H2kkeFHohlsU"
      },
      "outputs": [],
      "source": []
    },
    {
      "cell_type": "code",
      "execution_count": null,
      "metadata": {
        "id": "4V-kwJYBhlvj"
      },
      "outputs": [],
      "source": []
    },
    {
      "cell_type": "markdown",
      "metadata": {
        "id": "yEeRpsr7hmA-"
      },
      "source": [
        "## RQ7"
      ]
    },
    {
      "cell_type": "markdown",
      "source": [
        "*What's the probability that a post receives more than 20% \"likes\" of the number of followers a user has?*"
      ],
      "metadata": {
        "id": "Sru9_y3lPlCv"
      }
    },
    {
      "cell_type": "code",
      "execution_count": null,
      "metadata": {
        "id": "SjXyDjwXiH7a",
        "colab": {
          "base_uri": "https://localhost:8080/"
        },
        "outputId": "04cf8604-d02e-472b-f3b8-482dd05117fb"
      },
      "outputs": [
        {
          "output_type": "stream",
          "name": "stdout",
          "text": [
            "The probability is: 15.1%\n"
          ]
        }
      ],
      "source": [
        "profiles_followers = profiles[['sid', 'followers']]\n",
        "profiles_followers = profiles_followers.dropna()\n",
        "\n",
        "all = 0\n",
        "tot = 0\n",
        "for chunk in pd.read_csv('/content/drive/MyDrive/ADM/instagram_posts.csv', sep='\\t', chunksize=500000, usecols=['sid_profile', 'numbr_likes']): \n",
        "    data = pd.merge(chunk, profiles_followers, left_on='sid_profile', right_on='sid').drop('sid', axis=1)   \n",
        "    all += (data.apply(lambda x: x.numbr_likes / (x.followers+1), axis=1) > 0.2).sum()  # we add +1 to consider also all the profiles with 0 followers                     \n",
        "    tot += len(data)                                                                   # because division by 0 is not possible\n",
        "\n",
        "    # merging the chunks and the profiles to get a new dataset with n_likes and n_followers for every post\n",
        "    # counting all the rows that have (n_likes / n_followers) > 0.2\n",
        "\n",
        "print(f\"The probability is: {round(all/tot, 3) * 100}%\")"
      ]
    },
    {
      "cell_type": "markdown",
      "source": [
        "We get this probability couting all the posts in which the division between number of likes and number of followers was higher than 0.2. Doing this we have also consider all the profiles (usually those that has 0 or few follower) that has more like than followers. We leave those profile because they give us an explanation of how this social works and tell us that not always the number of followers is relevant. However this probability is not so high: a big part of profile followers does not interact so much with that profile."
      ],
      "metadata": {
        "id": "i2Q6EsS6DdLk"
      }
    },
    {
      "cell_type": "markdown",
      "source": [
        "*Do users usually return to locations? Extract the probability that a user returns to a site after having posted it in the past. Does that probability make sense to you? Explain why or why not.*"
      ],
      "metadata": {
        "id": "mC3lRICkPt_5"
      }
    },
    {
      "cell_type": "code",
      "source": [
        "profiles = list(profiles.sid)\n",
        "prof_dict = {k: [] for k in profiles}       # creating a dictionary with all profiles\n",
        "\n",
        "for chunk in pd.read_csv('/content/drive/MyDrive/ADM/instagram_posts.csv', sep='\\t', chunksize=500000, usecols=['sid_profile', 'location_id']): \n",
        "    chunk = chunk[chunk.sid_profile != -1].dropna()             # cleaning the chunk\n",
        "    for loc, prof in zip(chunk.location_id, chunk.sid_profile):\n",
        "        prof_dict[int(prof)].append(loc)            # appending to profiles any locations they visited\n",
        "\n",
        "count = 0\n",
        "tot = 0\n",
        "for item in prof_dict.values():         # counting for every profiles how many times they visited every location where they posted\n",
        "    d = Counter(item)\n",
        "    v = [i for i in d.values() if i > 1]        \n",
        "    count += len(v)                     # counting the locations where they have been more than once\n",
        "    tot += len(set(item))\n",
        "\n",
        "print(f\"The probability is: {round(count/tot, 3) * 100}%\")"
      ],
      "metadata": {
        "id": "sL5fOQ4o3XM_",
        "outputId": "df3fefb1-84f4-4ecd-804a-bf1103ed4e53",
        "colab": {
          "base_uri": "https://localhost:8080/"
        }
      },
      "execution_count": null,
      "outputs": [
        {
          "output_type": "stream",
          "name": "stdout",
          "text": [
            "The probability is: 18.8%\n"
          ]
        }
      ]
    },
    {
      "cell_type": "markdown",
      "source": [
        "We compute this  probability supposing that a user posts a post only when he goes in a location. So of course this result can not have sense because a user could also posts something with the same location of the previous posts having taken a picture in the same moment of the previous. So posting a post with a location that is the same of some previous one not imply that the user is back in the same place and so this probability doesn't have any sense."
      ],
      "metadata": {
        "id": "8oYbhmEN-njl"
      }
    },
    {
      "cell_type": "markdown",
      "metadata": {
        "id": "9wgxKKfRiI_Q"
      },
      "source": [
        "## RQ8"
      ]
    },
    {
      "cell_type": "markdown",
      "source": [
        "*Does more 'likes' also mean more comments? Plot a scatter plot of 'likes' vs comments for posts.*"
      ],
      "metadata": {
        "id": "2ETcJn5NeGG_"
      }
    },
    {
      "cell_type": "code",
      "execution_count": null,
      "metadata": {
        "id": "W90OHI-eiMPs"
      },
      "outputs": [],
      "source": [
        "posts = pd.read_csv('/content/drive/MyDrive/ADM/instagram_posts.csv', sep='\\t', usecols=['numbr_likes', 'number_comments', 'cts'])"
      ]
    },
    {
      "cell_type": "code",
      "execution_count": null,
      "metadata": {
        "id": "RO3eMhrciMNX",
        "colab": {
          "base_uri": "https://localhost:8080/",
          "height": 295
        },
        "outputId": "b6107e5c-a101-405a-a281-3ee84f19119d"
      },
      "outputs": [
        {
          "output_type": "display_data",
          "data": {
            "text/plain": [
              "<Figure size 432x288 with 1 Axes>"
            ],
            "image/png": "[encoded data removed]"
          },
          "metadata": {
            "needs_background": "light"
          }
        }
      ],
      "source": [
        "plt.scatter(posts.numbr_likes, posts.number_comments, color='darkorange', s=.8)\n",
        "plt.xlim([0, 1000000])      # Here we don't care about outliers but we only want readble informations on the scatterplot so we use appropriate ranges\n",
        "plt.ylim([0, 50000])\n",
        "plt.title('Likes and Comments')\n",
        "plt.xlabel('Likes')\n",
        "plt.ylabel('Comments')\n",
        "plt.show()"
      ]
    },
    {
      "cell_type": "markdown",
      "source": [
        "Plotting the number of likes with number of comments of posts we realize that there is not so much correlation between tis two variable. In fact having more likes do not imply having more comments: if we imagine a regression line in this plot it would have a little inclination.  Therefore more likes doesn't mean also more comments, rather we notice that as the likes increase, the comments remain constant.\n",
        "\n"
      ],
      "metadata": {
        "id": "H2QRU0PkXB4d"
      }
    },
    {
      "cell_type": "markdown",
      "source": [
        "\n",
        "*Can you find any significant relationship between the time a user publishes a post and the number of comments and “likes”? Use an appropriate statistical test or technique and support your choice.*"
      ],
      "metadata": {
        "id": "-4FgBl9weVns"
      }
    },
    {
      "cell_type": "code",
      "source": [
        "posts.cts = pd.to_datetime(posts.cts).dt.floor('h').dt.time"
      ],
      "metadata": {
        "id": "pXjh2pTbaRTv"
      },
      "execution_count": null,
      "outputs": []
    },
    {
      "cell_type": "code",
      "source": [
        "# Plotting means of likes and comments for every hours\n",
        "\n",
        "hours = list(map(str,sorted(list(set(posts.cts))[1:])))\n",
        "mean_likes = posts.numbr_likes.groupby(posts.cts).apply(lambda x: x.mean())\n",
        "mean_comments = posts.number_comments.groupby(posts.cts).apply(lambda x: x.mean())\n",
        "\n",
        "fig, ax = plt.subplots(1,2, figsize=(15, 5))\n",
        "ax[0].bar(hours,list(mean_likes), color=\"dodgerblue\")\n",
        "ax[0].set(title=\"Means of likes per hour\\n\", xlabel=\"\\nHours\", ylabel=\"Likes mean\", ylim=[0, 400])\n",
        "ax[0].tick_params(axis='x', rotation=90)\n",
        "\n",
        "ax[1].bar(hours,list(mean_comments), color=\"darkorange\")\n",
        "ax[1].set(title=\"Means of comments per hour\\n\", xlabel=\"\\nHours\", ylabel=\"Comments mean\", ylim=[0, 10])\n",
        "ax[1].tick_params(axis='x', rotation=90)\n",
        "\n",
        "plt.show()"
      ],
      "metadata": {
        "id": "NzvBLgQRo90s",
        "outputId": "d67fa82a-44b0-4b64-acb4-6707971c9d9e",
        "colab": {
          "base_uri": "https://localhost:8080/",
          "height": 411
        }
      },
      "execution_count": null,
      "outputs": [
        {
          "output_type": "display_data",
          "data": {
            "text/plain": [
              "<Figure size 1080x360 with 2 Axes>"
            ],
            "image/png": "[encoded data removed]"
          },
          "metadata": {
            "needs_background": "light"
          }
        }
      ]
    },
    {
      "cell_type": "markdown",
      "source": [
        "At first sight it would not seem that the avarage values of likes and comments are affected by the hour. \n",
        "To verify this we could run the ANOVA test to check with a statistcal test if the null Hypotesis of all equal means would not be rejected but as we will see in the next question the mean is not a good value to summarize the ditribution carachteristics. In fact we know that the average is not a robust position index because, like in our case, there are very high values that unbalance the average towards high values and so it is very different from the center of distribution. For this reason we can use the medians."
      ],
      "metadata": {
        "id": "y0g-yWYpmQea"
      }
    },
    {
      "cell_type": "code",
      "source": [
        "# Plotting median of likes and comments for every hours\n",
        "\n",
        "hours = list(map(str,sorted(list(set(posts.cts))[1:])))\n",
        "med_likes = posts.numbr_likes.groupby(posts.cts).apply(lambda x: x.median())\n",
        "med_comments = posts.number_comments.groupby(posts.cts).apply(lambda x: x.median())\n",
        "\n",
        "fig, ax = plt.subplots(1,2, figsize=(15, 5))\n",
        "ax[0].bar(hours,list(med_likes), color=\"dodgerblue\")\n",
        "ax[0].set(title=\"Meadians of likes per hour\\n\", xlabel=\"\\nHours\", ylabel=\"Likes median\", ylim=[0, 80])\n",
        "ax[0].tick_params(axis='x', rotation=90)\n",
        "\n",
        "ax[1].bar(hours,list(med_comments), color=\"darkorange\")\n",
        "ax[1].set(title=\"Medians of comments per hour\\n\", xlabel=\"\\nHours\", ylabel=\"Comments median\", ylim=[0, 3.5])\n",
        "ax[1].tick_params(axis='x', rotation=90)\n",
        "\n",
        "plt.show()"
      ],
      "metadata": {
        "id": "ZeNio8awjFl3",
        "outputId": "701f9fc5-46e7-4e62-b911-2e7873e00057",
        "colab": {
          "base_uri": "https://localhost:8080/",
          "height": 411
        }
      },
      "execution_count": null,
      "outputs": [
        {
          "output_type": "display_data",
          "data": {
            "text/plain": [
              "<Figure size 1080x360 with 2 Axes>"
            ],
            "image/png": "[encoded data removed]"
          },
          "metadata": {
            "needs_background": "light"
          }
        }
      ]
    },
    {
      "cell_type": "markdown",
      "source": [
        "As we can see there the median values for each hours looks to be more closer to each other than the means. Another time it comes from the fact that the time does not discriminate the number of likes and comments.\n",
        "\n",
        "However, a consideration must be made: since the average number of likes and comments is not so far from day and night (as we can see in barplots above) as should it be and having taken posts from multiple parts of the worlds, maybe means that the time zone was not considered. If this is true, it is not possible to report valid results about this topic."
      ],
      "metadata": {
        "id": "YTA73AQonv4G"
      }
    },
    {
      "cell_type": "markdown",
      "source": [
        "*What is the distribution of followers? Plot the empirical distribution of followers amongst all users and extract the mean, mode, and quantiles. Interpret those figures.*"
      ],
      "metadata": {
        "id": "OxO_r9SbeXpM"
      }
    },
    {
      "cell_type": "code",
      "source": [
        "followers = np.array(profiles.followers.dropna())\n",
        "\n",
        "mean = round(followers.mean(), 2)\n",
        "stats = Counter(followers)\n",
        "mode = max(stats, key=stats.get)            # taking the max value after grouping by number of followers\n",
        "\n",
        "rng = np.arange(10,91,10)\n",
        "quant = np.percentile(followers,rng)        # computing the decils of profiles followers\n",
        "data = {'Quantile': rng, 'Value': quant}\n",
        "quantiles = pd.DataFrame(data)\n",
        "\n",
        "print(\"The mean is:\", mean)\n",
        "print(\"The mode is:\", mode)\n",
        "print(\"\\n\", quantiles, \"\\n\")\n",
        "\n",
        "follower = followers[followers < quant[-1]]    # removing last 10% of profiles with highest number of follower\n",
        "\n",
        "plt.figure(figsize=(8, 6), dpi=80)\n",
        "plt.hist(follower, bins = 50, ec=\"white\", color=\"dodgerblue\")      # plotting just the 90% of lowest units to have a clear rapresentation\n",
        "plt.title(\"Followers Ditribution\\n\")                               #  of the followers distribution\n",
        "plt.xlabel(\"Followers\")\n",
        "plt.ylabel(\"Frequency\")\n",
        "plt.show()"
      ],
      "metadata": {
        "id": "jYEZfqUPfHEO",
        "outputId": "66db6d39-1ad0-469d-8d2d-460cc429b8bf",
        "colab": {
          "base_uri": "https://localhost:8080/",
          "height": 714
        }
      },
      "execution_count": null,
      "outputs": [
        {
          "output_type": "stream",
          "name": "stdout",
          "text": [
            "The mean is: 4739.9\n",
            "The mode is: 0.0\n",
            "\n",
            "    Quantile   Value\n",
            "0        10    60.0\n",
            "1        20   124.0\n",
            "2        30   198.0\n",
            "3        40   289.0\n",
            "4        50   406.0\n",
            "5        60   563.0\n",
            "6        70   804.0\n",
            "7        80  1191.0\n",
            "8        90  2502.0 \n",
            "\n"
          ]
        },
        {
          "output_type": "display_data",
          "data": {
            "text/plain": [
              "<Figure size 640x480 with 1 Axes>"
            ],
            "image/png": "[encoded data removed]"
          },
          "metadata": {
            "needs_background": "light"
          }
        }
      ]
    },
    {
      "cell_type": "markdown",
      "source": [
        "From the chart we can see how, incresing the number of the followers, the quantity of profiles with this number decrease very quickly. This implies that there are a lot of profiles with a low number of followers and only a few profiles with many followers, as we can see also from the quantiles values (90% ofprofiles have less than 2500 followers). This of course has a strong influence on the mean because the really high numers of followers tend to make it shift towards higher values. In fact, we can see how the median has a much lower value: 406 is the median and 4740 is the mean. The mode tell us that there are a lot of profile with no followers or really low value. "
      ],
      "metadata": {
        "id": "d6fNlSo8vf9A"
      }
    },
    {
      "cell_type": "markdown",
      "source": [
        "*What are histograms, bar plots, scatterplots and pie charts used for?*"
      ],
      "metadata": {
        "id": "jaUbyDYXeXId"
      }
    },
    {
      "cell_type": "markdown",
      "source": [
        "* <ins> Histogram </ins>: It's used to represent the distribution of a single continuous variable. The bins are the intervals in which this variable it's been splitted and the high of the column represents how many time a value of this variable occurred in that interval.\n",
        "* <ins> Bar Plot </ins>: This chart corresponding to the Histogram for discrete variables. Every bin represents a value which can be assumed by the variable and the high of the column tells us how many times the variable assumes that value.\n",
        "* <ins> Scatterplot </ins>: This chart is used to plot a series of units that have two different attributes. Thanks to this we can see how the variables behave with each other, if there is some type of correlation.\n",
        "* <ins> Pie Chart </ins>: The pie chart is another way to represent what values a discrete variable takes  and, reporting these values of the respective relative frequencies, give use a visual the information what portion of the total every different value takes."
      ],
      "metadata": {
        "id": "FJxXiGxFEk6X"
      }
    },
    {
      "cell_type": "markdown",
      "source": [
        "*What insights can you extract from a Box Plot?*"
      ],
      "metadata": {
        "id": "A5qWd6khefG9"
      }
    },
    {
      "cell_type": "markdown",
      "source": [
        "The Box Plot is a type of graph used to visually summarize many informations of a continuous variable: \n",
        "* the horizontal line insiede the box represent the median of the distribution;\n",
        "* the edges of the box represents the first and the third quartile (25% and 75% of the units)\n",
        "* the horizontals line at the end of the vertical ones are a range defined a range $(Q_3 \\pm 1.5 * Q_1)$ outside of which we find the outliers.\n",
        "\n",
        "Watching this plot we can have visually a first information about the variable's distibution."
      ],
      "metadata": {
        "id": "fxF6LHMiLByw"
      }
    },
    {
      "cell_type": "markdown",
      "metadata": {
        "id": "MQvXPL3jiMf_"
      },
      "source": [
        "# Bonus Points"
      ]
    },
    {
      "cell_type": "markdown",
      "source": [
        "a) Sort the users in terms of number of followers and divide them into two groups: for the first group, take only the top 10% regarding \"followers\", and for the second one, take the rest. Now compare the mean of time intervals between posts for the two categories. Do you notice something relevant?"
      ],
      "metadata": {
        "id": "rgYw6xafzDmz"
      }
    },
    {
      "cell_type": "code",
      "execution_count": null,
      "metadata": {
        "id": "enoIlxyDiO11"
      },
      "outputs": [],
      "source": [
        "profiles = pd.read_csv('/content/drive/MyDrive/ADM/instagram_profiles.csv', sep='\\t', usecols=['sid', 'followers'])\n",
        "sort_profiles = profiles.sort_values('followers', ascending=False)[profiles['followers'].notna()]  \n",
        "# we remove all the profiles without followers attribute\n",
        "\n",
        "tresh = sort_profiles.followers.quantile(.9)                        # finding last decil\n",
        "first_group = sort_profiles[sort_profiles.followers > tresh]        # splitting the groups\n",
        "second_group = sort_profiles[sort_profiles.followers <= tresh]"
      ]
    },
    {
      "cell_type": "code",
      "source": [
        "posts = pd.read_csv('/content/drive/MyDrive/ADM/instagram_posts.csv', sep='\\t', usecols=['post_id', 'cts', 'sid_profile'])\n",
        "\n",
        "posts = posts[posts['sid_profile'] != -1]                                        # removing posts with missing profile \n",
        "posts.cts = pd.to_datetime(posts.cts)                                            # converting to datetime cts column\n",
        "group = posts.cts.groupby(posts.sid_profile).apply(list).reset_index()           # grouping posts.cts by profiles\n",
        "group['mean_time'] = group.cts.apply(lambda x: ((max(x)-min(x)) / (len(x))))     # finding average publication period for each profile\n",
        "group = group[group.mean_time != '0 days 00:00:00']                              # removing profiles with less than two posts"
      ],
      "metadata": {
        "id": "-3M0aBAsw0kf"
      },
      "execution_count": null,
      "outputs": []
    },
    {
      "cell_type": "code",
      "source": [
        "data_first = pd.merge(group, first_group, left_on='sid_profile', right_on='sid').drop('sid', axis=1)  # merging profiles with average posting period\n",
        "data_second = pd.merge(group, second_group, left_on='sid_profile', right_on='sid').drop('sid', axis=1)\n",
        "\n",
        "mean_1 = data_first.mean_time.mean()\n",
        "mean_2 = data_second.mean_time.mean()\n",
        "\n",
        "print(f'Mean of the first group: {mean_1}')\n",
        "print(f'Mean of the first group: {mean_2}')\n",
        "print(f'The difference between the second and first groups is: {mean_2-mean_1}')"
      ],
      "metadata": {
        "colab": {
          "base_uri": "https://localhost:8080/"
        },
        "id": "axS99q0MAcx9",
        "outputId": "d6d26538-06be-4391-ba64-663c4c024290"
      },
      "execution_count": null,
      "outputs": [
        {
          "output_type": "stream",
          "name": "stdout",
          "text": [
            "Mean of the first group: 19 days 12:13:58.554878473\n",
            "Mean of the first group: 19 days 18:07:14.784826943\n",
            "The difference between the second and first groups is: 0 days 05:53:16.229948470\n"
          ]
        }
      ]
    },
    {
      "cell_type": "code",
      "source": [
        "hours_1 = mean_1.days * 24 +mean_1.seconds //60 //60\n",
        "hours_2 = mean_2.days * 24 +mean_2.seconds //60 //60\n",
        "    \n",
        "plt.barh([0,1], [hours_2, hours_1], color=['r','b'])\n",
        "plt.title('Average period of posting of two groups (hours)\\n')\n",
        "plt.ylabel('Groups')\n",
        "plt.xlabel('Average period of posting')\n",
        "plt.yticks([0,1], ('Second', 'First'))\n",
        "plt.show()"
      ],
      "metadata": {
        "colab": {
          "base_uri": "https://localhost:8080/",
          "height": 310
        },
        "id": "VYDikvaLEkO6",
        "outputId": "b845a90c-5d78-4f2e-a3e1-c130249c94b4"
      },
      "execution_count": null,
      "outputs": [
        {
          "output_type": "display_data",
          "data": {
            "text/plain": [
              "<Figure size 432x288 with 1 Axes>"
            ],
            "image/png": "[encoded data removed]"
          },
          "metadata": {
            "needs_background": "light"
          }
        }
      ]
    },
    {
      "cell_type": "markdown",
      "source": [
        "After having divide all the profiles in two groups and have found the avarage period of posting for everyone, we have compared the two means of that values as we can see on above. The results show us how the means are not so different: in fact the second group get an higher value but with just about 6 hours more. We should have expect that profiles with more followers were more active but this not seems to being right."
      ],
      "metadata": {
        "id": "sc_M3Jox7pDP"
      }
    },
    {
      "cell_type": "markdown",
      "source": [
        "b) Assume users publish their posts the same day pictures or videos are taken: Are there users that have visited the same location on the same day? How about the same week? Extract the results and explain them."
      ],
      "metadata": {
        "id": "4b1Zjnf5MIWm"
      }
    },
    {
      "cell_type": "code",
      "source": [
        "posts = pd.read_csv('/content/drive/MyDrive/ADM/instagram_posts.csv', sep='\\t', usecols=['location_id', 'cts', 'sid_profile'])\n",
        "\n",
        "posts = posts[posts.sid_profile != -1]\n",
        "cts = pd.to_datetime(posts.cts)"
      ],
      "metadata": {
        "id": "vlphNzyDMH8z"
      },
      "execution_count": null,
      "outputs": []
    },
    {
      "cell_type": "code",
      "source": [
        "posts.cts = cts.dt.date\n",
        "t = posts.groupby([posts.location_id, posts.cts]).nunique()  # grouping by location, than by hour and then count how many unit are in these groups\n",
        "tot = sum(t.sid_profile > 1)                                 # counting how many different users have posts in the same location at same hour\n",
        "\n",
        "print(f'It happened {tot} times that two profiles have visited the same location in the same day')"
      ],
      "metadata": {
        "id": "43ksG90ACuMx",
        "outputId": "86e7a8bb-1a88-489f-ea28-e8f38bef6074",
        "colab": {
          "base_uri": "https://localhost:8080/"
        }
      },
      "execution_count": null,
      "outputs": [
        {
          "output_type": "stream",
          "name": "stdout",
          "text": [
            "It happened 1161459 times that two profiles have visited the same location in the same day\n"
          ]
        }
      ]
    },
    {
      "cell_type": "code",
      "source": [
        "posts.cts = cts\n",
        "week = list(map(str, posts.cts.dt.isocalendar().week))\n",
        "year = list(map(str, posts.cts.dt.year))\n",
        "\n",
        "date = []                        # creating new variable with week and years to group \n",
        "for i in range(len(week)):\n",
        "    date.append(week[i] + ' ' +year[i])\n",
        "posts.cts = date\n",
        "\n",
        "t = posts.groupby([posts.location_id, posts.cts]).nunique()\n",
        "tot = sum(t.sid_profile > 1)     # counting how many different users have posts in the same location at same hour\n",
        "\n",
        "print(f'It happened {tot} times that two profiles have visited the same location in the same week')"
      ],
      "metadata": {
        "id": "VnrYYOfwSrki",
        "outputId": "11a2fd9d-bcbf-40ed-f919-d5fb0bdbefea",
        "colab": {
          "base_uri": "https://localhost:8080/"
        }
      },
      "execution_count": null,
      "outputs": [
        {
          "output_type": "stream",
          "name": "stdout",
          "text": [
            "It happened 1257329 times that two profiles have visited the same location in the same week\n"
          ]
        }
      ]
    },
    {
      "cell_type": "markdown",
      "source": [
        "How we can see from the results above there is not so much difference between the number of users that have posted in the same location at the same hour and in the same week (about 1.1 milion); this can be explained by the presence of large events in which more users participated. Frequently happens that people post something when there are particular events and for this reason we can also explain the great numbers that we got as results."
      ],
      "metadata": {
        "id": "bjgNg_lI_Zav"
      }
    },
    {
      "cell_type": "markdown",
      "source": [
        "c) Implement a text data analysis (also known as text mining) of the field \"description\" from instagram_posts.csv for descriptions written in English. Use appropriate visualizations and statistics to highlight the words (and probably the topics) provided for the users in that field."
      ],
      "metadata": {
        "id": "h1tbgo2kMZmo"
      }
    },
    {
      "cell_type": "code",
      "source": [
        "posts = pd.read_csv('/content/drive/MyDrive/ADM/instagram_posts.csv', sep='\\t', usecols=['description'], nrows = 2000000)"
      ],
      "metadata": {
        "id": "SzRqJDSIMZMu"
      },
      "execution_count": null,
      "outputs": []
    },
    {
      "cell_type": "code",
      "source": [
        "eng_dict = spacy.load('en_core_web_sm')\n",
        "sw_spacy = eng_dict.Defaults.stop_words\n",
        "eng_words = spacy.load('en_core_web_sm').vocab.strings  # taking only english words\n",
        "text = []\n",
        "\n",
        "\n",
        "# We can handle this analysis only with few milions of rows\n",
        "\n",
        "for descr in posts.description.dropna():\n",
        "    descr = re.findall(r\"[A-Za-z]{3,}\", descr)              #taking only words with at least 3 character (with less we suppose to be stop words)\n",
        "    descr = [word for word in descr if word.lower() not in sw_spacy and word.lower() in eng_words] \n",
        "    text.extend(descr)                                                                 # taking only the english words but bot the stop ones\n",
        "    \n",
        "\n",
        "\n",
        "text = ' '.join(text)\n",
        "\n",
        "wordcloud = WordCloud().generate(text)      # using WordCloud to give a visual representation\n",
        "\n",
        "plt.figure(figsize=(5, 5), dpi=200)\n",
        "plt.imshow(wordcloud, interpolation='bilinear')\n",
        "plt.axis(\"off\")\n",
        "plt.show()"
      ],
      "metadata": {
        "id": "WB9f_Ktf7D4g",
        "outputId": "ee5c223a-579a-4327-d348-f7da44e9443b",
        "colab": {
          "base_uri": "https://localhost:8080/",
          "height": 444
        }
      },
      "execution_count": null,
      "outputs": [
        {
          "output_type": "display_data",
          "data": {
            "text/plain": [
              "<Figure size 1000x1000 with 1 Axes>"
            ],
            "image/png": "[encoded data removed]"
          },
          "metadata": {
            "needs_background": "light"
          }
        }
      ]
    },
    {
      "cell_type": "markdown",
      "source": [
        "As we see from the results of our analysis, users tend to post happy and good things (ex. love, life, friend, fun,...),  making a lot of reference to time (ex. time, week, day, weekend, ...)."
      ],
      "metadata": {
        "id": "TCXW5u6YLD5x"
      }
    },
    {
      "cell_type": "markdown",
      "metadata": {
        "id": "ldpv0m_njKJx"
      },
      "source": [
        "--------------------------------------------------------------------------------"
      ]
    },
    {
      "cell_type": "markdown",
      "metadata": {
        "id": "-in3K9r5iPqf"
      },
      "source": [
        "# Command Line Question"
      ]
    },
    {
      "cell_type": "markdown",
      "source": [
        "Run the file CommandLine.sh in the folder"
      ],
      "metadata": {
        "id": "uJaK2ZjbL2na"
      }
    },
    {
      "cell_type": "markdown",
      "metadata": {
        "id": "eVQjP_MrjNiG"
      },
      "source": [
        "--------------------------------------------------------------------------------"
      ]
    },
    {
      "cell_type": "markdown",
      "metadata": {
        "id": "Z72WmLLbiShN"
      },
      "source": [
        "# Algorithmic Question"
      ]
    },
    {
      "cell_type": "markdown",
      "metadata": {
        "id": "7ZJ62kb6iZYM"
      },
      "source": [
        "## AQ1"
      ]
    },
    {
      "cell_type": "markdown",
      "source": [
        "[AQ1] Given the following pseudocode, answer the questions:"
      ],
      "metadata": {
        "id": "DvA4EkTPv1Kr"
      }
    },
    {
      "cell_type": "markdown",
      "source": [
        "\n",
        "\n",
        "```\n",
        "Input: \n",
        "    N : an integer \n",
        "    List : array of characters of length N without repetition\n",
        "    \n",
        "function f1(sequence, end): \n",
        "    For i=0 To end:\n",
        "        OUTPUT sequence[i]\n",
        "    EndFor\n",
        "    Output \"\\n\"\n",
        "    \n",
        "function f2(sequence, start, end): \n",
        "    If start = end: \n",
        "        f1(sequence, end)\n",
        "    Else\n",
        "        For i=start To end: \n",
        "            temp <-- sequence[start]\n",
        "            sequence[start] <-- sequence[i]\n",
        "            sequence[i] <-- temp\n",
        "            f2(sequence, start+1, end)\n",
        "            temp <-- sequence[start]\n",
        "            sequence[start] <-- sequence[i]\n",
        "            sequence[i] <-- temp\n",
        "f2(List, 0, N)\n",
        "```"
      ],
      "metadata": {
        "id": "xytPo91Q_2Il"
      }
    },
    {
      "cell_type": "markdown",
      "source": [
        "What is the output of this algorithm? Describe the mechanism of the algorithm in detail . We do not want to know only its final result. (Describe one example on your own)"
      ],
      "metadata": {
        "id": "7KB3J1Tu3Bet"
      }
    },
    {
      "cell_type": "code",
      "execution_count": null,
      "metadata": {
        "id": "lPvdrkVt39De"
      },
      "outputs": [],
      "source": [
        "The aligorithm is the Full Permutation of an array\n",
        "\n",
        "if input list = [1, 2, 3]\n",
        "then output\n",
        "123\n",
        "132\n",
        "213\n",
        "231\n",
        "312\n",
        "321\n",
        "\n",
        "function f1 output the array in Order\n",
        "function f2 swap the order of characters in the array then output it in the new order"
      ]
    },
    {
      "cell_type": "markdown",
      "source": [
        "What is asymptotically (i.e., we are asking for big-O complexity) the algorithm's running time as a function of N?"
      ],
      "metadata": {
        "id": "aboJC1tk4GUa"
      }
    },
    {
      "cell_type": "markdown",
      "source": [
        "O(N^2)"
      ],
      "metadata": {
        "id": "RiWpeAw54bRQ"
      }
    },
    {
      "cell_type": "markdown",
      "source": [
        "Is this algorithm the optimal one to produce this output? If not, can you suggest a better algorithm to perform the same task?"
      ],
      "metadata": {
        "id": "hz00jNZV4oPK"
      }
    },
    {
      "cell_type": "markdown",
      "source": [
        "The algorithms is not the optimal one\n",
        "\n",
        "better algorithm suggested below"
      ],
      "metadata": {
        "id": "-PwfAh0GrYPe"
      }
    },
    {
      "cell_type": "code",
      "execution_count": null,
      "metadata": {
        "id": "DNVDb9JG39De",
        "outputId": "73709e72-ede9-46cc-f432-365448b2dbad",
        "colab": {
          "base_uri": "https://localhost:8080/"
        }
      },
      "outputs": [
        {
          "output_type": "stream",
          "name": "stdout",
          "text": [
            "[1, 2, 3]\n",
            "[1, 3, 2]\n",
            "[2, 1, 3]\n",
            "[2, 3, 1]\n",
            "[3, 1, 2]\n",
            "[3, 2, 1]\n"
          ]
        }
      ],
      "source": [
        "def f(list_start: list, list_remain: list):\n",
        "    if len(list_remain) == 1:\n",
        "        print(list_start+list_remain)\n",
        "    else:\n",
        "        for i in range(len(list_remain)):\n",
        "            list_temp_remain = list_remain.copy()\n",
        "            f(list_start+[list_temp_remain.pop(i)], list_temp_remain)\n",
        "\n",
        "\n",
        "l = [1, 2, 3]\n",
        "f([], l)\n"
      ]
    },
    {
      "cell_type": "code",
      "execution_count": null,
      "metadata": {
        "id": "IebDtjBsiYxZ",
        "outputId": "7901bd1c-97b4-4e4f-89fd-14ab9a5789b5",
        "colab": {
          "base_uri": "https://localhost:8080/"
        }
      },
      "outputs": [
        {
          "output_type": "stream",
          "name": "stdout",
          "text": [
            "[[3, 2, 1], [2, 3, 1], [2, 1, 3], [3, 1, 2], [1, 3, 2], [1, 2, 3]]\n"
          ]
        }
      ],
      "source": [
        "import copy\n",
        "\n",
        "def allPermutation(n):\n",
        "    all_permutation = [[1]]\n",
        "    for i in range(1, n):\n",
        "        update_permutation = []\n",
        "        len1 = len(all_permutation)\n",
        "        for j in range(len1):\n",
        "            len2 = len(all_permutation[j]) + 1\n",
        "            for k in range(len2):\n",
        "                perm = copy.deepcopy(all_permutation[j])\n",
        "                perm.insert(k, i + 1)\n",
        "                update_permutation.append(perm)\n",
        "        all_permutation = update_permutation\n",
        "    return all_permutation\n",
        "\n",
        "\n",
        "print(allPermutation(3))"
      ]
    },
    {
      "cell_type": "markdown",
      "metadata": {
        "id": "p8zD_6y9iiQe"
      },
      "source": [
        "## AQ2"
      ]
    },
    {
      "cell_type": "markdown",
      "source": [
        "[AQ2] Considering the following problem, answer the questions:\n",
        "\n",
        "Alex has a ribbon of length N. He wants to cut the ribbon in a way that fulfils the following three conditions:\n",
        "\n",
        "Each piece of the cut should have an integer length.\n",
        "\n",
        "He should at least cut the ribbon once.\n",
        "\n",
        "The multiplication of the length of all the pieces be the maximum possible"
      ],
      "metadata": {
        "id": "GczXKunk4xQo"
      }
    },
    {
      "cell_type": "markdown",
      "source": [
        "1 Implement a recursive algorithm to help Alex find the maximum possible value after multiplying the length of the pieces. Explain your algorithm in detail."
      ],
      "metadata": {
        "id": "Ucie3Fzn7Vo_"
      }
    },
    {
      "cell_type": "code",
      "execution_count": null,
      "metadata": {
        "id": "GNjXrWahii0S",
        "colab": {
          "base_uri": "https://localhost:8080/",
          "height": 53
        },
        "outputId": "457ad41f-938d-4626-fb0f-f4fbd0e5165a"
      },
      "outputs": [
        {
          "output_type": "execute_result",
          "data": {
            "text/plain": [
              "'\\nThe product is maximized when all segments are of equal length. The optimal number of segments is 3.\\n\\nEach time we cut a piece of ribbon into two pieces, the remaining pieces can be cut or not, so we get a recursive function.\\n\\nF(n)=max(i×(n−i),i×F(n−i)),i=1,2,...,n−2。\\n'"
            ],
            "application/vnd.google.colaboratory.intrinsic+json": {
              "type": "string"
            }
          },
          "metadata": {},
          "execution_count": 50
        }
      ],
      "source": [
        "def cuttingRibbon1(self, n: int) -> int:\n",
        "  if n == 2:\n",
        "    return 1\n",
        "    res = -1\n",
        "    for i in range(1, n):\n",
        "      res = max(res, max(i * self.cuttingRope(n - i),i * (n - i)))\n",
        "  return res\n",
        "\n",
        "\"\"\"\n",
        "The product is maximized when all segments are of equal length. The optimal number of segments is 3.\n",
        "\n",
        "Each time we cut a piece of ribbon into two pieces, the remaining pieces can be cut or not, so we get a recursive function.\n",
        "\n",
        "F(n)=max(i×(n−i),i×F(n−i)),i=1,2,...,n−2。\n",
        "\"\"\""
      ]
    },
    {
      "cell_type": "markdown",
      "source": [
        "2 Show that the algorithm has exponential running time."
      ],
      "metadata": {
        "id": "zFuT6jOl8FfC"
      }
    },
    {
      "cell_type": "markdown",
      "source": [
        "The ribbon are divided into up to n segments, each with a length of 1 and a recursive depth of n. So the running time is exponential."
      ],
      "metadata": {
        "id": "Nmv_xbQYGFWo"
      }
    },
    {
      "cell_type": "markdown",
      "source": [
        "3 Now provide a polynomial solution, based on dynamic programming, and compute its running-time complexity."
      ],
      "metadata": {
        "id": "KU17QP1s9HPs"
      }
    },
    {
      "cell_type": "code",
      "source": [
        "def cuttingRibbon2(n: int) -> int:\n",
        "  dp = [0 for _ in range(n + 1)]\n",
        "  dp[2] = 1\n",
        "  for i in range(3, n + 1):\n",
        "    for j in range(i):\n",
        "      dp[i] = max(dp[i], max((i - j) * j, j * dp[i - j]))\n",
        "  return dp[n]"
      ],
      "metadata": {
        "id": "5jWKfNJB9Qnd"
      },
      "execution_count": null,
      "outputs": []
    },
    {
      "cell_type": "markdown",
      "source": [
        "running-time complexity: O(n^2)"
      ],
      "metadata": {
        "id": "SblAFBpk9h7O"
      }
    },
    {
      "cell_type": "markdown",
      "source": [
        "4.Evaluate the running time of your algorithm for the sizes (Ns) in the range of [2, 25], plot the results, and interpret it (if you have implemented two algorithms, please include both in the plot and compare them)."
      ],
      "metadata": {
        "id": "6sUVSdm09vT4"
      }
    },
    {
      "cell_type": "code",
      "source": [
        "for k in range(2, 25):\n",
        "  start = time.clock()\n",
        "  cuttingRibbon2(k)\n",
        "  end = time.clock()\n",
        "  print (end - start)"
      ],
      "metadata": {
        "colab": {
          "base_uri": "https://localhost:8080/"
        },
        "id": "NmnDojs7s0v3",
        "outputId": "622c218a-a01a-4ba7-af21-b75fadfe05ea"
      },
      "execution_count": null,
      "outputs": [
        {
          "output_type": "stream",
          "name": "stdout",
          "text": [
            "0.00011100000000396903\n",
            "1.3000000024021574e-05\n",
            "1.2000000026546331e-05\n",
            "1.5999999959603883e-05\n",
            "2.0000000006348273e-05\n",
            "3.299999997352643e-05\n",
            "3.299999997352643e-05\n",
            "4.3000000005122274e-05\n",
            "5.0999999984924216e-05\n",
            "5.9000000021569576e-05\n",
            "7.600000003549212e-05\n",
            "7.700000003296736e-05\n",
            "8.300000001781882e-05\n",
            "9.699999998247222e-05\n",
            "0.00011299999999891952\n",
            "0.00012299999997367195\n",
            "0.00012599999996609768\n",
            "0.00014599999997244595\n",
            "0.00020900000004075991\n",
            "0.0002270000000521577\n",
            "0.0004389999999716565\n",
            "0.0002579999999738902\n",
            "0.00026300000001810986\n"
          ]
        },
        {
          "output_type": "stream",
          "name": "stderr",
          "text": [
            "/usr/local/lib/python3.7/dist-packages/ipykernel_launcher.py:2: DeprecationWarning: time.clock has been deprecated in Python 3.3 and will be removed from Python 3.8: use time.perf_counter or time.process_time instead\n",
            "  \n",
            "/usr/local/lib/python3.7/dist-packages/ipykernel_launcher.py:4: DeprecationWarning: time.clock has been deprecated in Python 3.3 and will be removed from Python 3.8: use time.perf_counter or time.process_time instead\n",
            "  after removing the cwd from sys.path.\n"
          ]
        }
      ]
    },
    {
      "cell_type": "markdown",
      "source": [
        "5.(Optional, mini bonus) Is the algorithm of question 3 optimal? If you belive it, can you prove it? If not, can you find a faster algorithm? In case you found a faster algorithm implement it and explain your algorithm in detail."
      ],
      "metadata": {
        "id": "ACvLrDEu9zmu"
      }
    },
    {
      "cell_type": "code",
      "source": [
        "\"\"\"\n",
        "We find that any number greater than 3 can be split into the sum of the numbers 1, 2, 3, \n",
        "and their remainder to 3 is always 0, 1, 2 \n",
        "so we can just use dp[0], dp[1], dp [2] means all values greater than 3.\n",
        "In this way, the repeated use of the dp array can be completed with only one traversal, and the time complexity can be reduced to O(N).\n",
        "\"\"\"\n",
        "\n",
        "def cuttingRibbon3(self, n):\n",
        "  dp = [0, 1, 1]\n",
        "  for i in range(3, n + 1):\n",
        "    dp[i % 3] = max(max(dp[(i - 1) % 3], i - 1),\n",
        "                    2 * max(dp[(i - 2) % 3], i - 2),\n",
        "                    3 * max(dp[(i - 3) % 3], i - 3))\n",
        "return dp[n % 3]"
      ],
      "metadata": {
        "id": "m1sY0Zni98uG"
      },
      "execution_count": null,
      "outputs": []
    }
  ],
  "metadata": {
    "colab": {
      "provenance": [],
      "include_colab_link": true
    },
    "kernelspec": {
      "display_name": "Python 3",
      "name": "python3"
    },
    "language_info": {
      "name": "python"
    }
  },
  "nbformat": 4,
  "nbformat_minor": 0
}